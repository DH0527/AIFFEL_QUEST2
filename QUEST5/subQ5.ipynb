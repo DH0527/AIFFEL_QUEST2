{
 "cells": [
  {
   "cell_type": "code",
   "execution_count": 2,
   "id": "9ef271be",
   "metadata": {},
   "outputs": [],
   "source": [
    "import gensim\n",
    "import os\n",
    "from konlpy.tag import Mecab\n",
    "from collections import Counter\n",
    "import pandas as pd\n",
    "import numpy as np\n",
    "import tensorflow as tf\n",
    "import matplotlib.pyplot as plt"
   ]
  },
  {
   "cell_type": "code",
   "execution_count": 3,
   "id": "b6bd8326",
   "metadata": {},
   "outputs": [
    {
     "data": {
      "text/html": [
       "<div>\n",
       "<style scoped>\n",
       "    .dataframe tbody tr th:only-of-type {\n",
       "        vertical-align: middle;\n",
       "    }\n",
       "\n",
       "    .dataframe tbody tr th {\n",
       "        vertical-align: top;\n",
       "    }\n",
       "\n",
       "    .dataframe thead th {\n",
       "        text-align: right;\n",
       "    }\n",
       "</style>\n",
       "<table border=\"1\" class=\"dataframe\">\n",
       "  <thead>\n",
       "    <tr style=\"text-align: right;\">\n",
       "      <th></th>\n",
       "      <th>id</th>\n",
       "      <th>document</th>\n",
       "      <th>label</th>\n",
       "    </tr>\n",
       "  </thead>\n",
       "  <tbody>\n",
       "    <tr>\n",
       "      <th>0</th>\n",
       "      <td>9976970</td>\n",
       "      <td>아 더빙.. 진짜 짜증나네요 목소리</td>\n",
       "      <td>0</td>\n",
       "    </tr>\n",
       "    <tr>\n",
       "      <th>1</th>\n",
       "      <td>3819312</td>\n",
       "      <td>흠...포스터보고 초딩영화줄....오버연기조차 가볍지 않구나</td>\n",
       "      <td>1</td>\n",
       "    </tr>\n",
       "    <tr>\n",
       "      <th>2</th>\n",
       "      <td>10265843</td>\n",
       "      <td>너무재밓었다그래서보는것을추천한다</td>\n",
       "      <td>0</td>\n",
       "    </tr>\n",
       "    <tr>\n",
       "      <th>3</th>\n",
       "      <td>9045019</td>\n",
       "      <td>교도소 이야기구먼 ..솔직히 재미는 없다..평점 조정</td>\n",
       "      <td>0</td>\n",
       "    </tr>\n",
       "    <tr>\n",
       "      <th>4</th>\n",
       "      <td>6483659</td>\n",
       "      <td>사이몬페그의 익살스런 연기가 돋보였던 영화!스파이더맨에서 늙어보이기만 했던 커스틴 ...</td>\n",
       "      <td>1</td>\n",
       "    </tr>\n",
       "  </tbody>\n",
       "</table>\n",
       "</div>"
      ],
      "text/plain": [
       "         id                                           document  label\n",
       "0   9976970                                아 더빙.. 진짜 짜증나네요 목소리      0\n",
       "1   3819312                  흠...포스터보고 초딩영화줄....오버연기조차 가볍지 않구나      1\n",
       "2  10265843                                  너무재밓었다그래서보는것을추천한다      0\n",
       "3   9045019                      교도소 이야기구먼 ..솔직히 재미는 없다..평점 조정      0\n",
       "4   6483659  사이몬페그의 익살스런 연기가 돋보였던 영화!스파이더맨에서 늙어보이기만 했던 커스틴 ...      1"
      ]
     },
     "execution_count": 3,
     "metadata": {},
     "output_type": "execute_result"
    }
   ],
   "source": [
    "# 데이터 로드\n",
    "train_data = pd.read_table('~/aiffel/sentiment_classification/data/ratings_train.txt')\n",
    "test_data = pd.read_table('~/aiffel/sentiment_classification/data/ratings_test.txt')\n",
    "\n",
    "train_data.head()"
   ]
  },
  {
   "cell_type": "code",
   "execution_count": 4,
   "id": "804ed1ee",
   "metadata": {},
   "outputs": [
    {
     "name": "stdout",
     "output_type": "stream",
     "text": [
      "<class 'pandas.core.frame.DataFrame'>\n",
      "RangeIndex: 150000 entries, 0 to 149999\n",
      "Data columns (total 3 columns):\n",
      " #   Column    Non-Null Count   Dtype \n",
      "---  ------    --------------   ----- \n",
      " 0   id        150000 non-null  int64 \n",
      " 1   document  149995 non-null  object\n",
      " 2   label     150000 non-null  int64 \n",
      "dtypes: int64(2), object(1)\n",
      "memory usage: 3.4+ MB\n"
     ]
    }
   ],
   "source": [
    "# 데이터 전처리\n",
    "# train_data 확인\n",
    "train_data.info()"
   ]
  },
  {
   "cell_type": "code",
   "execution_count": 5,
   "id": "9a2473b8",
   "metadata": {},
   "outputs": [
    {
     "name": "stdout",
     "output_type": "stream",
     "text": [
      "<class 'pandas.core.frame.DataFrame'>\n",
      "RangeIndex: 50000 entries, 0 to 49999\n",
      "Data columns (total 3 columns):\n",
      " #   Column    Non-Null Count  Dtype \n",
      "---  ------    --------------  ----- \n",
      " 0   id        50000 non-null  int64 \n",
      " 1   document  49997 non-null  object\n",
      " 2   label     50000 non-null  int64 \n",
      "dtypes: int64(2), object(1)\n",
      "memory usage: 1.1+ MB\n"
     ]
    }
   ],
   "source": [
    "# test_data 확인\n",
    "test_data.info()"
   ]
  },
  {
   "cell_type": "code",
   "execution_count": 6,
   "id": "0444dca0",
   "metadata": {},
   "outputs": [
    {
     "data": {
      "text/plain": [
       "id          0\n",
       "document    5\n",
       "label       0\n",
       "dtype: int64"
      ]
     },
     "execution_count": 6,
     "metadata": {},
     "output_type": "execute_result"
    }
   ],
   "source": [
    "# train_data 결측값 개수 확인\n",
    "train_data.isna().sum()"
   ]
  },
  {
   "cell_type": "code",
   "execution_count": 7,
   "id": "a08fd364",
   "metadata": {},
   "outputs": [
    {
     "data": {
      "text/plain": [
       "id          0\n",
       "document    3\n",
       "label       0\n",
       "dtype: int64"
      ]
     },
     "execution_count": 7,
     "metadata": {},
     "output_type": "execute_result"
    }
   ],
   "source": [
    "# test_data 결측값 개수 확인\n",
    "test_data.isna().sum()"
   ]
  },
  {
   "cell_type": "code",
   "execution_count": 8,
   "id": "97b13ef1",
   "metadata": {},
   "outputs": [
    {
     "data": {
      "text/plain": [
       "0"
      ]
     },
     "execution_count": 8,
     "metadata": {},
     "output_type": "execute_result"
    }
   ],
   "source": [
    "# train_data 중복 개수 확인\n",
    "train_data.duplicated(keep = False).sum()"
   ]
  },
  {
   "cell_type": "code",
   "execution_count": 9,
   "id": "6a5e6704",
   "metadata": {},
   "outputs": [
    {
     "data": {
      "text/plain": [
       "0"
      ]
     },
     "execution_count": 9,
     "metadata": {},
     "output_type": "execute_result"
    }
   ],
   "source": [
    "# test_data 중복 개수 확인\n",
    "test_data.duplicated(keep = False).sum()"
   ]
  },
  {
   "cell_type": "code",
   "execution_count": 10,
   "id": "8dde4075",
   "metadata": {},
   "outputs": [
    {
     "data": {
      "text/html": [
       "<div>\n",
       "<style scoped>\n",
       "    .dataframe tbody tr th:only-of-type {\n",
       "        vertical-align: middle;\n",
       "    }\n",
       "\n",
       "    .dataframe tbody tr th {\n",
       "        vertical-align: top;\n",
       "    }\n",
       "\n",
       "    .dataframe thead th {\n",
       "        text-align: right;\n",
       "    }\n",
       "</style>\n",
       "<table border=\"1\" class=\"dataframe\">\n",
       "  <thead>\n",
       "    <tr style=\"text-align: right;\">\n",
       "      <th></th>\n",
       "      <th>id</th>\n",
       "      <th>document</th>\n",
       "      <th>label</th>\n",
       "    </tr>\n",
       "  </thead>\n",
       "  <tbody>\n",
       "    <tr>\n",
       "      <th>0</th>\n",
       "      <td>9976970</td>\n",
       "      <td>아 더빙.. 진짜 짜증나네요 목소리</td>\n",
       "      <td>0</td>\n",
       "    </tr>\n",
       "    <tr>\n",
       "      <th>1</th>\n",
       "      <td>3819312</td>\n",
       "      <td>흠...포스터보고 초딩영화줄....오버연기조차 가볍지 않구나</td>\n",
       "      <td>1</td>\n",
       "    </tr>\n",
       "    <tr>\n",
       "      <th>2</th>\n",
       "      <td>10265843</td>\n",
       "      <td>너무재밓었다그래서보는것을추천한다</td>\n",
       "      <td>0</td>\n",
       "    </tr>\n",
       "    <tr>\n",
       "      <th>3</th>\n",
       "      <td>9045019</td>\n",
       "      <td>교도소 이야기구먼 ..솔직히 재미는 없다..평점 조정</td>\n",
       "      <td>0</td>\n",
       "    </tr>\n",
       "    <tr>\n",
       "      <th>4</th>\n",
       "      <td>6483659</td>\n",
       "      <td>사이몬페그의 익살스런 연기가 돋보였던 영화!스파이더맨에서 늙어보이기만 했던 커스틴 ...</td>\n",
       "      <td>1</td>\n",
       "    </tr>\n",
       "  </tbody>\n",
       "</table>\n",
       "</div>"
      ],
      "text/plain": [
       "         id                                           document  label\n",
       "0   9976970                                아 더빙.. 진짜 짜증나네요 목소리      0\n",
       "1   3819312                  흠...포스터보고 초딩영화줄....오버연기조차 가볍지 않구나      1\n",
       "2  10265843                                  너무재밓었다그래서보는것을추천한다      0\n",
       "3   9045019                      교도소 이야기구먼 ..솔직히 재미는 없다..평점 조정      0\n",
       "4   6483659  사이몬페그의 익살스런 연기가 돋보였던 영화!스파이더맨에서 늙어보이기만 했던 커스틴 ...      1"
      ]
     },
     "execution_count": 10,
     "metadata": {},
     "output_type": "execute_result"
    }
   ],
   "source": [
    "train_data.head()"
   ]
  },
  {
   "cell_type": "code",
   "execution_count": 11,
   "id": "bf052885",
   "metadata": {},
   "outputs": [],
   "source": [
    "# Mecab api 정보 https://konlpy.org/ko/latest/api/konlpy.tag/#mecab-class\n",
    "tokenizer = Mecab()\n",
    "stopwords = ['의','가','이','은','들','는','좀','잘','걍','과','도','를','으로','자','에','와','한','하다']"
   ]
  },
  {
   "cell_type": "code",
   "execution_count": 12,
   "id": "c162b26f",
   "metadata": {},
   "outputs": [],
   "source": [
    "num_words = 10000"
   ]
  },
  {
   "cell_type": "code",
   "execution_count": 14,
   "id": "5349ada2",
   "metadata": {},
   "outputs": [],
   "source": [
    "def get_encoded_word_vec(word_vec, word_to_index):\n",
    "    return [word_to_index['<BOS>']] + [word_to_index[word] if word in word_to_index else word_to_index['<UNK>'] for word in word_vec]"
   ]
  },
  {
   "cell_type": "code",
   "execution_count": 15,
   "id": "f10c6188",
   "metadata": {},
   "outputs": [],
   "source": [
    "def get_encoded_word_vecs(word_vecs, word_to_index):\n",
    "    return [get_encoded_word_vec(word_vec, word_to_index) for word_vec in word_vecs]"
   ]
  },
  {
   "cell_type": "code",
   "execution_count": 16,
   "id": "8c0cb3c4",
   "metadata": {},
   "outputs": [],
   "source": [
    "def get_decoded_word_vec(enc_word_vec, index_to_word):\n",
    "    return [index_to_word[index] if index in index_to_word else '<UNK>' for index in enc_word_vec[1:]]"
   ]
  },
  {
   "cell_type": "code",
   "execution_count": 17,
   "id": "362f75e1",
   "metadata": {},
   "outputs": [],
   "source": [
    "def get_decoded_word_vecs(enc_word_vecs, index_to_word):\n",
    "    return [get_decoded_word_vec(enc_word_vec, index_to_word) for enc_word_vec in enc_word_vecs]"
   ]
  },
  {
   "cell_type": "code",
   "execution_count": 20,
   "id": "035447f9",
   "metadata": {},
   "outputs": [],
   "source": [
    "def load_data(train_data, test_data, num_words):\n",
    "    # 데이터 중복 및 결측치 제거\n",
    "    train_data.drop_duplicates(subset=['document'], inplace=True)\n",
    "    train_data = train_data.dropna(how = 'any') \n",
    "    test_data.drop_duplicates(subset=['document'], inplace=True)\n",
    "    test_data = test_data.dropna(how = 'any')\n",
    "\n",
    "    X_train = []\n",
    "    for sentence in train_data['document']:\n",
    "        # 문장을 형태소로 분리하고 stopwords에 없는 단어들만 추가\n",
    "        token_X = tokenizer.morphs(sentence)\n",
    "        X_train.append([word for word in token_X if not word in stopwords])\n",
    "\n",
    "    X_test = []\n",
    "    for sentence in test_data['document']:\n",
    "        # 문장을 형태소로 분리하고 stopwords에 없는 단어들만 추가\n",
    "        token_X = tokenizer.morphs(sentence)\n",
    "        X_test.append([word for word in token_X if not word in stopwords])\n",
    "    \n",
    "    # 가장 빈도수가 높은 10000개 단어 선택\n",
    "    words = np.concatenate(X_train).tolist()\n",
    "    counter = Counter(words)\n",
    "    counter = counter.most_common(num_words - 4)\n",
    "\n",
    "    # 단어 사전 구성\n",
    "    vocab = [\"<PAD>\", \"<BOS>\", \"<UNK>\", \"<UNUSED>\"] + [key for key, _ in counter]\n",
    "    index_to_word = {index : word for index, word in enumerate(vocab)}\n",
    "    word_to_index = {word : index for index, word in enumerate(vocab)}\n",
    "\n",
    "    X_train = get_encoded_word_vecs(X_train, word_to_index)\n",
    "    X_test = get_encoded_word_vecs(X_test, word_to_index)\n",
    "    y_train = list(train_data['label'])\n",
    "    y_test = list(test_data['label'])\n",
    "    \n",
    "    return X_train, np.array(y_train), X_test, np.array(y_test), index_to_word, word_to_index"
   ]
  },
  {
   "cell_type": "code",
   "execution_count": 21,
   "id": "b241702b",
   "metadata": {},
   "outputs": [],
   "source": [
    "X_train, y_train, X_test, y_test, index_to_word, word_to_index = load_data(train_data, test_data, num_words)"
   ]
  },
  {
   "cell_type": "code",
   "execution_count": 22,
   "id": "a3473113",
   "metadata": {},
   "outputs": [
    {
     "name": "stdout",
     "output_type": "stream",
     "text": [
      "문장길이 평균 : 16.96940191154864\n",
      "문장길이 최대 : 117\n",
      "문장길이 표준편차 : 12.843571191092\n",
      "maxlen : 42\n",
      "전체 문장의  93.1%가 maxlen 설정값 이내에 포함\n"
     ]
    }
   ],
   "source": [
    "# 텍스트데이터 문장길이 리스트 생성\n",
    "num_tokens = [len(tokens) for tokens in (X_train + X_test)]\n",
    "num_tokens = np.array(num_tokens)\n",
    "\n",
    "# 문장길이의 평균값, 최대값, 표준편차\n",
    "print('문장길이 평균 :', np.mean(num_tokens))\n",
    "print('문장길이 최대 :', np.max(num_tokens))\n",
    "print('문장길이 표준편차 :', np.std(num_tokens))\n",
    "\n",
    "# 최대 길이는 (평균 + 2*표준편차)로 설정\n",
    "maxlen = int(np.mean(num_tokens) + 2 * np.std(num_tokens))\n",
    "print('maxlen :', maxlen)\n",
    "print(f'전체 문장의 {np.sum(num_tokens < maxlen) / len(num_tokens) * 100 : .1f}%가 maxlen 설정값 이내에 포함')"
   ]
  },
  {
   "cell_type": "code",
   "execution_count": 23,
   "id": "79f7f0d9",
   "metadata": {},
   "outputs": [],
   "source": [
    "# 최대 문장을 기준으로 padding 추가\n",
    "X_train = tf.keras.preprocessing.sequence.pad_sequences(X_train,\n",
    "                                                        value=word_to_index[\"<PAD>\"],\n",
    "                                                        padding='pre',\n",
    "                                                        maxlen=maxlen)\n",
    "\n",
    "X_test = tf.keras.preprocessing.sequence.pad_sequences(X_test,\n",
    "                                                       value=word_to_index[\"<PAD>\"],\n",
    "                                                       padding='pre',\n",
    "                                                       maxlen=maxlen)"
   ]
  },
  {
   "cell_type": "code",
   "execution_count": 24,
   "id": "2bbf20a8",
   "metadata": {},
   "outputs": [
    {
     "name": "stdout",
     "output_type": "stream",
     "text": [
      "(146182, 42) (146182,) (49157, 42) (49157,)\n"
     ]
    }
   ],
   "source": [
    "print(X_train.shape, y_train.shape, X_test.shape, y_test.shape)"
   ]
  },
  {
   "cell_type": "code",
   "execution_count": 25,
   "id": "da481394",
   "metadata": {},
   "outputs": [
    {
     "name": "stdout",
     "output_type": "stream",
     "text": [
      "Model: \"cnn_16\"\n",
      "_________________________________________________________________\n",
      "Layer (type)                 Output Shape              Param #   \n",
      "=================================================================\n",
      "embedding (Embedding)        (None, None, 16)          160000    \n",
      "_________________________________________________________________\n",
      "conv1d (Conv1D)              (None, None, 16)          1808      \n",
      "_________________________________________________________________\n",
      "max_pooling1d (MaxPooling1D) (None, None, 16)          0         \n",
      "_________________________________________________________________\n",
      "conv1d_1 (Conv1D)            (None, None, 16)          1808      \n",
      "_________________________________________________________________\n",
      "global_max_pooling1d (Global (None, 16)                0         \n",
      "_________________________________________________________________\n",
      "dense (Dense)                (None, 8)                 136       \n",
      "_________________________________________________________________\n",
      "dense_1 (Dense)              (None, 1)                 9         \n",
      "=================================================================\n",
      "Total params: 163,761\n",
      "Trainable params: 163,761\n",
      "Non-trainable params: 0\n",
      "_________________________________________________________________\n"
     ]
    }
   ],
   "source": [
    "word_vector_dim = 16 # 워드 벡터의 차원 수\n",
    "\n",
    "cnn_16 = tf.keras.Sequential(name='cnn_16')\n",
    "cnn_16.add(tf.keras.layers.Embedding(num_words, word_vector_dim, input_shape=(None,)))\n",
    "cnn_16.add(tf.keras.layers.Conv1D(16, 7, activation='relu'))\n",
    "cnn_16.add(tf.keras.layers.MaxPooling1D(5))\n",
    "cnn_16.add(tf.keras.layers.Conv1D(16, 7, activation='relu'))\n",
    "cnn_16.add(tf.keras.layers.GlobalMaxPooling1D())\n",
    "cnn_16.add(tf.keras.layers.Dense(8, activation='relu'))\n",
    "cnn_16.add(tf.keras.layers.Dense(1, activation='sigmoid'))  # 최종 출력은 긍정/부정을 나타내는 1dim\n",
    "\n",
    "cnn_16.summary()"
   ]
  },
  {
   "cell_type": "code",
   "execution_count": 26,
   "id": "b1b7e568",
   "metadata": {},
   "outputs": [
    {
     "name": "stdout",
     "output_type": "stream",
     "text": [
      "Model: \"cnn_32\"\n",
      "_________________________________________________________________\n",
      "Layer (type)                 Output Shape              Param #   \n",
      "=================================================================\n",
      "embedding_1 (Embedding)      (None, None, 32)          320000    \n",
      "_________________________________________________________________\n",
      "conv1d_2 (Conv1D)            (None, None, 32)          7200      \n",
      "_________________________________________________________________\n",
      "max_pooling1d_1 (MaxPooling1 (None, None, 32)          0         \n",
      "_________________________________________________________________\n",
      "conv1d_3 (Conv1D)            (None, None, 16)          3600      \n",
      "_________________________________________________________________\n",
      "global_max_pooling1d_1 (Glob (None, 16)                0         \n",
      "_________________________________________________________________\n",
      "dense_2 (Dense)              (None, 8)                 136       \n",
      "_________________________________________________________________\n",
      "dense_3 (Dense)              (None, 1)                 9         \n",
      "=================================================================\n",
      "Total params: 330,945\n",
      "Trainable params: 330,945\n",
      "Non-trainable params: 0\n",
      "_________________________________________________________________\n"
     ]
    }
   ],
   "source": [
    "word_vector_dim = 32  # 워드 벡터의 차원 수 (변경 가능한 하이퍼파라미터)\n",
    "\n",
    "cnn_32 = tf.keras.Sequential(name='cnn_32')\n",
    "cnn_32.add(tf.keras.layers.Embedding(num_words, word_vector_dim, input_shape=(None,)))\n",
    "cnn_32.add(tf.keras.layers.Conv1D(32, 7, activation='relu'))\n",
    "cnn_32.add(tf.keras.layers.MaxPooling1D(5))\n",
    "cnn_32.add(tf.keras.layers.Conv1D(16, 7, activation='relu'))\n",
    "cnn_32.add(tf.keras.layers.GlobalMaxPooling1D())\n",
    "cnn_32.add(tf.keras.layers.Dense(8, activation='relu'))\n",
    "cnn_32.add(tf.keras.layers.Dense(1, activation='sigmoid'))  # 최종 출력은 긍정/부정을 나타내는 1dim\n",
    "\n",
    "cnn_32.summary()"
   ]
  },
  {
   "cell_type": "code",
   "execution_count": 27,
   "id": "cbb6277a",
   "metadata": {},
   "outputs": [
    {
     "name": "stdout",
     "output_type": "stream",
     "text": [
      "Model: \"lstm\"\n",
      "_________________________________________________________________\n",
      "Layer (type)                 Output Shape              Param #   \n",
      "=================================================================\n",
      "embedding_2 (Embedding)      (None, None, 16)          160000    \n",
      "_________________________________________________________________\n",
      "lstm (LSTM)                  (None, 16)                2112      \n",
      "_________________________________________________________________\n",
      "dense_4 (Dense)              (None, 8)                 136       \n",
      "_________________________________________________________________\n",
      "dense_5 (Dense)              (None, 1)                 9         \n",
      "=================================================================\n",
      "Total params: 162,257\n",
      "Trainable params: 162,257\n",
      "Non-trainable params: 0\n",
      "_________________________________________________________________\n"
     ]
    }
   ],
   "source": [
    "word_vector_dim = 16 # 워드 벡터의 차원 수\n",
    "\n",
    "lstm = tf.keras.Sequential(name='lstm')\n",
    "lstm.add(tf.keras.layers.Embedding(num_words, word_vector_dim, input_shape=(None,)))\n",
    "lstm.add(tf.keras.layers.LSTM(16))\n",
    "lstm.add(tf.keras.layers.Dense(8, activation='relu'))\n",
    "lstm.add(tf.keras.layers.Dense(1, activation='sigmoid'))  # 최종 출력은 긍정/부정을 나타내는 1dim\n",
    "\n",
    "lstm.summary()"
   ]
  },
  {
   "cell_type": "code",
   "execution_count": 28,
   "id": "e3d94f40",
   "metadata": {},
   "outputs": [
    {
     "name": "stdout",
     "output_type": "stream",
     "text": [
      "Model: \"gmp\"\n",
      "_________________________________________________________________\n",
      "Layer (type)                 Output Shape              Param #   \n",
      "=================================================================\n",
      "embedding_3 (Embedding)      (None, None, 16)          160000    \n",
      "_________________________________________________________________\n",
      "global_max_pooling1d_2 (Glob (None, 16)                0         \n",
      "_________________________________________________________________\n",
      "dense_6 (Dense)              (None, 8)                 136       \n",
      "_________________________________________________________________\n",
      "dense_7 (Dense)              (None, 1)                 9         \n",
      "=================================================================\n",
      "Total params: 160,145\n",
      "Trainable params: 160,145\n",
      "Non-trainable params: 0\n",
      "_________________________________________________________________\n"
     ]
    }
   ],
   "source": [
    "word_vector_dim = 16 # 워드 벡터의 차원 수\n",
    "\n",
    "gmp = tf.keras.Sequential(name='gmp')\n",
    "gmp.add(tf.keras.layers.Embedding(num_words, word_vector_dim, input_shape=(None,)))\n",
    "gmp.add(tf.keras.layers.GlobalMaxPooling1D())\n",
    "gmp.add(tf.keras.layers.Dense(8, activation='relu'))\n",
    "gmp.add(tf.keras.layers.Dense(1, activation='sigmoid'))  # 최종 출력은 긍정/부정을 나타내는 1dim 입니다.\n",
    "\n",
    "gmp.summary()"
   ]
  },
  {
   "cell_type": "code",
   "execution_count": 29,
   "id": "6bbf9c7c",
   "metadata": {},
   "outputs": [],
   "source": [
    "models = [cnn_16, cnn_32, lstm, gmp]"
   ]
  },
  {
   "cell_type": "code",
   "execution_count": 30,
   "id": "aa6cc21f",
   "metadata": {},
   "outputs": [],
   "source": [
    "# validation set 분리\n",
    "val_num = 50000\n",
    "X_val = X_train[:val_num]\n",
    "y_val = y_train[:val_num]\n",
    "\n",
    "# validation set을 제외한 나머지\n",
    "par_X_train = X_train[val_num:]  \n",
    "par_y_train = y_train[val_num:]\n",
    "\n",
    "history_dist = {}"
   ]
  },
  {
   "cell_type": "code",
   "execution_count": 31,
   "id": "b868a910",
   "metadata": {},
   "outputs": [
    {
     "name": "stdout",
     "output_type": "stream",
     "text": [
      "cnn_16 train start\n",
      "Epoch 1/10\n",
      "188/188 [==============================] - 37s 8ms/step - loss: 0.5352 - accuracy: 0.7246 - val_loss: 0.3804 - val_accuracy: 0.8320\n",
      "Epoch 2/10\n",
      "188/188 [==============================] - 1s 6ms/step - loss: 0.3490 - accuracy: 0.8483 - val_loss: 0.3589 - val_accuracy: 0.8409\n",
      "Epoch 3/10\n",
      "188/188 [==============================] - 1s 6ms/step - loss: 0.3076 - accuracy: 0.8695 - val_loss: 0.3623 - val_accuracy: 0.8399\n",
      "Epoch 4/10\n",
      "188/188 [==============================] - 1s 5ms/step - loss: 0.2773 - accuracy: 0.8854 - val_loss: 0.3709 - val_accuracy: 0.8392\n",
      "Epoch 5/10\n",
      "188/188 [==============================] - 1s 5ms/step - loss: 0.2451 - accuracy: 0.9016 - val_loss: 0.3823 - val_accuracy: 0.8382\n",
      "Epoch 6/10\n",
      "188/188 [==============================] - 1s 6ms/step - loss: 0.2114 - accuracy: 0.9192 - val_loss: 0.4076 - val_accuracy: 0.8352\n",
      "Epoch 7/10\n",
      "188/188 [==============================] - 1s 5ms/step - loss: 0.1789 - accuracy: 0.9338 - val_loss: 0.4515 - val_accuracy: 0.8310\n",
      "Epoch 8/10\n",
      "188/188 [==============================] - 1s 6ms/step - loss: 0.1502 - accuracy: 0.9470 - val_loss: 0.4805 - val_accuracy: 0.8282\n",
      "Epoch 9/10\n",
      "188/188 [==============================] - 1s 6ms/step - loss: 0.1250 - accuracy: 0.9575 - val_loss: 0.5364 - val_accuracy: 0.8262\n",
      "Epoch 10/10\n",
      "188/188 [==============================] - 1s 6ms/step - loss: 0.1065 - accuracy: 0.9651 - val_loss: 0.5653 - val_accuracy: 0.8227\n",
      "\n",
      "cnn_32 train start\n",
      "Epoch 1/10\n",
      "188/188 [==============================] - 2s 8ms/step - loss: 0.5060 - accuracy: 0.7367 - val_loss: 0.3693 - val_accuracy: 0.8337\n",
      "Epoch 2/10\n",
      "188/188 [==============================] - 1s 5ms/step - loss: 0.3368 - accuracy: 0.8543 - val_loss: 0.3530 - val_accuracy: 0.8442\n",
      "Epoch 3/10\n",
      "188/188 [==============================] - 1s 5ms/step - loss: 0.2928 - accuracy: 0.8756 - val_loss: 0.3535 - val_accuracy: 0.8433\n",
      "Epoch 4/10\n",
      "188/188 [==============================] - 1s 6ms/step - loss: 0.2528 - accuracy: 0.8961 - val_loss: 0.3689 - val_accuracy: 0.8418\n",
      "Epoch 5/10\n",
      "188/188 [==============================] - 1s 5ms/step - loss: 0.2086 - accuracy: 0.9179 - val_loss: 0.3983 - val_accuracy: 0.8382\n",
      "Epoch 6/10\n",
      "188/188 [==============================] - 1s 5ms/step - loss: 0.1623 - accuracy: 0.9391 - val_loss: 0.4479 - val_accuracy: 0.8337\n",
      "Epoch 7/10\n",
      "188/188 [==============================] - 1s 6ms/step - loss: 0.1229 - accuracy: 0.9561 - val_loss: 0.5144 - val_accuracy: 0.8293\n",
      "Epoch 8/10\n",
      "188/188 [==============================] - 1s 5ms/step - loss: 0.0926 - accuracy: 0.9682 - val_loss: 0.5767 - val_accuracy: 0.8285\n",
      "Epoch 9/10\n",
      "188/188 [==============================] - 1s 5ms/step - loss: 0.0717 - accuracy: 0.9761 - val_loss: 0.6464 - val_accuracy: 0.8230\n",
      "Epoch 10/10\n",
      "188/188 [==============================] - 1s 5ms/step - loss: 0.0586 - accuracy: 0.9805 - val_loss: 0.7102 - val_accuracy: 0.8228\n",
      "\n",
      "lstm train start\n",
      "Epoch 1/10\n",
      "188/188 [==============================] - 9s 9ms/step - loss: 0.5367 - accuracy: 0.7453 - val_loss: 0.3854 - val_accuracy: 0.8367\n",
      "Epoch 2/10\n",
      "188/188 [==============================] - 1s 6ms/step - loss: 0.3543 - accuracy: 0.8511 - val_loss: 0.3549 - val_accuracy: 0.8464\n",
      "Epoch 3/10\n",
      "188/188 [==============================] - 1s 6ms/step - loss: 0.3223 - accuracy: 0.8672 - val_loss: 0.3528 - val_accuracy: 0.8480\n",
      "Epoch 4/10\n",
      "188/188 [==============================] - 1s 6ms/step - loss: 0.3087 - accuracy: 0.8732 - val_loss: 0.3515 - val_accuracy: 0.8498\n",
      "Epoch 5/10\n",
      "188/188 [==============================] - 1s 6ms/step - loss: 0.2988 - accuracy: 0.8783 - val_loss: 0.3566 - val_accuracy: 0.8484\n",
      "Epoch 6/10\n",
      "188/188 [==============================] - 1s 7ms/step - loss: 0.2913 - accuracy: 0.8825 - val_loss: 0.3612 - val_accuracy: 0.8471\n",
      "Epoch 7/10\n",
      "188/188 [==============================] - 1s 6ms/step - loss: 0.2838 - accuracy: 0.8858 - val_loss: 0.3569 - val_accuracy: 0.8489\n",
      "Epoch 8/10\n",
      "188/188 [==============================] - 1s 7ms/step - loss: 0.2744 - accuracy: 0.8897 - val_loss: 0.3640 - val_accuracy: 0.8472\n",
      "Epoch 9/10\n",
      "188/188 [==============================] - 1s 7ms/step - loss: 0.2651 - accuracy: 0.8950 - val_loss: 0.3651 - val_accuracy: 0.8450\n",
      "Epoch 10/10\n",
      "188/188 [==============================] - 1s 7ms/step - loss: 0.2550 - accuracy: 0.9002 - val_loss: 0.3714 - val_accuracy: 0.8473\n",
      "\n",
      "gmp train start\n",
      "Epoch 1/10\n",
      "188/188 [==============================] - 1s 5ms/step - loss: 0.6298 - accuracy: 0.7168 - val_loss: 0.5031 - val_accuracy: 0.8012\n",
      "Epoch 2/10\n",
      "188/188 [==============================] - 1s 4ms/step - loss: 0.4190 - accuracy: 0.8253 - val_loss: 0.3820 - val_accuracy: 0.8318\n",
      "Epoch 3/10\n",
      "188/188 [==============================] - 1s 4ms/step - loss: 0.3479 - accuracy: 0.8530 - val_loss: 0.3629 - val_accuracy: 0.8395\n",
      "Epoch 4/10\n",
      "188/188 [==============================] - 1s 4ms/step - loss: 0.3159 - accuracy: 0.8687 - val_loss: 0.3575 - val_accuracy: 0.8422\n",
      "Epoch 5/10\n",
      "188/188 [==============================] - 1s 4ms/step - loss: 0.2932 - accuracy: 0.8799 - val_loss: 0.3585 - val_accuracy: 0.8441\n",
      "Epoch 6/10\n",
      "188/188 [==============================] - 1s 4ms/step - loss: 0.2752 - accuracy: 0.8881 - val_loss: 0.3640 - val_accuracy: 0.8447\n",
      "Epoch 7/10\n",
      "188/188 [==============================] - 1s 4ms/step - loss: 0.2602 - accuracy: 0.8947 - val_loss: 0.3706 - val_accuracy: 0.8428\n",
      "Epoch 8/10\n",
      "188/188 [==============================] - 1s 4ms/step - loss: 0.2473 - accuracy: 0.9009 - val_loss: 0.3781 - val_accuracy: 0.8422\n",
      "Epoch 9/10\n",
      "188/188 [==============================] - 1s 4ms/step - loss: 0.2358 - accuracy: 0.9063 - val_loss: 0.3881 - val_accuracy: 0.8413\n",
      "Epoch 10/10\n",
      "188/188 [==============================] - 1s 4ms/step - loss: 0.2255 - accuracy: 0.9113 - val_loss: 0.3981 - val_accuracy: 0.8401\n",
      "\n"
     ]
    }
   ],
   "source": [
    "for model in models:\n",
    "    print(model.name, \"train start\")\n",
    "    model.compile(optimizer='adam',\n",
    "                  loss='binary_crossentropy',\n",
    "                  metrics=['accuracy'])\n",
    "\n",
    "    epochs=10 \n",
    "\n",
    "    history = model.fit(par_X_train,\n",
    "                        np.array(par_y_train),\n",
    "                        epochs=epochs,\n",
    "                        batch_size=512,\n",
    "                        validation_data=(X_val, y_val),\n",
    "                        verbose=1)\n",
    "\n",
    "    history_dist[model.name] = history.history\n",
    "    print()"
   ]
  },
  {
   "cell_type": "code",
   "execution_count": 32,
   "id": "f133ff58",
   "metadata": {},
   "outputs": [
    {
     "name": "stdout",
     "output_type": "stream",
     "text": [
      "cnn_16 result\n",
      "1537/1537 - 3s - loss: 0.5803 - accuracy: 0.8182\n",
      "[0.5802658796310425, 0.818174421787262]\n",
      "\n",
      "cnn_32 result\n",
      "1537/1537 - 3s - loss: 0.7200 - accuracy: 0.8182\n",
      "[0.7200276851654053, 0.818174421787262]\n",
      "\n",
      "lstm result\n",
      "1537/1537 - 3s - loss: 0.3824 - accuracy: 0.8399\n",
      "[0.38242289423942566, 0.8398804068565369]\n",
      "\n",
      "gmp result\n",
      "1537/1537 - 2s - loss: 0.4081 - accuracy: 0.8352\n",
      "[0.40814098715782166, 0.8351607918739319]\n",
      "\n"
     ]
    }
   ],
   "source": [
    "for model in models:\n",
    "    print(model.name, \"result\")\n",
    "    print(model.evaluate(X_test, y_test, verbose=2))\n",
    "    print()"
   ]
  },
  {
   "cell_type": "code",
   "execution_count": 53,
   "id": "481a847c",
   "metadata": {},
   "outputs": [
    {
     "data": {
      "text/plain": [
       "<matplotlib.legend.Legend at 0x7f2df31d5370>"
      ]
     },
     "execution_count": 53,
     "metadata": {},
     "output_type": "execute_result"
    },
    {
     "data": {
      "image/png": "[encoded data removed]",
      "text/plain": [
       "<Figure size 432x288 with 1 Axes>"
      ]
     },
     "metadata": {
      "needs_background": "light"
     },
     "output_type": "display_data"
    }
   ],
   "source": [
    "plt.clf()\n",
    "i = 1\n",
    "for model, history in history_dist.items():\n",
    "    loss = history['loss']\n",
    "    val_loss = history['val_loss'] \n",
    "    \n",
    "    plt.plot(loss, label = 'loss '+str(i))\n",
    "    plt.plot(val_loss, label = 'val_loss '+str(i))\n",
    "    i += 1\n",
    "    \n",
    "plt.legend()"
   ]
  },
  {
   "cell_type": "code",
   "execution_count": 54,
   "id": "e5561882",
   "metadata": {},
   "outputs": [
    {
     "data": {
      "text/plain": [
       "<matplotlib.legend.Legend at 0x7f2df4031a90>"
      ]
     },
     "execution_count": 54,
     "metadata": {},
     "output_type": "execute_result"
    },
    {
     "data": {
      "image/png": "[encoded data removed]",
      "text/plain": [
       "<Figure size 432x288 with 1 Axes>"
      ]
     },
     "metadata": {
      "needs_background": "light"
     },
     "output_type": "display_data"
    }
   ],
   "source": [
    "plt.clf()\n",
    "i = 1\n",
    "for model, history in history_dist.items():\n",
    "    loss = history['accuracy']\n",
    "    val_loss = history['val_accuracy'] \n",
    "    \n",
    "    plt.plot(loss, label = 'accuracy '+str(i))\n",
    "    plt.plot(val_loss, label = 'val_accuracy '+str(i))\n",
    "    i += 1\n",
    "    \n",
    "plt.legend()"
   ]
  },
  {
   "cell_type": "code",
   "execution_count": null,
   "id": "608ebfe8",
   "metadata": {},
   "outputs": [],
   "source": []
  },
  {
   "cell_type": "code",
   "execution_count": null,
   "id": "24cfd7a6",
   "metadata": {},
   "outputs": [],
   "source": []
  }
 ],
 "metadata": {
  "kernelspec": {
   "display_name": "Python 3 (ipykernel)",
   "language": "python",
   "name": "python3"
  },
  "language_info": {
   "codemirror_mode": {
    "name": "ipython",
    "version": 3
   },
   "file_extension": ".py",
   "mimetype": "text/x-python",
   "name": "python",
   "nbconvert_exporter": "python",
   "pygments_lexer": "ipython3",
   "version": "3.9.7"
  }
 },
 "nbformat": 4,
 "nbformat_minor": 5
}
