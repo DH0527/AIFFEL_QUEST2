{
 "cells": [
  {
   "cell_type": "code",
   "execution_count": 2,
   "id": "49e5e879",
   "metadata": {},
   "outputs": [],
   "source": [
    "from importlib.metadata import version\n",
    "import nltk\n",
    "from nltk.corpus import stopwords\n",
    "import tensorflow\n",
    "import summa\n",
    "from summa.summarizer import summarize\n",
    "import pandas as pd\n",
    "import urllib.request\n",
    "import os\n",
    "from bs4 import BeautifulSoup \n",
    "import re\n",
    "import numpy as np\n",
    "import matplotlib.pyplot as plt\n",
    "from tensorflow.keras.preprocessing.text import Tokenizer \n",
    "from tensorflow.keras.preprocessing.sequence import pad_sequences\n",
    "from tensorflow.keras.layers import Input, LSTM, Embedding, Dense, Concatenate, TimeDistributed\n",
    "from tensorflow.keras.models import Model\n",
    "from tensorflow.keras.callbacks import EarlyStopping, ModelCheckpoint\n",
    "from tensorflow.keras.layers import AdditiveAttention"
   ]
  },
  {
   "cell_type": "code",
   "execution_count": 3,
   "id": "fedf2bf7",
   "metadata": {},
   "outputs": [],
   "source": [
    "ppsOk = True"
   ]
  },
  {
   "cell_type": "code",
   "execution_count": 4,
   "id": "ba1dda58",
   "metadata": {},
   "outputs": [],
   "source": [
    "\n",
    "# 데이터 전처리 함수\n",
    "def preprocess_sentence(sentence, contractions, remove_stopwords=True):\n",
    "    sentence = sentence.lower() # 텍스트 소문자화\n",
    "    sentence = BeautifulSoup(sentence, \"lxml\").text # <br />, <a href = ...> 등의 html 태그 제거\n",
    "    sentence = re.sub(r'\\([^)]*\\)', '', sentence) # 괄호로 닫힌 문자열 (...) 제거 Ex) my husband (and myself!) for => my husband for\n",
    "    sentence = re.sub('\"','', sentence) # 쌍따옴표 \" 제거\n",
    "    sentence = ' '.join([contractions[t] if t in contractions else t for t in sentence.split(\" \")]) # 약어 정규화\n",
    "    sentence = re.sub(r\"'s\\b\",\"\", sentence) # 소유격 제거. Ex) roland's -> roland\n",
    "    sentence = re.sub(\"[^a-zA-Z]\", \" \", sentence) # 영어 외 문자(숫자, 특수문자 등) 공백으로 변환\n",
    "    sentence = re.sub('[m]{2,}', 'mm', sentence) # m이 3개 이상이면 2개로 변경. Ex) ummmmmmm yeah -> umm yeah\n",
    "    \n",
    "    # 불용어 제거 (Text)\n",
    "    if remove_stopwords:\n",
    "        tokens = ' '.join(word for word in sentence.split() if not word in stopwords.words('english') if len(word) > 1)\n",
    "    # 불용어 미제거 (Summary)\n",
    "    else:\n",
    "        tokens = ' '.join(word for word in sentence.split() if len(word) > 1)\n",
    "    return tokens\n",
    "\n",
    "\n",
    "#설정 샘플 비율 확인\n",
    "def below_threshold_len(max_len, nested_list):\n",
    "  cnt = 0\n",
    "  for s in nested_list:\n",
    "    if(len(s.split()) <= max_len):\n",
    "        cnt = cnt + 1\n",
    "  print('전체 샘플 중 길이가 %s 이하인 샘플의 비율: %s'%(max_len, (cnt / len(nested_list))))\n",
    "\n",
    "\n",
    "def decode_sequence(encoder_model, decoder_model, input_seq, tar_word_to_index):\n",
    "    # 입력으로부터 인코더의 상태를 얻음\n",
    "    e_out, e_h, e_c = encoder_model.predict(input_seq)\n",
    "\n",
    "     # <SOS>에 해당하는 토큰 생성\n",
    "    target_seq = np.zeros((1,1))\n",
    "    target_seq[0, 0] = tar_word_to_index['sostoken']\n",
    "\n",
    "    stop_condition = False\n",
    "    decoded_sentence = ''\n",
    "    while not stop_condition: # stop_condition이 True가 될 때까지 루프 반복\n",
    "\n",
    "        output_tokens, h, c = decoder_model.predict([target_seq] + [e_out, e_h, e_c])\n",
    "        sampled_token_index = np.argmax(output_tokens[0, -1, :])\n",
    "        sampled_token = tar_index_to_word[sampled_token_index]\n",
    "\n",
    "        if (sampled_token!='eostoken'):\n",
    "            decoded_sentence += ' '+sampled_token\n",
    "\n",
    "        #  <eos>에 도달하거나 최대 길이를 넘으면 중단.\n",
    "        if (sampled_token == 'eostoken'  or len(decoded_sentence.split()) >= (summary_max_len-1)):\n",
    "            stop_condition = True\n",
    "\n",
    "        # 길이가 1인 타겟 시퀀스를 업데이트\n",
    "        target_seq = np.zeros((1,1))\n",
    "        target_seq[0, 0] = sampled_token_index\n",
    "\n",
    "        # 상태를 업데이트 합니다.\n",
    "        e_h, e_c = h, c\n",
    "\n",
    "    return decoded_sentence\n",
    "\n",
    "# 원문의 정수 시퀀스를 텍스트 시퀀스로 변환\n",
    "def seq2text(input_seq, src_index_to_word):\n",
    "    temp=''\n",
    "    for i in input_seq:\n",
    "        if (i!=0):\n",
    "            temp = temp + src_index_to_word[i]+' '\n",
    "    return temp\n",
    "\n",
    "\n",
    "# 요약문의 정수 시퀀스를 텍스트 시퀀스로 변환\n",
    "def seq2summary(input_seq, tar_index_to_word):\n",
    "    temp=''\n",
    "    for i in input_seq:\n",
    "        if (i!=0 and i!=1 and i!=2):\n",
    "            temp = temp + tar_index_to_word[i]+' '\n",
    "    return temp\n"
   ]
  },
  {
   "cell_type": "code",
   "execution_count": 5,
   "id": "1d658da4",
   "metadata": {},
   "outputs": [
    {
     "name": "stderr",
     "output_type": "stream",
     "text": [
      "[nltk_data] Downloading package stopwords to /aiffel/nltk_data...\n",
      "[nltk_data]   Unzipping corpora/stopwords.zip.\n"
     ]
    },
    {
     "name": "stdout",
     "output_type": "stream",
     "text": [
      "download : news_summary_more.csv\n"
     ]
    }
   ],
   "source": [
    "try : \n",
    "    print('불용어 확인 :', len(stopwords.words('english') ))\n",
    "\n",
    "except:\n",
    "    nltk.download('stopwords')\n",
    "\n",
    "# news_summary_more.csv\n",
    "try:\n",
    "    if not os.path.isfile('./news_summary_more.csv'):\n",
    "        print(\"download : news_summary_more.csv\")\n",
    "        urllib.request.urlretrieve(\"https://raw.githubusercontent.com/sunnysai12345/News_Summary/master/news_summary_more.csv\", filename=\"news_summary_more.csv\")\n",
    "\n",
    "    data = pd.read_csv('news_summary_more.csv', encoding='iso-8859-1')\n",
    "\n",
    "except:\n",
    "    print(\"error : failed to read file\")"
   ]
  },
  {
   "cell_type": "code",
   "execution_count": 6,
   "id": "eda6c633",
   "metadata": {},
   "outputs": [
    {
     "name": "stdout",
     "output_type": "stream",
     "text": [
      "                                               headlines  \\\n",
      "5079   UP government contractor shot dead at home, BJ...   \n",
      "18761  Amazon hits $1 trillion market capitalisation ...   \n",
      "42398  16-yr-old Indian shooter wins gold on last sho...   \n",
      "49668  Stone tools in India hint earlier human exit f...   \n",
      "82859  Alibaba, Tencent among World's Smartest Compan...   \n",
      "93979  MTV Awards to combine Best Actor, Actress into...   \n",
      "30451  Today not important, future is: Kumaraswamy on...   \n",
      "18662  Not proud of new form of low humour: iPhone au...   \n",
      "17072  Is it a crime: BJP worker who washed MP's feet...   \n",
      "5073   It took 1.5yrs for Sonia to wish Modi on becom...   \n",
      "\n",
      "                                                    text  \n",
      "5079   A government contractor was shot dead at his r...  \n",
      "18761  World's richest man Jeff Bezos-led e-commerce ...  \n",
      "42398  India's 16-year-old shooter Manu Bhaker won a ...  \n",
      "49668  Indian scientists have discovered stone tools ...  \n",
      "82859  Alibaba and Tencent are among the seven Chines...  \n",
      "93979  The MTV Movie & TV Awards has decided to combi...  \n",
      "30451  Ahead of the floor test in the Karnataka Assem...  \n",
      "18662  The software engineer who invented autocorrect...  \n",
      "17072  The BJP worker who washed party MP Nishikant D...  \n",
      "5073   In a recent interview, Law Minister Ravi Shank...  \n"
     ]
    }
   ],
   "source": [
    "print(data.sample(10))"
   ]
  },
  {
   "cell_type": "code",
   "execution_count": 7,
   "id": "ff47ccf2",
   "metadata": {},
   "outputs": [
    {
     "name": "stdout",
     "output_type": "stream",
     "text": [
      "<class 'pandas.core.frame.DataFrame'>\n",
      "RangeIndex: 98401 entries, 0 to 98400\n",
      "Data columns (total 2 columns):\n",
      " #   Column     Non-Null Count  Dtype \n",
      "---  ------     --------------  ----- \n",
      " 0   headlines  98401 non-null  object\n",
      " 1   text       98401 non-null  object\n",
      "dtypes: object(2)\n",
      "memory usage: 1.5+ MB\n",
      "None\n"
     ]
    }
   ],
   "source": [
    "# 전처리\n",
    "# 전처리 > 분석\n",
    "# 전처리 > 분석 > 데이터 타입, null, 확인\n",
    "print(data.info())"
   ]
  },
  {
   "cell_type": "code",
   "execution_count": 8,
   "id": "c87cb61b",
   "metadata": {},
   "outputs": [
    {
     "name": "stdout",
     "output_type": "stream",
     "text": [
      "(98401, 2)\n"
     ]
    }
   ],
   "source": [
    "# 전처리 > 분석 > 형태 확인\n",
    "print(data.shape)"
   ]
  },
  {
   "cell_type": "code",
   "execution_count": 9,
   "id": "c3b65bfc",
   "metadata": {},
   "outputs": [
    {
     "name": "stdout",
     "output_type": "stream",
     "text": [
      "Text 열에서 중복을 배제한 유일한 샘플의 수 : 98360\n",
      "headlines 열에서 중복을 배제한 유일한 샘플의 수 : 98280\n"
     ]
    }
   ],
   "source": [
    "# 전처리 > 정제\n",
    "# 전처리 > 정제 > 중복 확인\n",
    "print('Text 열에서 중복을 배제한 유일한 샘플의 수 :', data['text'].nunique())\n",
    "print('headlines 열에서 중복을 배제한 유일한 샘플의 수 :', data['headlines'].nunique())"
   ]
  },
  {
   "cell_type": "code",
   "execution_count": 10,
   "id": "5e9c462d",
   "metadata": {},
   "outputs": [
    {
     "name": "stdout",
     "output_type": "stream",
     "text": [
      "중복 제거 전체 샘플수 : 98360\n"
     ]
    }
   ],
   "source": [
    "# 전처리 > 정제 > 중복 제거\n",
    "data.drop_duplicates(subset = ['text'], inplace=True)\n",
    "print('중복 제거 전체 샘플수 :', (len(data)))"
   ]
  },
  {
   "cell_type": "code",
   "execution_count": 11,
   "id": "1ee1f931",
   "metadata": {},
   "outputs": [
    {
     "name": "stdout",
     "output_type": "stream",
     "text": [
      "headlines    0\n",
      "text         0\n",
      "dtype: int64\n"
     ]
    }
   ],
   "source": [
    "# 전처리 > 정제 > null 확인\n",
    "print(data.isnull().sum()) # null 없음"
   ]
  },
  {
   "cell_type": "code",
   "execution_count": 12,
   "id": "1d0767b6",
   "metadata": {},
   "outputs": [
    {
     "name": "stdout",
     "output_type": "stream",
     "text": [
      "null 제거 전체 샘플수 : 98360\n"
     ]
    }
   ],
   "source": [
    "# 전처리 > 정제 > null 제거\n",
    "data.dropna(axis=0, inplace=True)\n",
    "print('null 제거 전체 샘플수 :', (len(data)))"
   ]
  },
  {
   "cell_type": "code",
   "execution_count": 13,
   "id": "f59f0fb4",
   "metadata": {},
   "outputs": [
    {
     "name": "stdout",
     "output_type": "stream",
     "text": [
      "정규화 사전의 수:  120\n"
     ]
    }
   ],
   "source": [
    "# 전처리 > 정규화\n",
    "# 전처리 > 정규화 > 정규화 사전 생성\n",
    "contractions = {\"ain't\": \"is not\", \"aren't\": \"are not\",\"can't\": \"cannot\", \"'cause\": \"because\", \"could've\": \"could have\", \"couldn't\": \"could not\",\n",
    "                    \"didn't\": \"did not\",  \"doesn't\": \"does not\", \"don't\": \"do not\", \"hadn't\": \"had not\", \"hasn't\": \"has not\", \"haven't\": \"have not\",\n",
    "                    \"he'd\": \"he would\",\"he'll\": \"he will\", \"he's\": \"he is\", \"how'd\": \"how did\", \"how'd'y\": \"how do you\", \"how'll\": \"how will\", \"how's\": \"how is\",\n",
    "                    \"I'd\": \"I would\", \"I'd've\": \"I would have\", \"I'll\": \"I will\", \"I'll've\": \"I will have\",\"I'm\": \"I am\", \"I've\": \"I have\", \"i'd\": \"i would\",\n",
    "                    \"i'd've\": \"i would have\", \"i'll\": \"i will\",  \"i'll've\": \"i will have\",\"i'm\": \"i am\", \"i've\": \"i have\", \"isn't\": \"is not\", \"it'd\": \"it would\",\n",
    "                    \"it'd've\": \"it would have\", \"it'll\": \"it will\", \"it'll've\": \"it will have\",\"it's\": \"it is\", \"let's\": \"let us\", \"ma'am\": \"madam\",\n",
    "                    \"mayn't\": \"may not\", \"might've\": \"might have\",\"mightn't\": \"might not\",\"mightn't've\": \"might not have\", \"must've\": \"must have\",\n",
    "                    \"mustn't\": \"must not\", \"mustn't've\": \"must not have\", \"needn't\": \"need not\", \"needn't've\": \"need not have\",\"o'clock\": \"of the clock\",\n",
    "                    \"oughtn't\": \"ought not\", \"oughtn't've\": \"ought not have\", \"shan't\": \"shall not\", \"sha'n't\": \"shall not\", \"shan't've\": \"shall not have\",\n",
    "                    \"she'd\": \"she would\", \"she'd've\": \"she would have\", \"she'll\": \"she will\", \"she'll've\": \"she will have\", \"she's\": \"she is\",\n",
    "                    \"should've\": \"should have\", \"shouldn't\": \"should not\", \"shouldn't've\": \"should not have\", \"so've\": \"so have\",\"so's\": \"so as\",\n",
    "                    \"this's\": \"this is\",\"that'd\": \"that would\", \"that'd've\": \"that would have\", \"that's\": \"that is\", \"there'd\": \"there would\",\n",
    "                    \"there'd've\": \"there would have\", \"there's\": \"there is\", \"here's\": \"here is\",\"they'd\": \"they would\", \"they'd've\": \"they would have\",\n",
    "                    \"they'll\": \"they will\", \"they'll've\": \"they will have\", \"they're\": \"they are\", \"they've\": \"they have\", \"to've\": \"to have\",\n",
    "                    \"wasn't\": \"was not\", \"we'd\": \"we would\", \"we'd've\": \"we would have\", \"we'll\": \"we will\", \"we'll've\": \"we will have\", \"we're\": \"we are\",\n",
    "                    \"we've\": \"we have\", \"weren't\": \"were not\", \"what'll\": \"what will\", \"what'll've\": \"what will have\", \"what're\": \"what are\",\n",
    "                    \"what's\": \"what is\", \"what've\": \"what have\", \"when's\": \"when is\", \"when've\": \"when have\", \"where'd\": \"where did\", \"where's\": \"where is\",\n",
    "                    \"where've\": \"where have\", \"who'll\": \"who will\", \"who'll've\": \"who will have\", \"who's\": \"who is\", \"who've\": \"who have\",\n",
    "                    \"why's\": \"why is\", \"why've\": \"why have\", \"will've\": \"will have\", \"won't\": \"will not\", \"won't've\": \"will not have\",\n",
    "                    \"would've\": \"would have\", \"wouldn't\": \"would not\", \"wouldn't've\": \"would not have\", \"y'all\": \"you all\",\n",
    "                    \"y'all'd\": \"you all would\",\"y'all'd've\": \"you all would have\",\"y'all're\": \"you all are\",\"y'all've\": \"you all have\",\n",
    "                    \"you'd\": \"you would\", \"you'd've\": \"you would have\", \"you'll\": \"you will\", \"you'll've\": \"you will have\",\n",
    "                    \"you're\": \"you are\", \"you've\": \"you have\"}\n",
    "\n",
    "print(\"정규화 사전의 수: \", len(contractions))"
   ]
  },
  {
   "cell_type": "code",
   "execution_count": 14,
   "id": "e65a0fd7",
   "metadata": {},
   "outputs": [
    {
     "name": "stdout",
     "output_type": "stream",
     "text": [
      "불용어 개수 : 179\n",
      "['i', 'me', 'my', 'myself', 'we', 'our', 'ours', 'ourselves', 'you', \"you're\", \"you've\", \"you'll\", \"you'd\", 'your', 'yours', 'yourself', 'yourselves', 'he', 'him', 'his', 'himself', 'she', \"she's\", 'her', 'hers', 'herself', 'it', \"it's\", 'its', 'itself', 'they', 'them', 'their', 'theirs', 'themselves', 'what', 'which', 'who', 'whom', 'this', 'that', \"that'll\", 'these', 'those', 'am', 'is', 'are', 'was', 'were', 'be', 'been', 'being', 'have', 'has', 'had', 'having', 'do', 'does', 'did', 'doing', 'a', 'an', 'the', 'and', 'but', 'if', 'or', 'because', 'as', 'until', 'while', 'of', 'at', 'by', 'for', 'with', 'about', 'against', 'between', 'into', 'through', 'during', 'before', 'after', 'above', 'below', 'to', 'from', 'up', 'down', 'in', 'out', 'on', 'off', 'over', 'under', 'again', 'further', 'then', 'once', 'here', 'there', 'when', 'where', 'why', 'how', 'all', 'any', 'both', 'each', 'few', 'more', 'most', 'other', 'some', 'such', 'no', 'nor', 'not', 'only', 'own', 'same', 'so', 'than', 'too', 'very', 's', 't', 'can', 'will', 'just', 'don', \"don't\", 'should', \"should've\", 'now', 'd', 'll', 'm', 'o', 're', 've', 'y', 'ain', 'aren', \"aren't\", 'couldn', \"couldn't\", 'didn', \"didn't\", 'doesn', \"doesn't\", 'hadn', \"hadn't\", 'hasn', \"hasn't\", 'haven', \"haven't\", 'isn', \"isn't\", 'ma', 'mightn', \"mightn't\", 'mustn', \"mustn't\", 'needn', \"needn't\", 'shan', \"shan't\", 'shouldn', \"shouldn't\", 'wasn', \"wasn't\", 'weren', \"weren't\", 'won', \"won't\", 'wouldn', \"wouldn't\"]\n"
     ]
    }
   ],
   "source": [
    "# 전처리 > 불용어 제거\n",
    "# 전처리 > 불용어 제거 > 불용어 정보 확인\n",
    "print('불용어 개수 :', len(stopwords.words('english') ))\n",
    "print(stopwords.words('english'))"
   ]
  },
  {
   "cell_type": "code",
   "execution_count": 15,
   "id": "d1360350",
   "metadata": {},
   "outputs": [],
   "source": [
    "# 정규화, 전처리 실행\n",
    "clean_text = []\n",
    "clean_summary = []\n",
    "\n",
    "for _, row in data.iterrows():\n",
    "    clean_text.append(preprocess_sentence(row[\"text\"], contractions))\n",
    "    clean_summary.append(preprocess_sentence(row[\"headlines\"],contractions, False))\n",
    "\n",
    "data['text'] = clean_text\n",
    "data['headlines'] = clean_summary"
   ]
  },
  {
   "cell_type": "code",
   "execution_count": 16,
   "id": "08ff1bf9",
   "metadata": {},
   "outputs": [],
   "source": [
    "# 빈 값을 Null 값으로 변환\n",
    "data.replace('', np.nan, inplace=True)"
   ]
  },
  {
   "cell_type": "code",
   "execution_count": 17,
   "id": "8210cff0",
   "metadata": {},
   "outputs": [
    {
     "name": "stdout",
     "output_type": "stream",
     "text": [
      "headlines    0\n",
      "text         0\n",
      "dtype: int64\n"
     ]
    }
   ],
   "source": [
    "# 빈 값 생성 확인\n",
    "print(data.isnull().sum()) # 빈 값 없음"
   ]
  },
  {
   "cell_type": "code",
   "execution_count": 18,
   "id": "2edcbc77",
   "metadata": {},
   "outputs": [
    {
     "name": "stdout",
     "output_type": "stream",
     "text": [
      "전체 샘플수 : 98360\n"
     ]
    }
   ],
   "source": [
    "# null 제거\n",
    "data.dropna(axis=0, inplace=True)\n",
    "print('전체 샘플수 :', (len(data)))"
   ]
  },
  {
   "cell_type": "code",
   "execution_count": 19,
   "id": "3eb92594",
   "metadata": {},
   "outputs": [
    {
     "name": "stdout",
     "output_type": "stream",
     "text": [
      "                                           headlines  \\\n",
      "0  upgrad learner switches to career in ml al wit...   \n",
      "1  delhi techie wins free food from swiggy for on...   \n",
      "\n",
      "                                                text  \n",
      "0  saurav kant alumnus upgrad iiit pg program mac...  \n",
      "1  kunal shah credit card bill payment platform c...  \n"
     ]
    }
   ],
   "source": [
    "print(data.head(2))"
   ]
  },
  {
   "cell_type": "code",
   "execution_count": 20,
   "id": "30ef32b7",
   "metadata": {},
   "outputs": [],
   "source": [
    "# 전처리 > 데이터셋 분리\n",
    "# 전처리 > 데이터셋 분리 > 분리 데이터 정보 확인\n",
    "text_len = [len(s.split()) for s in data['text']]\n",
    "summary_len = [len(s.split()) for s in data['headlines']]"
   ]
  },
  {
   "cell_type": "code",
   "execution_count": 21,
   "id": "1c1def5c",
   "metadata": {},
   "outputs": [
    {
     "name": "stdout",
     "output_type": "stream",
     "text": [
      "텍스트의 최소 길이 : 1\n",
      "텍스트의 최대 길이 : 60\n",
      "텍스트의 평균 길이 : 35.09968483123221\n",
      "요약의 최소 길이 : 1\n",
      "요약의 최대 길이 : 16\n",
      "요약의 평균 길이 : 9.299532330215534\n"
     ]
    }
   ],
   "source": [
    "print('텍스트의 최소 길이 : {}'.format(np.min(text_len)))\n",
    "print('텍스트의 최대 길이 : {}'.format(np.max(text_len)))\n",
    "print('텍스트의 평균 길이 : {}'.format(np.mean(text_len)))\n",
    "print('요약의 최소 길이 : {}'.format(np.min(summary_len)))\n",
    "print('요약의 최대 길이 : {}'.format(np.max(summary_len)))\n",
    "print('요약의 평균 길이 : {}'.format(np.mean(summary_len)))"
   ]
  },
  {
   "cell_type": "code",
   "execution_count": 22,
   "id": "5ca83f3c",
   "metadata": {},
   "outputs": [
    {
     "data": {
      "image/png": "[encoded data removed]",
      "text/plain": [
       "<Figure size 432x288 with 2 Axes>"
      ]
     },
     "metadata": {
      "needs_background": "light"
     },
     "output_type": "display_data"
    }
   ],
   "source": [
    "plt.subplot(1,2,1)\n",
    "plt.boxplot(text_len)\n",
    "plt.title('Text')\n",
    "plt.subplot(1,2,2)\n",
    "plt.boxplot(summary_len)\n",
    "plt.title('Summary')\n",
    "plt.tight_layout()\n",
    "plt.show()"
   ]
  },
  {
   "cell_type": "code",
   "execution_count": 23,
   "id": "b1480344",
   "metadata": {},
   "outputs": [
    {
     "data": {
      "image/png": "[encoded data removed]",
      "text/plain": [
       "<Figure size 432x288 with 1 Axes>"
      ]
     },
     "metadata": {
      "needs_background": "light"
     },
     "output_type": "display_data"
    }
   ],
   "source": [
    "plt.title('Text')\n",
    "plt.hist(text_len, bins = 40)\n",
    "plt.xlabel('length of samples')\n",
    "plt.ylabel('number of samples')\n",
    "plt.show()"
   ]
  },
  {
   "cell_type": "code",
   "execution_count": 24,
   "id": "78799b46",
   "metadata": {},
   "outputs": [
    {
     "data": {
      "image/png": "[encoded data removed]",
      "text/plain": [
       "<Figure size 432x288 with 1 Axes>"
      ]
     },
     "metadata": {
      "needs_background": "light"
     },
     "output_type": "display_data"
    }
   ],
   "source": [
    "plt.title('Summary')\n",
    "plt.hist(summary_len, bins = 40)\n",
    "plt.xlabel('length of samples')\n",
    "plt.ylabel('number of samples')\n",
    "plt.show()"
   ]
  },
  {
   "cell_type": "code",
   "execution_count": 25,
   "id": "bb004722",
   "metadata": {},
   "outputs": [
    {
     "name": "stdout",
     "output_type": "stream",
     "text": [
      "전체 샘플 중 길이가 45 이하인 샘플의 비율: 0.9967771451809678\n",
      "전체 샘플 중 길이가 13 이하인 샘플의 비율: 0.9981699877999186\n"
     ]
    }
   ],
   "source": [
    "# 전처리 > 데이터셋 분리 > 분리 데이터 단어 개수 제한\n",
    "text_max_len = 45\n",
    "summary_max_len = 13\n",
    "below_threshold_len(text_max_len, data['text'])\n",
    "below_threshold_len(summary_max_len,  data['headlines'])"
   ]
  },
  {
   "cell_type": "code",
   "execution_count": 26,
   "id": "39837486",
   "metadata": {},
   "outputs": [
    {
     "name": "stdout",
     "output_type": "stream",
     "text": [
      "전체 샘플수(가공전) : 98360\n",
      "전체 샘플수(text 제거) : 97708\n",
      "전체 샘플수(summary 제거) : 96538\n"
     ]
    }
   ],
   "source": [
    "print('전체 샘플수(가공전) :', (len(data)))\n",
    "data = data[data[\"text\"].apply(lambda x: len(x.split()) < text_max_len)]\n",
    "print('전체 샘플수(text 제거) :', (len(data)))\n",
    "data = data[data[\"headlines\"].apply(lambda x: len(x.split()) < summary_max_len)]\n",
    "print('전체 샘플수(summary 제거) :', (len(data)))"
   ]
  },
  {
   "cell_type": "code",
   "execution_count": 27,
   "id": "a6604c4a",
   "metadata": {},
   "outputs": [
    {
     "name": "stdout",
     "output_type": "stream",
     "text": [
      "                                           headlines  \\\n",
      "0  upgrad learner switches to career in ml al wit...   \n",
      "2  new zealand end rohit sharma led india match w...   \n",
      "3  aegon life iterm insurance plan helps customer...   \n",
      "5  rahat fateh ali khan denies getting notice for...   \n",
      "6  india get all out for their lowest odi total i...   \n",
      "\n",
      "                                                text  \\\n",
      "0  saurav kant alumnus upgrad iiit pg program mac...   \n",
      "2  new zealand defeated india wickets fourth odi ...   \n",
      "3  aegon life iterm insurance plan customers enjo...   \n",
      "5  pakistani singer rahat fateh ali khan denied r...   \n",
      "6  india recorded lowest odi total new zealand ge...   \n",
      "\n",
      "                                       decoder_input  \\\n",
      "0  sostoken upgrad learner switches to career in ...   \n",
      "2  sostoken new zealand end rohit sharma led indi...   \n",
      "3  sostoken aegon life iterm insurance plan helps...   \n",
      "5  sostoken rahat fateh ali khan denies getting n...   \n",
      "6  sostoken india get all out for their lowest od...   \n",
      "\n",
      "                                      decoder_target  \n",
      "0  upgrad learner switches to career in ml al wit...  \n",
      "2  new zealand end rohit sharma led india match w...  \n",
      "3  aegon life iterm insurance plan helps customer...  \n",
      "5  rahat fateh ali khan denies getting notice for...  \n",
      "6  india get all out for their lowest odi total i...  \n"
     ]
    }
   ],
   "source": [
    "# 전처리 > 데이터셋 분리 > 시작, 종료 토큰 추가\n",
    "data['decoder_input'] = data['headlines'].apply(lambda x : 'sostoken '+ x)\n",
    "data['decoder_target'] = data['headlines'].apply(lambda x : x + ' eostoken')\n",
    "print(data.head())"
   ]
  },
  {
   "cell_type": "code",
   "execution_count": 28,
   "id": "88cd9b40",
   "metadata": {},
   "outputs": [],
   "source": [
    "# 전처리 > 데이터셋 분리 > 분리를 위해 numpy array 변환\n",
    "encoder_input = np.array(data['text']) # 인코더의 입력\n",
    "decoder_input = np.array(data['decoder_input']) # 디코더의 입력\n",
    "decoder_target = np.array(data['decoder_target']) # 디코더의 레이블"
   ]
  },
  {
   "cell_type": "code",
   "execution_count": 29,
   "id": "58c6991c",
   "metadata": {},
   "outputs": [],
   "source": [
    "# 전처리 > 데이터셋 분리 > 데이터 shuffle\n",
    "indices = np.arange(encoder_input.shape[0])\n",
    "np.random.shuffle(indices)"
   ]
  },
  {
   "cell_type": "code",
   "execution_count": 30,
   "id": "e388e79f",
   "metadata": {},
   "outputs": [],
   "source": [
    "encoder_input = encoder_input[indices]\n",
    "decoder_input = decoder_input[indices]\n",
    "decoder_target = decoder_target[indices]"
   ]
  },
  {
   "cell_type": "code",
   "execution_count": 31,
   "id": "cf89fbac",
   "metadata": {},
   "outputs": [
    {
     "name": "stdout",
     "output_type": "stream",
     "text": [
      "테스트 데이터의 수 : 19307\n"
     ]
    }
   ],
   "source": [
    "# 전처리 > 데이터셋 분리 > 데이터 8:2 분할\n",
    "n_of_val = int(len(encoder_input)*0.2)\n",
    "print('테스트 데이터의 수 :', n_of_val)"
   ]
  },
  {
   "cell_type": "code",
   "execution_count": 32,
   "id": "c2cc4aa7",
   "metadata": {},
   "outputs": [],
   "source": [
    "encoder_input_train = encoder_input[:-n_of_val]\n",
    "decoder_input_train = decoder_input[:-n_of_val]\n",
    "decoder_target_train = decoder_target[:-n_of_val]"
   ]
  },
  {
   "cell_type": "code",
   "execution_count": 33,
   "id": "92422661",
   "metadata": {},
   "outputs": [],
   "source": [
    "encoder_input_test = encoder_input[-n_of_val:]\n",
    "decoder_input_test = decoder_input[-n_of_val:]\n",
    "decoder_target_test = decoder_target[-n_of_val:]"
   ]
  },
  {
   "cell_type": "code",
   "execution_count": 34,
   "id": "ac0808c6",
   "metadata": {},
   "outputs": [
    {
     "name": "stdout",
     "output_type": "stream",
     "text": [
      "훈련 데이터의 개수 : 77231\n",
      "훈련 레이블의 개수 : 77231\n",
      "테스트 데이터의 개수 : 19307\n",
      "테스트 레이블의 개수 : 19307\n"
     ]
    }
   ],
   "source": [
    "print('훈련 데이터의 개수 :', len(encoder_input_train))\n",
    "print('훈련 레이블의 개수 :', len(decoder_input_train))\n",
    "print('테스트 데이터의 개수 :', len(encoder_input_test))\n",
    "print('테스트 레이블의 개수 :', len(decoder_input_test))"
   ]
  },
  {
   "cell_type": "code",
   "execution_count": 35,
   "id": "ff08e3e4",
   "metadata": {},
   "outputs": [],
   "source": [
    "# 전처리 > 인코딩\n",
    "# 전처리 > 인코딩 > vocabulary 생성 - text data\n",
    "src_tokenizer = Tokenizer() # 토크나이저 정의\n",
    "src_tokenizer.fit_on_texts(encoder_input_train) # 입력된 데이터로부터 단어 집합 생성"
   ]
  },
  {
   "cell_type": "code",
   "execution_count": 36,
   "id": "b8eb4123",
   "metadata": {},
   "outputs": [],
   "source": [
    "# 전처리 > 인코딩 > 빈도 확인 - text data\n",
    "threshold = 7\n",
    "total_cnt = len(src_tokenizer.word_index) # 단어의 수\n",
    "rare_cnt = 0 # 등장 빈도수가 threshold보다 작은 단어의 개수를 카운트\n",
    "total_freq = 0 # 훈련 데이터의 전체 단어 빈도수 총 합\n",
    "rare_freq = 0 # 등장 빈도수가 threshold보다 작은 단어의 등장 빈도수의 총 합"
   ]
  },
  {
   "cell_type": "code",
   "execution_count": 37,
   "id": "a74a86e4",
   "metadata": {},
   "outputs": [],
   "source": [
    "# 단어와 빈도수의 쌍(pair)을 key와 value로 받는다.\n",
    "for key, value in src_tokenizer.word_counts.items():\n",
    "    total_freq = total_freq + value\n",
    "\n",
    "    # 단어의 등장 빈도수가 threshold보다 작으면\n",
    "    if(value < threshold):\n",
    "        rare_cnt = rare_cnt + 1\n",
    "        rare_freq = rare_freq + value"
   ]
  },
  {
   "cell_type": "code",
   "execution_count": 38,
   "id": "f2124c9d",
   "metadata": {},
   "outputs": [
    {
     "name": "stdout",
     "output_type": "stream",
     "text": [
      "단어 집합(vocabulary)의 크기 : 68956\n",
      "등장 빈도가 6번 이하인 희귀 단어의 수: 46991\n",
      "단어 집합에서 희귀 단어를 제외시킬 경우의 단어 집합의 크기 21965\n",
      "단어 집합에서 희귀 단어의 비율: 68.14635419687917\n",
      "전체 등장 빈도에서 희귀 단어 등장 빈도 비율: 3.5167077522625405\n"
     ]
    }
   ],
   "source": [
    "print('단어 집합(vocabulary)의 크기 :', total_cnt)\n",
    "print('등장 빈도가 %s번 이하인 희귀 단어의 수: %s'%(threshold - 1, rare_cnt))\n",
    "print('단어 집합에서 희귀 단어를 제외시킬 경우의 단어 집합의 크기 %s'%(total_cnt - rare_cnt))\n",
    "print(\"단어 집합에서 희귀 단어의 비율:\", (rare_cnt / total_cnt)*100)\n",
    "print(\"전체 등장 빈도에서 희귀 단어 등장 빈도 비율:\", (rare_freq / total_freq)*100)"
   ]
  },
  {
   "cell_type": "code",
   "execution_count": 39,
   "id": "9301a599",
   "metadata": {},
   "outputs": [],
   "source": [
    "# 전처리 > 인코딩 > 단어 집합 크기 제한 - text data\n",
    "src_vocab = 8000\n",
    "src_tokenizer = Tokenizer(num_words=src_vocab) # 단어 집합의 크기를 8,000으로 제한\n",
    "src_tokenizer.fit_on_texts(encoder_input_train) # 단어 집합 재생성"
   ]
  },
  {
   "cell_type": "code",
   "execution_count": 40,
   "id": "efc09fae",
   "metadata": {},
   "outputs": [],
   "source": [
    "# 텍스트 시퀀스를 정수 시퀀스로 변환 - text data\n",
    "encoder_input_train = src_tokenizer.texts_to_sequences(encoder_input_train) \n",
    "encoder_input_test = src_tokenizer.texts_to_sequences(encoder_input_test)"
   ]
  },
  {
   "cell_type": "code",
   "execution_count": 41,
   "id": "bb9148a5",
   "metadata": {},
   "outputs": [
    {
     "name": "stdout",
     "output_type": "stream",
     "text": [
      "[[5, 641, 311, 1819, 4059, 6724, 2572, 2219, 4151, 605, 1065, 1136, 3532, 2357, 526, 226, 1, 86, 99, 5, 2325, 688, 279, 33, 43, 98, 2101, 350, 418, 688, 1075, 2071, 138, 17, 581, 123, 237, 379, 605, 1065, 377], [1667, 155, 887, 7087, 190, 502, 19, 4680, 155, 3367, 18, 155, 5229, 12, 6049, 67, 1550, 94, 3791, 307, 4257, 3107, 502, 585, 25, 4680, 7464, 6473, 6049, 456], [588, 2459, 108, 1122, 1036, 4861, 4185, 964, 388, 3696, 1088, 1123, 3256, 4902, 658, 1, 193, 235, 2459, 1227, 151, 2514, 326, 388, 4, 4681, 1376, 1258, 420, 4448, 3436]]\n"
     ]
    }
   ],
   "source": [
    "# 잘 진행되었는지 샘플 출력\n",
    "print(encoder_input_train[:3])  "
   ]
  },
  {
   "cell_type": "code",
   "execution_count": 48,
   "id": "5a460ee2",
   "metadata": {},
   "outputs": [],
   "source": [
    "# 전처리 > 인코딩 > vocabulary 생성 - headlines data\n",
    "tar_tokenizer = Tokenizer()\n",
    "tar_tokenizer.fit_on_texts(decoder_input_train)"
   ]
  },
  {
   "cell_type": "code",
   "execution_count": 49,
   "id": "85ecaa1b",
   "metadata": {},
   "outputs": [],
   "source": [
    "# 전처리 > 인코딩 > 빈도 확인 - headlines data\n",
    "threshold = 6\n",
    "total_cnt = len(tar_tokenizer.word_index) # 단어의 수\n",
    "rare_cnt = 0 # 등장 빈도수가 threshold보다 작은 단어의 개수를 카운트\n",
    "total_freq = 0 # 훈련 데이터의 전체 단어 빈도수 총 합\n",
    "rare_freq = 0 # 등장 빈도수가 threshold보다 작은 단어의 등장 빈도수의 총 합"
   ]
  },
  {
   "cell_type": "code",
   "execution_count": 50,
   "id": "2c4815d8",
   "metadata": {},
   "outputs": [],
   "source": [
    "# 단어와 빈도수의 쌍(pair)을 key와 value로 받는다.\n",
    "for key, value in tar_tokenizer.word_counts.items():\n",
    "    total_freq = total_freq + value\n",
    "\n",
    "    # 단어의 등장 빈도수가 threshold보다 작으면\n",
    "    if(value < threshold):\n",
    "        rare_cnt = rare_cnt + 1\n",
    "        rare_freq = rare_freq + value"
   ]
  },
  {
   "cell_type": "code",
   "execution_count": 51,
   "id": "af4ee0f3",
   "metadata": {},
   "outputs": [
    {
     "name": "stdout",
     "output_type": "stream",
     "text": [
      "단어 집합(vocabulary)의 크기 : 29861\n",
      "등장 빈도가 5번 이하인 희귀 단어의 수: 19549\n",
      "단어 집합에서 희귀 단어를 제외시킬 경우의 단어 집합의 크기 10312\n",
      "단어 집합에서 희귀 단어의 비율: 65.46666220153378\n",
      "전체 등장 빈도에서 희귀 단어 등장 빈도 비율: 4.732454655258676\n"
     ]
    }
   ],
   "source": [
    "print('단어 집합(vocabulary)의 크기 :', total_cnt)\n",
    "print('등장 빈도가 %s번 이하인 희귀 단어의 수: %s'%(threshold - 1, rare_cnt))\n",
    "print('단어 집합에서 희귀 단어를 제외시킬 경우의 단어 집합의 크기 %s'%(total_cnt - rare_cnt))\n",
    "print(\"단어 집합에서 희귀 단어의 비율:\", (rare_cnt / total_cnt)*100)\n",
    "print(\"전체 등장 빈도에서 희귀 단어 등장 빈도 비율:\", (rare_freq / total_freq)*100)"
   ]
  },
  {
   "cell_type": "code",
   "execution_count": 52,
   "id": "5f5d07c4",
   "metadata": {},
   "outputs": [],
   "source": [
    "# 전처리 > 인코딩 > 단어 집합 크기 제한 - headlines data\n",
    "tar_vocab = 2000\n",
    "tar_tokenizer = Tokenizer(num_words=tar_vocab) \n",
    "tar_tokenizer.fit_on_texts(decoder_input_train)\n",
    "tar_tokenizer.fit_on_texts(decoder_target_train)"
   ]
  },
  {
   "cell_type": "code",
   "execution_count": 53,
   "id": "0adf65b8",
   "metadata": {},
   "outputs": [],
   "source": [
    "# 텍스트 시퀀스를 정수 시퀀스로 변환\n",
    "decoder_input_train = tar_tokenizer.texts_to_sequences(decoder_input_train) \n",
    "decoder_target_train = tar_tokenizer.texts_to_sequences(decoder_target_train)\n",
    "decoder_input_test = tar_tokenizer.texts_to_sequences(decoder_input_test)\n",
    "decoder_target_test = tar_tokenizer.texts_to_sequences(decoder_target_test)"
   ]
  },
  {
   "cell_type": "code",
   "execution_count": 54,
   "id": "7ba16d84",
   "metadata": {},
   "outputs": [
    {
     "name": "stdout",
     "output_type": "stream",
     "text": [
      "input\n",
      "input  [[1, 514, 6, 445, 111, 225, 34], [1, 1706, 188, 116, 127, 4, 27, 12, 31], [1, 922, 1873, 6, 36, 1282, 4, 546], [1, 651, 72, 4, 248], [1, 110, 38, 183, 10, 368, 4]]\n",
      "target\n",
      "decoder  [[514, 6, 445, 111, 225, 34, 2], [1706, 188, 116, 127, 4, 27, 12, 31, 2], [922, 1873, 6, 36, 1282, 4, 546, 2], [651, 72, 4, 248, 2], [110, 38, 183, 10, 368, 4, 2]]\n"
     ]
    }
   ],
   "source": [
    "# 잘 변환되었는지 확인\n",
    "print('input')\n",
    "print('input ',decoder_input_train[:5])\n",
    "print('target')\n",
    "print('decoder ',decoder_target_train[:5])"
   ]
  },
  {
   "cell_type": "code",
   "execution_count": 55,
   "id": "875cfb9f",
   "metadata": {},
   "outputs": [],
   "source": [
    "# 전처리 > 인코딩 > 길이가 0 된 데이터 확인 및 삭제 \n",
    "drop_train = [index for index, sentence in enumerate(decoder_input_train) if len(sentence) == 1]\n",
    "drop_test = [index for index, sentence in enumerate(decoder_input_test) if len(sentence) == 1]"
   ]
  },
  {
   "cell_type": "code",
   "execution_count": 56,
   "id": "4b044c74",
   "metadata": {},
   "outputs": [
    {
     "name": "stdout",
     "output_type": "stream",
     "text": [
      "삭제할 훈련 데이터의 개수 : 11\n",
      "삭제할 테스트 데이터의 개수 : 4\n"
     ]
    }
   ],
   "source": [
    "print('삭제할 훈련 데이터의 개수 :', len(drop_train))\n",
    "print('삭제할 테스트 데이터의 개수 :', len(drop_test))"
   ]
  },
  {
   "cell_type": "code",
   "execution_count": 57,
   "id": "0748b0c5",
   "metadata": {},
   "outputs": [],
   "source": [
    "encoder_input_train = [sentence for index, sentence in enumerate(encoder_input_train) if index not in drop_train]\n",
    "decoder_input_train = [sentence for index, sentence in enumerate(decoder_input_train) if index not in drop_train]\n",
    "decoder_target_train = [sentence for index, sentence in enumerate(decoder_target_train) if index not in drop_train]"
   ]
  },
  {
   "cell_type": "code",
   "execution_count": 58,
   "id": "ea30cbf2",
   "metadata": {},
   "outputs": [],
   "source": [
    "encoder_input_test = [sentence for index, sentence in enumerate(encoder_input_test) if index not in drop_test]\n",
    "decoder_input_test = [sentence for index, sentence in enumerate(decoder_input_test) if index not in drop_test]\n",
    "decoder_target_test = [sentence for index, sentence in enumerate(decoder_target_test) if index not in drop_test]"
   ]
  },
  {
   "cell_type": "code",
   "execution_count": 59,
   "id": "e318305e",
   "metadata": {},
   "outputs": [
    {
     "name": "stdout",
     "output_type": "stream",
     "text": [
      "훈련 데이터의 개수 : 77220\n",
      "훈련 레이블의 개수 : 77220\n",
      "테스트 데이터의 개수 : 19303\n",
      "테스트 레이블의 개수 : 19303\n"
     ]
    }
   ],
   "source": [
    "print('훈련 데이터의 개수 :', len(encoder_input_train))\n",
    "print('훈련 레이블의 개수 :', len(decoder_input_train))\n",
    "print('테스트 데이터의 개수 :', len(encoder_input_test))\n",
    "print('테스트 레이블의 개수 :', len(decoder_input_test))"
   ]
  },
  {
   "cell_type": "code",
   "execution_count": 60,
   "id": "1847c407",
   "metadata": {},
   "outputs": [],
   "source": [
    "# 전처리 > 인코딩 > 단어 길이를 최대 길이로 맞추기\n",
    "encoder_input_train = pad_sequences(encoder_input_train, maxlen=text_max_len, padding='post')\n",
    "encoder_input_test = pad_sequences(encoder_input_test, maxlen=text_max_len, padding='post')\n",
    "decoder_input_train = pad_sequences(decoder_input_train, maxlen=summary_max_len, padding='post')\n",
    "decoder_target_train = pad_sequences(decoder_target_train, maxlen=summary_max_len, padding='post')\n",
    "decoder_input_test = pad_sequences(decoder_input_test, maxlen=summary_max_len, padding='post')\n",
    "decoder_target_test = pad_sequences(decoder_target_test, maxlen=summary_max_len, padding='post')"
   ]
  },
  {
   "cell_type": "code",
   "execution_count": 61,
   "id": "9e9b7225",
   "metadata": {},
   "outputs": [],
   "source": [
    "# 모델 생성 \n",
    "# 모델 생성 > 인코더 설계 시작\n",
    "embedding_dim = 128\n",
    "hidden_size = 256"
   ]
  },
  {
   "cell_type": "code",
   "execution_count": 62,
   "id": "d6dc6787",
   "metadata": {},
   "outputs": [],
   "source": [
    "# 인코더\n",
    "encoder_inputs = Input(shape=(text_max_len,))"
   ]
  },
  {
   "cell_type": "code",
   "execution_count": 63,
   "id": "6de58603",
   "metadata": {},
   "outputs": [],
   "source": [
    "# 인코더의 임베딩 층\n",
    "enc_emb = Embedding(src_vocab, embedding_dim)(encoder_inputs)"
   ]
  },
  {
   "cell_type": "code",
   "execution_count": 64,
   "id": "9fbd7110",
   "metadata": {},
   "outputs": [],
   "source": [
    "# 인코더의 LSTM 1\n",
    "# encoder_lstm1 = LSTM(hidden_size, return_sequences=True, return_state=True ,dropout = 0.4, recurrent_dropout = 0.4)\n",
    "encoder_lstm1 = LSTM(hidden_size, return_sequences=True, return_state=True ,dropout = 0.4)\n",
    "encoder_output1, state_h1, state_c1 = encoder_lstm1(enc_emb)"
   ]
  },
  {
   "cell_type": "code",
   "execution_count": 65,
   "id": "c850d4b8",
   "metadata": {},
   "outputs": [],
   "source": [
    "# 인코더의 LSTM 2\n",
    "encoder_lstm2 = LSTM(hidden_size, return_sequences=True, return_state=True ,dropout = 0.4)\n",
    "encoder_output2, state_h2, state_c2 = encoder_lstm2(encoder_output1)"
   ]
  },
  {
   "cell_type": "code",
   "execution_count": 66,
   "id": "b0dbe893",
   "metadata": {},
   "outputs": [],
   "source": [
    "# 인코더의 LSTM 3\n",
    "encoder_lstm3 = LSTM(hidden_size, return_sequences=True, return_state=True ,dropout = 0.4)\n",
    "encoder_outputs, state_h, state_c = encoder_lstm3(encoder_output2)"
   ]
  },
  {
   "cell_type": "code",
   "execution_count": 67,
   "id": "75579e7a",
   "metadata": {},
   "outputs": [],
   "source": [
    "# 모델 생성 > 디코더 설계\n",
    "decoder_inputs = Input(shape=(None,))"
   ]
  },
  {
   "cell_type": "code",
   "execution_count": 68,
   "id": "25dfe7c8",
   "metadata": {},
   "outputs": [],
   "source": [
    "# 디코더의 임베딩 층\n",
    "dec_emb_layer = Embedding(tar_vocab, embedding_dim)\n",
    "dec_emb = dec_emb_layer(decoder_inputs)"
   ]
  },
  {
   "cell_type": "code",
   "execution_count": 69,
   "id": "f2b1918d",
   "metadata": {},
   "outputs": [],
   "source": [
    "# 디코더의 LSTM\n",
    "# decoder_lstm = LSTM(hidden_size, return_sequences=True, return_state=True, dropout=0.4, recurrent_dropout=0.2)\n",
    "decoder_lstm = LSTM(hidden_size, return_sequences=True, return_state=True, dropout=0.4)\n",
    "decoder_outputs, _, _ = decoder_lstm(dec_emb, initial_state=[state_h, state_c])"
   ]
  },
  {
   "cell_type": "code",
   "execution_count": 70,
   "id": "1e7f2fe1",
   "metadata": {},
   "outputs": [],
   "source": [
    "# 디코더의 출력층\n",
    "decoder_softmax_layer = Dense(tar_vocab, activation='softmax')\n",
    "decoder_softmax_outputs = decoder_softmax_layer(decoder_outputs) "
   ]
  },
  {
   "cell_type": "code",
   "execution_count": 71,
   "id": "3b24a4ab",
   "metadata": {},
   "outputs": [
    {
     "name": "stdout",
     "output_type": "stream",
     "text": [
      "Model: \"model\"\n",
      "__________________________________________________________________________________________________\n",
      "Layer (type)                    Output Shape         Param #     Connected to                     \n",
      "==================================================================================================\n",
      "input_1 (InputLayer)            [(None, 45)]         0                                            \n",
      "__________________________________________________________________________________________________\n",
      "embedding (Embedding)           (None, 45, 128)      1024000     input_1[0][0]                    \n",
      "__________________________________________________________________________________________________\n",
      "lstm (LSTM)                     [(None, 45, 256), (N 394240      embedding[0][0]                  \n",
      "__________________________________________________________________________________________________\n",
      "input_2 (InputLayer)            [(None, None)]       0                                            \n",
      "__________________________________________________________________________________________________\n",
      "lstm_1 (LSTM)                   [(None, 45, 256), (N 525312      lstm[0][0]                       \n",
      "__________________________________________________________________________________________________\n",
      "embedding_1 (Embedding)         (None, None, 128)    256000      input_2[0][0]                    \n",
      "__________________________________________________________________________________________________\n",
      "lstm_2 (LSTM)                   [(None, 45, 256), (N 525312      lstm_1[0][0]                     \n",
      "__________________________________________________________________________________________________\n",
      "lstm_3 (LSTM)                   [(None, None, 256),  394240      embedding_1[0][0]                \n",
      "                                                                 lstm_2[0][1]                     \n",
      "                                                                 lstm_2[0][2]                     \n",
      "__________________________________________________________________________________________________\n",
      "dense (Dense)                   (None, None, 2000)   514000      lstm_3[0][0]                     \n",
      "==================================================================================================\n",
      "Total params: 3,633,104\n",
      "Trainable params: 3,633,104\n",
      "Non-trainable params: 0\n",
      "__________________________________________________________________________________________________\n"
     ]
    }
   ],
   "source": [
    "# 모델 정의\n",
    "model = Model([encoder_inputs, decoder_inputs], decoder_softmax_outputs)\n",
    "model.summary()"
   ]
  },
  {
   "cell_type": "code",
   "execution_count": 72,
   "id": "f4868a6f",
   "metadata": {},
   "outputs": [],
   "source": [
    "# 모델 생성 > 어텐션\n",
    "# 어텐션 층(어텐션 함수)\n",
    "attn_layer = AdditiveAttention(name='attention_layer')"
   ]
  },
  {
   "cell_type": "code",
   "execution_count": 73,
   "id": "38a29209",
   "metadata": {},
   "outputs": [],
   "source": [
    "# 인코더와 디코더의 모든 time step의 hidden state를 어텐션 층에 전달하고 결과를 리턴\n",
    "attn_out = attn_layer([decoder_outputs, encoder_outputs])"
   ]
  },
  {
   "cell_type": "code",
   "execution_count": 74,
   "id": "917df43a",
   "metadata": {},
   "outputs": [],
   "source": [
    "# 어텐션의 결과와 디코더의 hidden state들을 연결\n",
    "decoder_concat_input = Concatenate(axis=-1, name='concat_layer')([decoder_outputs, attn_out])"
   ]
  },
  {
   "cell_type": "code",
   "execution_count": 75,
   "id": "80128dc0",
   "metadata": {},
   "outputs": [],
   "source": [
    "# 디코더의 출력층\n",
    "decoder_softmax_layer = Dense(tar_vocab, activation='softmax')\n",
    "decoder_softmax_outputs = decoder_softmax_layer(decoder_concat_input)"
   ]
  },
  {
   "cell_type": "code",
   "execution_count": 76,
   "id": "45a2a1b0",
   "metadata": {},
   "outputs": [
    {
     "name": "stdout",
     "output_type": "stream",
     "text": [
      "Model: \"model_1\"\n",
      "__________________________________________________________________________________________________\n",
      "Layer (type)                    Output Shape         Param #     Connected to                     \n",
      "==================================================================================================\n",
      "input_1 (InputLayer)            [(None, 45)]         0                                            \n",
      "__________________________________________________________________________________________________\n",
      "embedding (Embedding)           (None, 45, 128)      1024000     input_1[0][0]                    \n",
      "__________________________________________________________________________________________________\n",
      "lstm (LSTM)                     [(None, 45, 256), (N 394240      embedding[0][0]                  \n",
      "__________________________________________________________________________________________________\n",
      "input_2 (InputLayer)            [(None, None)]       0                                            \n",
      "__________________________________________________________________________________________________\n",
      "lstm_1 (LSTM)                   [(None, 45, 256), (N 525312      lstm[0][0]                       \n",
      "__________________________________________________________________________________________________\n",
      "embedding_1 (Embedding)         (None, None, 128)    256000      input_2[0][0]                    \n",
      "__________________________________________________________________________________________________\n",
      "lstm_2 (LSTM)                   [(None, 45, 256), (N 525312      lstm_1[0][0]                     \n",
      "__________________________________________________________________________________________________\n",
      "lstm_3 (LSTM)                   [(None, None, 256),  394240      embedding_1[0][0]                \n",
      "                                                                 lstm_2[0][1]                     \n",
      "                                                                 lstm_2[0][2]                     \n",
      "__________________________________________________________________________________________________\n",
      "attention_layer (AdditiveAttent (None, None, 256)    256         lstm_3[0][0]                     \n",
      "                                                                 lstm_2[0][0]                     \n",
      "__________________________________________________________________________________________________\n",
      "concat_layer (Concatenate)      (None, None, 512)    0           lstm_3[0][0]                     \n",
      "                                                                 attention_layer[0][0]            \n",
      "__________________________________________________________________________________________________\n",
      "dense_1 (Dense)                 (None, None, 2000)   1026000     concat_layer[0][0]               \n",
      "==================================================================================================\n",
      "Total params: 4,145,360\n",
      "Trainable params: 4,145,360\n",
      "Non-trainable params: 0\n",
      "__________________________________________________________________________________________________\n"
     ]
    }
   ],
   "source": [
    "# 모델 정의\n",
    "model = Model([encoder_inputs, decoder_inputs], decoder_softmax_outputs)\n",
    "model.summary()"
   ]
  },
  {
   "cell_type": "code",
   "execution_count": 79,
   "id": "dc5dfec5",
   "metadata": {},
   "outputs": [],
   "source": [
    "# 모델 학습\n",
    "# 모델 학습 > 모델 컴파일\n",
    "model.compile(optimizer='rmsprop', loss='sparse_categorical_crossentropy')\n",
    "# 모델 학습 > 모델 조기 종료\n",
    "es = EarlyStopping(monitor='val_loss', patience=2, verbose=1)"
   ]
  },
  {
   "cell_type": "code",
   "execution_count": 78,
   "id": "a924e073",
   "metadata": {},
   "outputs": [
    {
     "name": "stdout",
     "output_type": "stream",
     "text": [
      "Epoch 1/50\n",
      "302/302 [==============================] - 30s 76ms/step - loss: 3.5876 - val_loss: 3.2998\n",
      "Epoch 2/50\n",
      "302/302 [==============================] - 22s 72ms/step - loss: 3.1390 - val_loss: 3.0061\n",
      "Epoch 3/50\n",
      "302/302 [==============================] - 22s 73ms/step - loss: 2.9013 - val_loss: 2.8229\n",
      "Epoch 4/50\n",
      "302/302 [==============================] - 22s 74ms/step - loss: 2.7270 - val_loss: 2.6920\n",
      "Epoch 5/50\n",
      "302/302 [==============================] - 22s 74ms/step - loss: 2.5929 - val_loss: 2.5892\n",
      "Epoch 6/50\n",
      "302/302 [==============================] - 22s 73ms/step - loss: 2.4847 - val_loss: 2.5166\n",
      "Epoch 7/50\n",
      "302/302 [==============================] - 22s 73ms/step - loss: 2.3956 - val_loss: 2.4553\n",
      "Epoch 8/50\n",
      "302/302 [==============================] - 22s 74ms/step - loss: 2.3189 - val_loss: 2.4083\n",
      "Epoch 9/50\n",
      "302/302 [==============================] - 22s 73ms/step - loss: 2.2530 - val_loss: 2.3665\n",
      "Epoch 10/50\n",
      "302/302 [==============================] - 22s 73ms/step - loss: 2.1955 - val_loss: 2.3456\n",
      "Epoch 11/50\n",
      "302/302 [==============================] - 22s 73ms/step - loss: 2.1433 - val_loss: 2.3152\n",
      "Epoch 12/50\n",
      "302/302 [==============================] - 22s 73ms/step - loss: 2.0963 - val_loss: 2.2950\n",
      "Epoch 13/50\n",
      "302/302 [==============================] - 22s 74ms/step - loss: 2.0537 - val_loss: 2.2837\n",
      "Epoch 14/50\n",
      "302/302 [==============================] - 22s 74ms/step - loss: 2.0160 - val_loss: 2.2659\n",
      "Epoch 15/50\n",
      "302/302 [==============================] - 22s 73ms/step - loss: 1.9801 - val_loss: 2.2507\n",
      "Epoch 16/50\n",
      "302/302 [==============================] - 22s 74ms/step - loss: 1.9459 - val_loss: 2.2453\n",
      "Epoch 17/50\n",
      "302/302 [==============================] - 22s 74ms/step - loss: 1.9156 - val_loss: 2.2391\n",
      "Epoch 18/50\n",
      "302/302 [==============================] - 22s 73ms/step - loss: 1.8863 - val_loss: 2.2354\n",
      "Epoch 19/50\n",
      "302/302 [==============================] - 22s 74ms/step - loss: 1.8591 - val_loss: 2.2308\n",
      "Epoch 20/50\n",
      "302/302 [==============================] - 22s 74ms/step - loss: 1.8325 - val_loss: 2.2276\n",
      "Epoch 21/50\n",
      "302/302 [==============================] - 22s 74ms/step - loss: 1.8085 - val_loss: 2.2263\n",
      "Epoch 22/50\n",
      "302/302 [==============================] - 22s 74ms/step - loss: 1.7854 - val_loss: 2.2250\n",
      "Epoch 23/50\n",
      "302/302 [==============================] - 22s 73ms/step - loss: 1.7635 - val_loss: 2.2281\n",
      "Epoch 24/50\n",
      "302/302 [==============================] - 22s 74ms/step - loss: 1.7419 - val_loss: 2.2277\n",
      "Epoch 00024: early stopping\n"
     ]
    }
   ],
   "source": [
    "# 모델 학습 > 모델 fit\n",
    "history = model.fit(x=[encoder_input_train, decoder_input_train], y=decoder_target_train, \\\n",
    "        validation_data=([encoder_input_test, decoder_input_test], decoder_target_test), \\\n",
    "        batch_size=256, callbacks=[es], epochs=50)"
   ]
  },
  {
   "cell_type": "code",
   "execution_count": 80,
   "id": "57e617ee",
   "metadata": {},
   "outputs": [
    {
     "data": {
      "image/png": "[encoded data removed]",
      "text/plain": [
       "<Figure size 432x288 with 1 Axes>"
      ]
     },
     "metadata": {
      "needs_background": "light"
     },
     "output_type": "display_data"
    }
   ],
   "source": [
    "# 모델 평가\n",
    "# 모델 평가 > 훈련 데이터의 손실과 검증 데이터 시각화\n",
    "# 모델 평가 > train loss와 validation loss\n",
    "plt.plot(history.history['loss'], label='train')\n",
    "plt.plot(history.history['val_loss'], label='test')\n",
    "plt.legend()\n",
    "plt.show()"
   ]
  },
  {
   "cell_type": "code",
   "execution_count": 81,
   "id": "182f4741",
   "metadata": {},
   "outputs": [],
   "source": [
    "# 인퍼런스 모델 구현\n",
    "src_index_to_word = src_tokenizer.index_word # 원문 단어 집합에서 정수 -> 단어를 얻음\n",
    "tar_word_to_index = tar_tokenizer.word_index # 요약 단어 집합에서 단어 -> 정수를 얻음\n",
    "tar_index_to_word = tar_tokenizer.index_word # 요약 단어 집합에서 정수 -> 단어를 얻음"
   ]
  },
  {
   "cell_type": "code",
   "execution_count": 82,
   "id": "6ac7f79e",
   "metadata": {},
   "outputs": [],
   "source": [
    "# 인코더 설계\n",
    "encoder_model = Model(inputs=encoder_inputs, outputs=[encoder_outputs, state_h, state_c])"
   ]
  },
  {
   "cell_type": "code",
   "execution_count": 83,
   "id": "76407d2a",
   "metadata": {},
   "outputs": [],
   "source": [
    "# 이전 시점의 상태들을 저장하는 텐서\n",
    "decoder_state_input_h = Input(shape=(hidden_size,))\n",
    "decoder_state_input_c = Input(shape=(hidden_size,))"
   ]
  },
  {
   "cell_type": "code",
   "execution_count": 84,
   "id": "43d582ab",
   "metadata": {},
   "outputs": [],
   "source": [
    "dec_emb2 = dec_emb_layer(decoder_inputs)"
   ]
  },
  {
   "cell_type": "code",
   "execution_count": 85,
   "id": "45a75b9c",
   "metadata": {},
   "outputs": [],
   "source": [
    "# 문장의 다음 단어를 예측하기 위해서 초기 상태(initial_state)를 이전 시점의 상태로 사용. 이는 뒤의 함수 decode_sequence()에 구현\n",
    "# 훈련 과정에서와 달리 LSTM의 리턴하는 은닉 상태와 셀 상태인 state_h와 state_c를 버리지 않음.\n",
    "decoder_outputs2, state_h2, state_c2 = decoder_lstm(dec_emb2, initial_state=[decoder_state_input_h, decoder_state_input_c])"
   ]
  },
  {
   "cell_type": "code",
   "execution_count": 86,
   "id": "d7f596a7",
   "metadata": {},
   "outputs": [],
   "source": [
    "# 어텐션 함수\n",
    "decoder_hidden_state_input = Input(shape=(text_max_len, hidden_size))\n",
    "attn_out_inf = attn_layer([decoder_outputs2, decoder_hidden_state_input])\n",
    "decoder_inf_concat = Concatenate(axis=-1, name='concat')([decoder_outputs2, attn_out_inf])"
   ]
  },
  {
   "cell_type": "code",
   "execution_count": 87,
   "id": "e889f0e5",
   "metadata": {},
   "outputs": [],
   "source": [
    "# 디코더의 출력층\n",
    "decoder_outputs2 = decoder_softmax_layer(decoder_inf_concat) "
   ]
  },
  {
   "cell_type": "code",
   "execution_count": 88,
   "id": "e8d02888",
   "metadata": {},
   "outputs": [],
   "source": [
    "# 최종 디코더 모델\n",
    "decoder_model = Model(\n",
    "    [decoder_inputs] + [decoder_hidden_state_input,decoder_state_input_h, decoder_state_input_c],\n",
    "    [decoder_outputs2] + [state_h2, state_c2])"
   ]
  },
  {
   "cell_type": "code",
   "execution_count": 105,
   "id": "138599bd",
   "metadata": {},
   "outputs": [
    {
     "name": "stdout",
     "output_type": "stream",
     "text": [
      "Abstractive\n",
      "원문 : british roger oscar best category film runner th academy awards nominated times previously runner also award best effects award show first oscar nomination film\n",
      "실제 요약 : wins award after losing times in past\n",
      "예측 요약 : named best actor at\n",
      "\n",
      "\n",
      "원문 : australian cricket team slipped two places fifth rank icc test team rankings losing two match test series pakistan margin friday australia started second test india south africa loss saw england new zealand reach third fourth place respectively\n",
      "실제 요약 : aus to th after test series loss against pakistan\n",
      "예측 요약 : australia australia australia to take lead in test series\n",
      "\n",
      "\n",
      "원문 : man allegedly attacked wife relatives outside hyderabad police station thursday went register complaint harassment police said couple married since living separately eight months wife relatives injured attack\n",
      "실제 요약 : man attacks wife with outside hyderabad police station\n",
      "예측 요약 : man wife wife with police station\n",
      "\n",
      "\n",
      "원문 : people injured stone pelting festival held uttarakhand called participants enter ground singing dancing carry wooden protect try hit others held every year festival part ritual local\n",
      "실제 요약 : over people injured during khand stone festival\n",
      "예측 요약 : in pictures celebrates\n",
      "\n",
      "\n",
      "원문 : china planning ban diesel petrol cars working end production sales vice industry minister said move aims reduce pollution oil imports electric vehicles notably france uk announced plans earlier year ban diesel petrol cars\n",
      "실제 요약 : china to ban sale of petrol and diesel cars\n",
      "예측 요약 : china to allow fuel to set up to\n",
      "\n",
      "\n",
      "원문 : hearing petitions challenging constitutional validity aadhaar supreme court lasted days span nearly four months becoming second longest hearing apex court history longest hearing sc lasted five months petition questioning parliament power constitution\n",
      "실제 요약 : aadhaar hearing second longest in supreme court history\n",
      "예측 요약 : sc to review of in yrs\n",
      "\n",
      "\n",
      "원문 : twenty time english champions manchester united signed arsenal straight deal joining joined arsenal barcelona million receive reported salary week united number jersey previously worn players like cristiano ronaldo david beckham\n",
      "실제 요약 : man utd sign from in deal\n",
      "예측 요약 : to be named after league exit\n",
      "\n",
      "\n",
      "원문 : opposition parties launched protests haryana government installed statue rss pandit haryana raj bhawan chandigarh city permit installation statues raj bhawan party politics hence attempt opposition party leader said letter government\n",
      "실제 요약 : protests after haryana govt rss statue\n",
      "예측 요약 : aiadmk to protest against ram\n",
      "\n",
      "\n",
      "원문 : europe chief called jews show muslims saying jews muslims europe common cause attacks minority religions defending religious freedom warned rise ultra nationalist parties damage european union caused brexit threatened security jewish muslim minorities\n",
      "실제 요약 : europe top calls for with muslims\n",
      "예측 요약 : muslims to religious crisis\n",
      "\n",
      "\n",
      "원문 : us state new jersey monday passed law making illegal fly unmanned drone aircraft drunk law flying drone blood alcohol content higher driving vehicle meanwhile face six months jail fine\n",
      "실제 요약 : flying drone while drunk made illegal in us state\n",
      "예측 요약 : us first to fly to fly driving\n",
      "\n",
      "\n",
      "원문 : external affairs minister sushma swaraj saturday helped italian national injured road accident yamuna expressway uttar pradesh user tweeted swaraj alone hospital swaraj replied alone india spoken kailash hospital take care\n",
      "실제 요약 : he is not he is in india swaraj helps italian national\n",
      "예측 요약 : sushma swaraj meets iaf officer in bangladesh\n",
      "\n",
      "\n",
      "원문 : pizza taken non vegetarian menu gujarat citing state market customers prefer vegetarian food change reportedly came effect october chain reportedly outlets gujarat changing menu offer vegetarian certain states season since\n",
      "실제 요약 : in gujarat take non off\n",
      "예측 요약 : gujarat university to offer\n",
      "\n",
      "\n",
      "원문 : dharmendra said shooting knew film even script anything ready made franchise sequel added dharmendra said enjoy shooting film\n",
      "실제 요약 : knew was\n",
      "예측 요약 : was to be in film\n",
      "\n",
      "\n",
      "원문 : map google project showing houses across us solar enough area solar panels google uses data google maps google earth generate models total sunlight reaches roof google data says city solar potential\n",
      "실제 요약 : google to show for solar in us\n",
      "예측 요약 : google to build ai data to google ai\n",
      "\n",
      "\n",
      "원문 : government wednesday gave time till april deposits people declared income pradhan mantri kalyan yojana scheme opened december provided last chance holders undisclosed income come clean paying tax penalty scheme closed march\n",
      "실제 요약 : deadline in scheme till\n",
      "예측 요약 : govt to be declared for st time in yrs\n",
      "\n",
      "\n",
      "원문 : indian princess singh honoured royal mail uk mark movement daughter singh woman one eight image shows selling copies newspaper\n",
      "실제 요약 : indian gets royal\n",
      "예측 요약 : indian american in uk royal wedding\n",
      "\n",
      "\n",
      "원문 : pro islamic state media group media center warned attacks india published depicting taj mahal possible target features image taj mahal words new target van text agra also threat suicide attack\n",
      "실제 요약 : pro islamic state group warns of attack on taj mahal\n",
      "예측 요약 : isis to taj mahal\n",
      "\n",
      "\n",
      "원문 : airlines operating india pay fine environmental compensation found dumping toilet waste mid air directorate general civil aviation warned dgca stated compliance directions national green tribunal earlier warned would stop funding salaries dgca employees human dumped mid air\n",
      "실제 요약 : airlines to be fined for mid air\n",
      "예측 요약 : airlines fined lakh for not paying on\n",
      "\n",
      "\n",
      "원문 : year old former state level cricketer saurabh arrested uttar pradesh allegedly duping young cricket per police saurabh took lakh cricketers giving fake visas pretext playing club cricket australia crime reported july delhi resident complained police\n",
      "실제 요약 : former cricketer arrested for young\n",
      "예측 요약 : ex cricketer arrested for yr old\n",
      "\n",
      "\n",
      "원문 : rbi asked cooperative use word bank names violates banking regulation act central bank said neither issued licence authorised rbi undertake banking business advised public exercise dealing cooperative\n",
      "실제 요약 : rbi asks not to use bank in names\n",
      "예측 요약 : rbi to bank of aadhaar\n",
      "\n",
      "\n",
      "원문 : american singer got injured concert new york stage shaped like two giant guns representative said taken hospital certain claim performing song tried climbing onto guns fell backward fell upon\n",
      "실제 요약 : singer injured as stage fall on him\n",
      "예측 요약 : concert at concert\n",
      "\n",
      "\n",
      "원문 : actress anushka sharma sharing first video look upcoming film tweeted dreams guys video new release date film occasion march also starring chatterjee kapoor mark directorial debut roy feature films\n",
      "실제 요약 : anushka on st video of her look in\n",
      "예측 요약 : anushka sharma look from arjun\n",
      "\n",
      "\n",
      "원문 : us president donald trump awarded medal residents afghanistan province stance pakistan medal handed us embassy kabul worth approximately made grams gold according reports\n",
      "실제 요약 : award medal of to us prez trump\n",
      "예측 요약 : trump to get in pakistan\n",
      "\n",
      "\n",
      "원문 : american rapper offered million russian ufc beat conor mcgregor recently ufc join rival promotion think wrong ufc thing mcgregor rapper tweeted brawl mcgregor team\n",
      "실제 요약 : offers russian champ million to quit\n",
      "예측 요약 : to be in us\n",
      "\n",
      "\n",
      "원문 : us based security firm found new bluetooth bug called hack phone seconds without touching bug bluetooth device malicious codes bluetooth enabled phones attack allow access computers phones well devices\n",
      "실제 요약 : bug phone in\n",
      "예측 요약 : bug bug lets users\n",
      "\n",
      "\n",
      "원문 : teaser reality series life kylie showcase life television personality kylie jenner released jenner talking raised front camera keeping grow camera everybody feels like know said kylie teaser\n",
      "실제 요약 : first teaser of show on released\n",
      "예측 요약 : teaser of real film\n",
      "\n",
      "\n",
      "원문 : two men taken custody eight found possession maharashtra police reportedly got know matter receiving complaint wildlife activist raided house investigation launched matter\n",
      "실제 요약 : seized in maharashtra\n",
      "예측 요약 : men in suspected suspected\n",
      "\n",
      "\n",
      "원문 : germany based smart startup raised million funding amazon investors round also saw participation investors including total energy ventures energy innovation capital capital european investment bank founded munich headquartered startup offers technology solutions energy consumption homes\n",
      "실제 요약 : smart startup raises mn from amazon others\n",
      "예측 요약 : smart startup raises million\n",
      "\n",
      "\n",
      "원문 : proposal government install school premises prevent students porn sites government said thursday however order prevent access sites cell phones driver anyone charge children buses installed buses added\n",
      "실제 요약 : no plan to in schools to porn govt\n",
      "예측 요약 : govt school to check on\n",
      "\n",
      "\n",
      "원문 : letter supporting ias officer shah tweet rape india congress president rahul gandhi said stand letter spirit adding government opinion gandhi said deserve appreciated identifying highlighting issues india\n",
      "실제 요약 : we stand by you rahul to ias over tweet against rape\n",
      "예측 요약 : rahul gandhi is not rahul\n",
      "\n",
      "\n",
      "원문 : six year old homeless girl allegedly kidnapped raped year old man drug delhi police said found lying pool blood admitted hospital critical condition delhi commission women chief visited said bad condition\n",
      "실제 요약 : year old girl raped by drug in delhi\n",
      "예측 요약 : year old girl raped by in delhi\n",
      "\n",
      "\n",
      "원문 : days acid leak reported vedanta sterlite copper plant tamil nadu tuticorin district collector sandeep said tonnes acid removed site authorities dismissed incident minor leak vedanta moved madras high court claiming government inaction could lead severe environmental consequences\n",
      "실제 요약 : removed from tn plant\n",
      "예측 요약 : fire at plant in tn amid tn polls\n",
      "\n",
      "\n",
      "원문 : microsoft wednesday announced company signed agreement acquire us based artificial intelligence startup undisclosed amount microsoft said deal help company work autonomous systems founded follows learning approach involves training ai systems better trial error\n",
      "실제 요약 : microsoft acquires ai startup\n",
      "예측 요약 : microsoft buys us startup for us\n",
      "\n",
      "\n",
      "원문 : nuclear deal iran six world powers including russia china us uk france germany signed july deal iran agreed limit nuclear activities return sanctions economy deal came years tension iran alleged efforts develop nuclear weapon\n",
      "실제 요약 : what is the iran nuclear deal\n",
      "예측 요약 : iran to build nuclear deal with us\n",
      "\n",
      "\n",
      "원문 : athletics federation india officials high definition footage japanese team member check false starts metre event asian athletics championships odisha officials alleged equipment employed fail proof following complaint malaysia hafiz japanese footage checked two athletes disqualified false starts\n",
      "실제 요약 : japanese to indian to check false start\n",
      "예측 요약 : indian team faces world largest asiad\n",
      "\n",
      "\n",
      "원문 : year old boy arrested uttar pradesh allegedly raping year old neighbour alone home accused lured girl silver ring later threatened consequences told incident anyone girl however told mother approached police\n",
      "실제 요약 : year old boy arrested for raping year old girl in up\n",
      "예측 요약 : year old rapes year old girl in bihar\n",
      "\n",
      "\n",
      "원문 : norwegian startup developed ink company claims feels like paper device comes allows users write draw inch electronic paper require external light source response time lets users write real time screen\n",
      "실제 요약 : which like paper made\n",
      "예측 요약 : startup claims fake device to\n",
      "\n",
      "\n",
      "원문 : italian police tuesday arrested suspected new head mafia along associates year old jeweller head mafia region promoted lead entire crime group may died prison last year\n",
      "실제 요약 : arrested in italy\n",
      "예측 요약 : italian arrests for officer\n",
      "\n",
      "\n",
      "원문 : recreated version song ka hai taapsee pannu starrer dil released new version composed vocals directed sen dil scheduled release february\n",
      "실제 요약 : of hai from out\n",
      "예측 요약 : song from taapsee starrer released\n",
      "\n",
      "\n",
      "원문 : karnataka asked supreme court review decision drop proceedings late tamil nadu cm jayalalithaa disproportionate assets case saying recover crore fine estate sale sc earlier overturned karnataka high court order giving clean jayalalithaa charges due death\n",
      "실제 요약 : cr fine from sale taka tells sc\n",
      "예측 요약 : sc taka govt to assets of assets\n",
      "\n",
      "\n",
      "원문 : brazilian forward neymar teenager floor losing ball five side match psg forward executed several teenager kept eye ball successfully stole ball reacting incident user tweeted cannot believe stayed feet roll times\n",
      "실제 요약 : loses ball to teen in match him to floor\n",
      "예측 요약 : player ball with ball\n",
      "\n",
      "\n",
      "원문 : bcci released video pacer ashish nehra indian cricketers seen wishing luck future dinesh karthik recalled nehra first bowler bowled kept wickets india first time rohit sharma termed nehra world cup spell memory nehra\n",
      "실제 요약 : bcci you video to before\n",
      "예측 요약 : bcci to give to wicket\n",
      "\n",
      "\n",
      "원문 : union minister jitendra singh tuesday said jawaharlal nehru believed knew kashmir better anyone else therefore even allow home minister handle pm nehru would allowed home minister patel handle state free hand sure history india would different added\n",
      "실제 요약 : did not let patel minister\n",
      "예측 요약 : do not have to be\n",
      "\n",
      "\n",
      "원문 : india captain virat kohli said meeting new zealand bound india team ahead world cup coach rahul dravid asked talking current captain prithvi shaw kohli said special ability performed well age first class cricket normal\n",
      "실제 요약 : will meet the team dravid has asked me to virat\n",
      "예측 요약 : kohli is the team of the world cup kohli\n",
      "\n",
      "\n",
      "원문 : microsoft india born ceo satya nadella book hit said efforts reach ai potential require work first trip moon also wrote technology industry needs set goal ai one goes beyond anything\n",
      "실제 요약 : ai to more work than first moon trip microsoft ceo\n",
      "예측 요약 : ai is the first time to make around us microsoft ceo\n",
      "\n",
      "\n",
      "원문 : content many government websites changed hackers since minister state electronics chaudhary said friday websites compromised incidents took place till date chaudhary added\n",
      "실제 요약 : hackers changed content of govt since\n",
      "예측 요약 : govt warns of ads after\n",
      "\n",
      "\n",
      "원문 : scientists found australian hinted towards illegal nuclear test claimed conducted israel indian ocean around years ago notably us satellite detected double flash near prince islands southern indian ocean september\n",
      "실제 요약 : illegal israeli nuclear test\n",
      "예측 요약 : year old discovered in germany\n",
      "\n",
      "\n",
      "원문 : bjp mp said woman safe rjd new delhi protest bihar shelter home rape case speaking congress president rahul gandhi joining said look happened rahul gandhi previous march even priyanka gandhi felt unsafe referring kathua unnao rape case protest priyanka\n",
      "실제 요약 : no woman safe in bihar shelter rape case protest bjp mp\n",
      "예측 요약 : bjp mp to be in bihar shelter to rahul gandhi\n",
      "\n",
      "\n",
      "원문 : pakistani court saturday acquitted former pm husband former president asif ali year old corruption case accused laundering crore court acquitted country national bureau failed bring evidence witnesses\n",
      "실제 요약 : pak husband in yr old case\n",
      "예측 요약 : ex pakistan pm wife to pay crore\n",
      "\n",
      "\n",
      "원문 : us president donald trump visit puerto rico next week take stock caused hurricane maria comes trump tweeted puerto rico already suffering massive debt deep trouble storm struck puerto rico last week claimed least lives left entire island without electricity\n",
      "실제 요약 : donald trump to visit next week\n",
      "예측 요약 : trump to end in\n",
      "\n",
      "\n"
     ]
    }
   ],
   "source": [
    "# Abstractive 요약 분석\n",
    "print(\"Abstractive\")\n",
    "for i in range(50, 100):\n",
    "    print(\"원문 :\", seq2text(encoder_input_test[i], src_index_to_word).strip())\n",
    "    print(\"실제 요약 :\", seq2summary(decoder_input_test[i], tar_index_to_word).strip())\n",
    "    print(\"예측 요약 :\", decode_sequence(encoder_model, decoder_model, encoder_input_test[i].reshape(1, text_max_len), tar_word_to_index).strip())\n",
    "    print(\"\\n\")"
   ]
  },
  {
   "cell_type": "code",
   "execution_count": 106,
   "id": "728d7fd4",
   "metadata": {},
   "outputs": [
    {
     "data": {
      "text/plain": [
       "'\\nsummarize parameter\\ntext (str) : 요약할 테스트.\\nratio (float, optional) – 요약문에서 원본에서 선택되는 문장 비율. 0~1 사이값\\nwords (int or None, optional) – 출력에 포함할 단어 수.\\n만약, ratio와 함께 두 파라미터가 모두 제공되는 경우 ratio는 무시한다.\\nsplit (bool, optional) – True면 문장 list / False는 조인(join)된 문자열을 반환\\n'"
      ]
     },
     "execution_count": 106,
     "metadata": {},
     "output_type": "execute_result"
    }
   ],
   "source": [
    "'''\n",
    "summarize parameter\n",
    "text (str) : 요약할 테스트.\n",
    "ratio (float, optional) – 요약문에서 원본에서 선택되는 문장 비율. 0~1 사이값\n",
    "words (int or None, optional) – 출력에 포함할 단어 수.\n",
    "만약, ratio와 함께 두 파라미터가 모두 제공되는 경우 ratio는 무시한다.\n",
    "split (bool, optional) – True면 문장 list / False는 조인(join)된 문자열을 반환\n",
    "'''"
   ]
  },
  {
   "cell_type": "code",
   "execution_count": 215,
   "id": "f76b29c9",
   "metadata": {},
   "outputs": [
    {
     "name": "stdout",
     "output_type": "stream",
     "text": [
      "Extractive\n",
      "161\n",
      "원문 : british roger oscar best category film runner th academy awards nominated times previously runner also award best effects award show first oscar nomination film \n",
      "요약 : \n",
      "\n",
      "\n",
      "245\n",
      "원문 : australian cricket team slipped two places fifth rank icc test team rankings losing two match test series pakistan margin friday australia started second test india south africa loss saw england new zealand reach third fourth place respectively \n",
      "요약 : \n",
      "\n",
      "\n",
      "209\n",
      "원문 : man allegedly attacked wife relatives outside hyderabad police station thursday went register complaint harassment police said couple married since living separately eight months wife relatives injured attack \n",
      "요약 : \n",
      "\n",
      "\n",
      "183\n",
      "원문 : people injured stone pelting festival held uttarakhand called participants enter ground singing dancing carry wooden protect try hit others held every year festival part ritual local \n",
      "요약 : \n",
      "\n",
      "\n",
      "222\n",
      "원문 : china planning ban diesel petrol cars working end production sales vice industry minister said move aims reduce pollution oil imports electric vehicles notably france uk announced plans earlier year ban diesel petrol cars \n",
      "요약 : \n",
      "\n",
      "\n",
      "252\n",
      "원문 : hearing petitions challenging constitutional validity aadhaar supreme court lasted days span nearly four months becoming second longest hearing apex court history longest hearing sc lasted five months petition questioning parliament power constitution \n",
      "요약 : \n",
      "\n",
      "\n",
      "229\n",
      "원문 : twenty time english champions manchester united signed arsenal straight deal joining joined arsenal barcelona million receive reported salary week united number jersey previously worn players like cristiano ronaldo david beckham \n",
      "요약 : \n",
      "\n",
      "\n",
      "234\n",
      "원문 : opposition parties launched protests haryana government installed statue rss pandit haryana raj bhawan chandigarh city permit installation statues raj bhawan party politics hence attempt opposition party leader said letter government \n",
      "요약 : \n",
      "\n",
      "\n",
      "252\n",
      "원문 : europe chief called jews show muslims saying jews muslims europe common cause attacks minority religions defending religious freedom warned rise ultra nationalist parties damage european union caused brexit threatened security jewish muslim minorities \n",
      "요약 : \n",
      "\n",
      "\n",
      "185\n",
      "원문 : us state new jersey monday passed law making illegal fly unmanned drone aircraft drunk law flying drone blood alcohol content higher driving vehicle meanwhile face six months jail fine \n",
      "요약 : \n",
      "\n",
      "\n",
      "223\n",
      "원문 : external affairs minister sushma swaraj saturday helped italian national injured road accident yamuna expressway uttar pradesh user tweeted swaraj alone hospital swaraj replied alone india spoken kailash hospital take care \n",
      "요약 : \n",
      "\n",
      "\n",
      "223\n",
      "원문 : pizza taken non vegetarian menu gujarat citing state market customers prefer vegetarian food change reportedly came effect october chain reportedly outlets gujarat changing menu offer vegetarian certain states season since \n",
      "요약 : \n",
      "\n",
      "\n",
      "126\n",
      "원문 : dharmendra said shooting knew film even script anything ready made franchise sequel added dharmendra said enjoy shooting film \n",
      "요약 : \n",
      "\n",
      "\n",
      "199\n",
      "원문 : map google project showing houses across us solar enough area solar panels google uses data google maps google earth generate models total sunlight reaches roof google data says city solar potential \n",
      "요약 : \n",
      "\n",
      "\n",
      "224\n",
      "원문 : government wednesday gave time till april deposits people declared income pradhan mantri kalyan yojana scheme opened december provided last chance holders undisclosed income come clean paying tax penalty scheme closed march \n",
      "요약 : \n",
      "\n",
      "\n",
      "127\n",
      "원문 : indian princess singh honoured royal mail uk mark movement daughter singh woman one eight image shows selling copies newspaper \n",
      "요약 : \n",
      "\n",
      "\n",
      "193\n",
      "원문 : pro islamic state media group media center warned attacks india published depicting taj mahal possible target features image taj mahal words new target van text agra also threat suicide attack \n",
      "요약 : \n",
      "\n",
      "\n",
      "275\n",
      "원문 : airlines operating india pay fine environmental compensation found dumping toilet waste mid air directorate general civil aviation warned dgca stated compliance directions national green tribunal earlier warned would stop funding salaries dgca employees human dumped mid air \n",
      "요약 : \n",
      "\n",
      "\n",
      "250\n",
      "원문 : year old former state level cricketer saurabh arrested uttar pradesh allegedly duping young cricket per police saurabh took lakh cricketers giving fake visas pretext playing club cricket australia crime reported july delhi resident complained police \n",
      "요약 : \n",
      "\n",
      "\n",
      "201\n",
      "원문 : rbi asked cooperative use word bank names violates banking regulation act central bank said neither issued licence authorised rbi undertake banking business advised public exercise dealing cooperative \n",
      "요약 : \n",
      "\n",
      "\n",
      "192\n",
      "원문 : american singer got injured concert new york stage shaped like two giant guns representative said taken hospital certain claim performing song tried climbing onto guns fell backward fell upon \n",
      "요약 : \n",
      "\n",
      "\n",
      "198\n",
      "원문 : actress anushka sharma sharing first video look upcoming film tweeted dreams guys video new release date film occasion march also starring chatterjee kapoor mark directorial debut roy feature films \n",
      "요약 : \n",
      "\n",
      "\n",
      "171\n",
      "원문 : us president donald trump awarded medal residents afghanistan province stance pakistan medal handed us embassy kabul worth approximately made grams gold according reports \n",
      "요약 : \n",
      "\n",
      "\n",
      "164\n",
      "원문 : american rapper offered million russian ufc beat conor mcgregor recently ufc join rival promotion think wrong ufc thing mcgregor rapper tweeted brawl mcgregor team \n",
      "요약 : \n",
      "\n",
      "\n",
      "202\n",
      "원문 : us based security firm found new bluetooth bug called hack phone seconds without touching bug bluetooth device malicious codes bluetooth enabled phones attack allow access computers phones well devices \n",
      "요약 : \n",
      "\n",
      "\n",
      "191\n",
      "원문 : teaser reality series life kylie showcase life television personality kylie jenner released jenner talking raised front camera keeping grow camera everybody feels like know said kylie teaser \n",
      "요약 : \n",
      "\n",
      "\n",
      "172\n",
      "원문 : two men taken custody eight found possession maharashtra police reportedly got know matter receiving complaint wildlife activist raided house investigation launched matter \n",
      "요약 : \n",
      "\n",
      "\n",
      "288\n",
      "원문 : germany based smart startup raised million funding amazon investors round also saw participation investors including total energy ventures energy innovation capital capital european investment bank founded munich headquartered startup offers technology solutions energy consumption homes \n",
      "요약 : \n",
      "\n",
      "\n",
      "202\n",
      "원문 : proposal government install school premises prevent students porn sites government said thursday however order prevent access sites cell phones driver anyone charge children buses installed buses added \n",
      "요약 : \n",
      "\n",
      "\n",
      "205\n",
      "원문 : letter supporting ias officer shah tweet rape india congress president rahul gandhi said stand letter spirit adding government opinion gandhi said deserve appreciated identifying highlighting issues india \n",
      "요약 : \n",
      "\n",
      "\n",
      "205\n",
      "원문 : six year old homeless girl allegedly kidnapped raped year old man drug delhi police said found lying pool blood admitted hospital critical condition delhi commission women chief visited said bad condition \n",
      "요약 : \n",
      "\n",
      "\n",
      "280\n",
      "원문 : days acid leak reported vedanta sterlite copper plant tamil nadu tuticorin district collector sandeep said tonnes acid removed site authorities dismissed incident minor leak vedanta moved madras high court claiming government inaction could lead severe environmental consequences \n",
      "요약 : \n",
      "\n",
      "\n",
      "262\n",
      "원문 : microsoft wednesday announced company signed agreement acquire us based artificial intelligence startup undisclosed amount microsoft said deal help company work autonomous systems founded follows learning approach involves training ai systems better trial error \n",
      "요약 : \n",
      "\n",
      "\n",
      "226\n",
      "원문 : nuclear deal iran six world powers including russia china us uk france germany signed july deal iran agreed limit nuclear activities return sanctions economy deal came years tension iran alleged efforts develop nuclear weapon \n",
      "요약 : \n",
      "\n",
      "\n",
      "297\n",
      "원문 : athletics federation india officials high definition footage japanese team member check false starts metre event asian athletics championships odisha officials alleged equipment employed fail proof following complaint malaysia hafiz japanese footage checked two athletes disqualified false starts \n",
      "요약 : \n",
      "\n",
      "\n",
      "208\n",
      "원문 : year old boy arrested uttar pradesh allegedly raping year old neighbour alone home accused lured girl silver ring later threatened consequences told incident anyone girl however told mother approached police \n",
      "요약 : \n",
      "\n",
      "\n",
      "201\n",
      "원문 : norwegian startup developed ink company claims feels like paper device comes allows users write draw inch electronic paper require external light source response time lets users write real time screen \n",
      "요약 : \n",
      "\n",
      "\n",
      "169\n",
      "원문 : italian police tuesday arrested suspected new head mafia along associates year old jeweller head mafia region promoted lead entire crime group may died prison last year \n",
      "요약 : \n",
      "\n",
      "\n",
      "137\n",
      "원문 : recreated version song ka hai taapsee pannu starrer dil released new version composed vocals directed sen dil scheduled release february \n",
      "요약 : \n",
      "\n",
      "\n",
      "255\n",
      "원문 : karnataka asked supreme court review decision drop proceedings late tamil nadu cm jayalalithaa disproportionate assets case saying recover crore fine estate sale sc earlier overturned karnataka high court order giving clean jayalalithaa charges due death \n",
      "요약 : \n",
      "\n",
      "\n",
      "213\n",
      "원문 : brazilian forward neymar teenager floor losing ball five side match psg forward executed several teenager kept eye ball successfully stole ball reacting incident user tweeted cannot believe stayed feet roll times \n",
      "요약 : \n",
      "\n",
      "\n",
      "217\n",
      "원문 : bcci released video pacer ashish nehra indian cricketers seen wishing luck future dinesh karthik recalled nehra first bowler bowled kept wickets india first time rohit sharma termed nehra world cup spell memory nehra \n",
      "요약 : \n",
      "\n",
      "\n",
      "250\n",
      "원문 : union minister jitendra singh tuesday said jawaharlal nehru believed knew kashmir better anyone else therefore even allow home minister handle pm nehru would allowed home minister patel handle state free hand sure history india would different added \n",
      "요약 : \n",
      "\n",
      "\n",
      "219\n",
      "원문 : india captain virat kohli said meeting new zealand bound india team ahead world cup coach rahul dravid asked talking current captain prithvi shaw kohli said special ability performed well age first class cricket normal \n",
      "요약 : \n",
      "\n",
      "\n",
      "183\n",
      "원문 : microsoft india born ceo satya nadella book hit said efforts reach ai potential require work first trip moon also wrote technology industry needs set goal ai one goes beyond anything \n",
      "요약 : \n",
      "\n",
      "\n",
      "172\n",
      "원문 : content many government websites changed hackers since minister state electronics chaudhary said friday websites compromised incidents took place till date chaudhary added \n",
      "요약 : \n",
      "\n",
      "\n",
      "214\n",
      "원문 : scientists found australian hinted towards illegal nuclear test claimed conducted israel indian ocean around years ago notably us satellite detected double flash near prince islands southern indian ocean september \n",
      "요약 : \n",
      "\n",
      "\n",
      "253\n",
      "원문 : bjp mp said woman safe rjd new delhi protest bihar shelter home rape case speaking congress president rahul gandhi joining said look happened rahul gandhi previous march even priyanka gandhi felt unsafe referring kathua unnao rape case protest priyanka \n",
      "요약 : \n",
      "\n",
      "\n",
      "201\n",
      "원문 : pakistani court saturday acquitted former pm husband former president asif ali year old corruption case accused laundering crore court acquitted country national bureau failed bring evidence witnesses \n",
      "요약 : \n",
      "\n",
      "\n",
      "258\n",
      "원문 : us president donald trump visit puerto rico next week take stock caused hurricane maria comes trump tweeted puerto rico already suffering massive debt deep trouble storm struck puerto rico last week claimed least lives left entire island without electricity \n",
      "요약 : \n",
      "\n",
      "\n"
     ]
    }
   ],
   "source": [
    "# Extractive 요약 \n",
    "print(\"Extractive\")\n",
    "for i in range(50, 100):\n",
    "    text = seq2text(encoder_input_test[i], src_index_to_word)\n",
    "    print(len(text))\n",
    "    print(\"원문 :\", text)\n",
    "    print(\"요약 :\", summarize(text)) # summarize 해당 text에 작동 안함\n",
    "    print(\"\\n\")"
   ]
  },
  {
   "cell_type": "code",
   "execution_count": null,
   "id": "0e41de87",
   "metadata": {},
   "outputs": [],
   "source": []
  },
  {
   "cell_type": "code",
   "execution_count": null,
   "id": "fef713a7",
   "metadata": {},
   "outputs": [],
   "source": []
  },
  {
   "cell_type": "code",
   "execution_count": null,
   "id": "a7f1c64f",
   "metadata": {},
   "outputs": [],
   "source": []
  },
  {
   "cell_type": "code",
   "execution_count": null,
   "id": "1af77f6c",
   "metadata": {},
   "outputs": [],
   "source": []
  },
  {
   "cell_type": "code",
   "execution_count": null,
   "id": "31872b32",
   "metadata": {},
   "outputs": [],
   "source": []
  },
  {
   "cell_type": "code",
   "execution_count": null,
   "id": "b7dded48",
   "metadata": {},
   "outputs": [],
   "source": []
  },
  {
   "cell_type": "code",
   "execution_count": null,
   "id": "5983ddda",
   "metadata": {},
   "outputs": [],
   "source": []
  }
 ],
 "metadata": {
  "kernelspec": {
   "display_name": "Python 3 (ipykernel)",
   "language": "python",
   "name": "python3"
  },
  "language_info": {
   "codemirror_mode": {
    "name": "ipython",
    "version": 3
   },
   "file_extension": ".py",
   "mimetype": "text/x-python",
   "name": "python",
   "nbconvert_exporter": "python",
   "pygments_lexer": "ipython3",
   "version": "3.9.7"
  }
 },
 "nbformat": 4,
 "nbformat_minor": 5
}
