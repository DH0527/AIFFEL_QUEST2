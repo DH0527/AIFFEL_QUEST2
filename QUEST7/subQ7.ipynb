{
 "cells": [
  {
   "cell_type": "code",
   "execution_count": 247,
   "id": "fd4de848",
   "metadata": {},
   "outputs": [],
   "source": [
    "from importlib.metadata import version\n",
    "import nltk\n",
    "from nltk.corpus import stopwords\n",
    "import tensorflow\n",
    "import summa\n",
    "from summa.summarizer import summarize\n",
    "import pandas as pd\n",
    "import urllib.request\n",
    "import os\n",
    "from bs4 import BeautifulSoup \n",
    "import re\n",
    "import numpy as np\n",
    "import matplotlib.pyplot as plt\n",
    "from tensorflow.keras.preprocessing.text import Tokenizer \n",
    "from tensorflow.keras.preprocessing.sequence import pad_sequences\n",
    "from tensorflow.keras.layers import Input, LSTM, Embedding, Dense, Concatenate, TimeDistributed\n",
    "from tensorflow.keras.models import Model\n",
    "from tensorflow.keras.callbacks import EarlyStopping, ModelCheckpoint\n",
    "from tensorflow.keras.layers import AdditiveAttention"
   ]
  },
  {
   "cell_type": "code",
   "execution_count": 248,
   "id": "81eed6fc",
   "metadata": {},
   "outputs": [],
   "source": [
    "ppsOk = True"
   ]
  },
  {
   "cell_type": "code",
   "execution_count": 249,
   "id": "98ca0c50",
   "metadata": {},
   "outputs": [],
   "source": [
    "\n",
    "# 데이터 전처리 함수\n",
    "def preprocess_sentence(sentence, contractions, remove_stopwords=True):\n",
    "    sentence = sentence.lower() # 텍스트 소문자화\n",
    "    sentence = BeautifulSoup(sentence, \"lxml\").text # <br />, <a href = ...> 등의 html 태그 제거\n",
    "    sentence = re.sub(r'\\([^)]*\\)', '', sentence) # 괄호로 닫힌 문자열 (...) 제거 Ex) my husband (and myself!) for => my husband for\n",
    "    sentence = re.sub('\"','', sentence) # 쌍따옴표 \" 제거\n",
    "    sentence = ' '.join([contractions[t] if t in contractions else t for t in sentence.split(\" \")]) # 약어 정규화\n",
    "    sentence = re.sub(r\"'s\\b\",\"\", sentence) # 소유격 제거. Ex) roland's -> roland\n",
    "    sentence = re.sub(\"[^a-zA-Z]\", \" \", sentence) # 영어 외 문자(숫자, 특수문자 등) 공백으로 변환\n",
    "    sentence = re.sub('[m]{2,}', 'mm', sentence) # m이 3개 이상이면 2개로 변경. Ex) ummmmmmm yeah -> umm yeah\n",
    "    \n",
    "    # 불용어 제거 (Text)\n",
    "    if remove_stopwords:\n",
    "        tokens = ' '.join(word for word in sentence.split() if not word in stopwords.words('english') if len(word) > 1)\n",
    "    # 불용어 미제거 (Summary)\n",
    "    else:\n",
    "        tokens = ' '.join(word for word in sentence.split() if len(word) > 1)\n",
    "    return tokens\n",
    "\n",
    "\n",
    "#설정 샘플 비율 확인\n",
    "def below_threshold_len(max_len, nested_list):\n",
    "  cnt = 0\n",
    "  for s in nested_list:\n",
    "    if(len(s.split()) <= max_len):\n",
    "        cnt = cnt + 1\n",
    "  print('전체 샘플 중 길이가 %s 이하인 샘플의 비율: %s'%(max_len, (cnt / len(nested_list))))\n",
    "\n",
    "\n",
    "def decode_sequence(encoder_model, decoder_model, input_seq, tar_word_to_index, tar_index_to_word, summary_max_len):\n",
    "    # 입력으로부터 인코더의 상태를 얻음\n",
    "    e_out, e_h, e_c = encoder_model.predict(input_seq)\n",
    "\n",
    "     # <SOS>에 해당하는 토큰 생성\n",
    "    target_seq = np.zeros((1,1))\n",
    "    target_seq[0, 0] = tar_word_to_index['sostoken']\n",
    "\n",
    "    stop_condition = False\n",
    "    decoded_sentence = ''\n",
    "    while not stop_condition: # stop_condition이 True가 될 때까지 루프 반복\n",
    "\n",
    "        output_tokens, h, c = decoder_model.predict([target_seq] + [e_out, e_h, e_c])\n",
    "        sampled_token_index = np.argmax(output_tokens[0, -1, :])\n",
    "        sampled_token = tar_index_to_word[sampled_token_index]\n",
    "\n",
    "        if (sampled_token!='eostoken'):\n",
    "            decoded_sentence += ' '+sampled_token\n",
    "\n",
    "        #  <eos>에 도달하거나 최대 길이를 넘으면 중단.\n",
    "        if (sampled_token == 'eostoken'  or len(decoded_sentence.split()) >= (summary_max_len-1)):\n",
    "            stop_condition = True\n",
    "\n",
    "        # 길이가 1인 타겟 시퀀스를 업데이트\n",
    "        target_seq = np.zeros((1,1))\n",
    "        target_seq[0, 0] = sampled_token_index\n",
    "\n",
    "        # 상태를 업데이트 합니다.\n",
    "        e_h, e_c = h, c\n",
    "\n",
    "    return decoded_sentence\n",
    "\n",
    "# 원문의 정수 시퀀스를 텍스트 시퀀스로 변환\n",
    "def seq2text(input_seq, src_index_to_word):\n",
    "    temp=''\n",
    "    for i in input_seq:\n",
    "        if (i!=0):\n",
    "            temp = temp + src_index_to_word[i]+' '\n",
    "    return temp\n",
    "\n",
    "\n",
    "# 요약문의 정수 시퀀스를 텍스트 시퀀스로 변환\n",
    "def seq2summary(input_seq, tar_index_to_word):\n",
    "    temp=''\n",
    "    for i in input_seq:\n",
    "        if (i!=0 and i!=1 and i!=2):\n",
    "            temp = temp + tar_index_to_word[i]+' '\n",
    "    return temp\n"
   ]
  },
  {
   "cell_type": "code",
   "execution_count": 250,
   "id": "c46da30c",
   "metadata": {},
   "outputs": [
    {
     "name": "stdout",
     "output_type": "stream",
     "text": [
      "불용어 확인 : 179\n"
     ]
    }
   ],
   "source": [
    "try : \n",
    "    print('불용어 확인 :', len(stopwords.words('english') ))\n",
    "\n",
    "except:\n",
    "    nltk.download('stopwords')\n",
    "\n",
    "# news_summary_more.csv\n",
    "try:\n",
    "    if not os.path.isfile('./news_summary_more.csv'):\n",
    "        print(\"download : news_summary_more.csv\")\n",
    "        urllib.request.urlretrieve(\"https://raw.githubusercontent.com/sunnysai12345/News_Summary/master/news_summary_more.csv\", filename=\"news_summary_more.csv\")\n",
    "\n",
    "    data = pd.read_csv('news_summary_more.csv', encoding='iso-8859-1')\n",
    "\n",
    "except:\n",
    "    print(\"error : failed to read file\")"
   ]
  },
  {
   "cell_type": "code",
   "execution_count": 251,
   "id": "1607f157",
   "metadata": {},
   "outputs": [
    {
     "name": "stdout",
     "output_type": "stream",
     "text": [
      "                                               headlines  \\\n",
      "93924  Bowler concedes 92 runs in 4 balls to protest ...   \n",
      "31183  Govt planning unique codes to identify fake me...   \n",
      "77739  Pic of Saif, Kareena, Taimur from vacation sur...   \n",
      "1974   Bank of China offers $300 million loan to Sri ...   \n",
      "72966    North Korea fires missile that flies over Japan   \n",
      "97121  400 Trinamool Congress members join BJP in Tri...   \n",
      "92205  World's largest rodent species' member gives b...   \n",
      "32204  'Bioscopewala' release to coincide with Tagore...   \n",
      "39038  Got 1 mark in Bihar board exam despite passing...   \n",
      "25067  Israel, Hamas reach ceasefire after Gaza air s...   \n",
      "\n",
      "                                                    text  \n",
      "93924  A Bangladeshi bowler gave away 92 runs in four...  \n",
      "31183  The government is reportedly planning to intro...  \n",
      "77739  A picture of actors Saif Ali Khan and Kareena ...  \n",
      "1974   The Bank of China has offered a loan of $300 m...  \n",
      "72966  North Korea on Tuesday test-fired a missile th...  \n",
      "97121  As many as 400 Trinamool Congress members, inc...  \n",
      "92205  A six-year-old capybara, member of the world's...  \n",
      "32204  Makers of 'Bioscopewala' said they decided to ...  \n",
      "39038  Students have alleged discrepancies in evaluat...  \n",
      "25067  Israel and Hamas on Saturday reached a ceasefi...  \n"
     ]
    }
   ],
   "source": [
    "print(data.sample(10))"
   ]
  },
  {
   "cell_type": "code",
   "execution_count": 252,
   "id": "c9d6076b",
   "metadata": {},
   "outputs": [
    {
     "name": "stdout",
     "output_type": "stream",
     "text": [
      "<class 'pandas.core.frame.DataFrame'>\n",
      "RangeIndex: 98401 entries, 0 to 98400\n",
      "Data columns (total 2 columns):\n",
      " #   Column     Non-Null Count  Dtype \n",
      "---  ------     --------------  ----- \n",
      " 0   headlines  98401 non-null  object\n",
      " 1   text       98401 non-null  object\n",
      "dtypes: object(2)\n",
      "memory usage: 1.5+ MB\n",
      "None\n"
     ]
    }
   ],
   "source": [
    "# 전처리\n",
    "# 전처리 > 분석\n",
    "# 전처리 > 분석 > 데이터 타입, null, 확인\n",
    "print(data.info())"
   ]
  },
  {
   "cell_type": "code",
   "execution_count": 253,
   "id": "b726e84a",
   "metadata": {},
   "outputs": [
    {
     "name": "stdout",
     "output_type": "stream",
     "text": [
      "(98401, 2)\n"
     ]
    }
   ],
   "source": [
    "# 전처리 > 분석 > 형태 확인\n",
    "print(data.shape)"
   ]
  },
  {
   "cell_type": "code",
   "execution_count": 254,
   "id": "de373a7f",
   "metadata": {},
   "outputs": [
    {
     "name": "stdout",
     "output_type": "stream",
     "text": [
      "Text 열에서 중복을 배제한 유일한 샘플의 수 : 98360\n",
      "headlines 열에서 중복을 배제한 유일한 샘플의 수 : 98280\n"
     ]
    }
   ],
   "source": [
    "# 전처리 > 정제\n",
    "# 전처리 > 정제 > 중복 확인\n",
    "print('Text 열에서 중복을 배제한 유일한 샘플의 수 :', data['text'].nunique())\n",
    "print('headlines 열에서 중복을 배제한 유일한 샘플의 수 :', data['headlines'].nunique())"
   ]
  },
  {
   "cell_type": "code",
   "execution_count": 255,
   "id": "5c5f4151",
   "metadata": {},
   "outputs": [
    {
     "name": "stdout",
     "output_type": "stream",
     "text": [
      "중복 제거 전체 샘플수 : 98360\n"
     ]
    }
   ],
   "source": [
    "# 전처리 > 정제 > 중복 제거\n",
    "data.drop_duplicates(subset = ['text'], inplace=True)\n",
    "print('중복 제거 전체 샘플수 :', (len(data)))"
   ]
  },
  {
   "cell_type": "code",
   "execution_count": 256,
   "id": "b3567684",
   "metadata": {},
   "outputs": [
    {
     "name": "stdout",
     "output_type": "stream",
     "text": [
      "headlines    0\n",
      "text         0\n",
      "dtype: int64\n"
     ]
    }
   ],
   "source": [
    "# 전처리 > 정제 > null 확인\n",
    "print(data.isnull().sum()) # null 없음"
   ]
  },
  {
   "cell_type": "code",
   "execution_count": 257,
   "id": "b5e92ba5",
   "metadata": {},
   "outputs": [
    {
     "name": "stdout",
     "output_type": "stream",
     "text": [
      "null 제거 전체 샘플수 : 98360\n"
     ]
    }
   ],
   "source": [
    "# 전처리 > 정제 > null 제거\n",
    "data.dropna(axis=0, inplace=True)\n",
    "print('null 제거 전체 샘플수 :', (len(data)))"
   ]
  },
  {
   "cell_type": "code",
   "execution_count": 258,
   "id": "df257b5c",
   "metadata": {},
   "outputs": [
    {
     "name": "stdout",
     "output_type": "stream",
     "text": [
      "정규화 사전의 수:  120\n"
     ]
    }
   ],
   "source": [
    "# 전처리 > 정규화\n",
    "# 전처리 > 정규화 > 정규화 사전 생성\n",
    "contractions = {\"ain't\": \"is not\", \"aren't\": \"are not\",\"can't\": \"cannot\", \"'cause\": \"because\", \"could've\": \"could have\", \"couldn't\": \"could not\",\n",
    "                    \"didn't\": \"did not\",  \"doesn't\": \"does not\", \"don't\": \"do not\", \"hadn't\": \"had not\", \"hasn't\": \"has not\", \"haven't\": \"have not\",\n",
    "                    \"he'd\": \"he would\",\"he'll\": \"he will\", \"he's\": \"he is\", \"how'd\": \"how did\", \"how'd'y\": \"how do you\", \"how'll\": \"how will\", \"how's\": \"how is\",\n",
    "                    \"I'd\": \"I would\", \"I'd've\": \"I would have\", \"I'll\": \"I will\", \"I'll've\": \"I will have\",\"I'm\": \"I am\", \"I've\": \"I have\", \"i'd\": \"i would\",\n",
    "                    \"i'd've\": \"i would have\", \"i'll\": \"i will\",  \"i'll've\": \"i will have\",\"i'm\": \"i am\", \"i've\": \"i have\", \"isn't\": \"is not\", \"it'd\": \"it would\",\n",
    "                    \"it'd've\": \"it would have\", \"it'll\": \"it will\", \"it'll've\": \"it will have\",\"it's\": \"it is\", \"let's\": \"let us\", \"ma'am\": \"madam\",\n",
    "                    \"mayn't\": \"may not\", \"might've\": \"might have\",\"mightn't\": \"might not\",\"mightn't've\": \"might not have\", \"must've\": \"must have\",\n",
    "                    \"mustn't\": \"must not\", \"mustn't've\": \"must not have\", \"needn't\": \"need not\", \"needn't've\": \"need not have\",\"o'clock\": \"of the clock\",\n",
    "                    \"oughtn't\": \"ought not\", \"oughtn't've\": \"ought not have\", \"shan't\": \"shall not\", \"sha'n't\": \"shall not\", \"shan't've\": \"shall not have\",\n",
    "                    \"she'd\": \"she would\", \"she'd've\": \"she would have\", \"she'll\": \"she will\", \"she'll've\": \"she will have\", \"she's\": \"she is\",\n",
    "                    \"should've\": \"should have\", \"shouldn't\": \"should not\", \"shouldn't've\": \"should not have\", \"so've\": \"so have\",\"so's\": \"so as\",\n",
    "                    \"this's\": \"this is\",\"that'd\": \"that would\", \"that'd've\": \"that would have\", \"that's\": \"that is\", \"there'd\": \"there would\",\n",
    "                    \"there'd've\": \"there would have\", \"there's\": \"there is\", \"here's\": \"here is\",\"they'd\": \"they would\", \"they'd've\": \"they would have\",\n",
    "                    \"they'll\": \"they will\", \"they'll've\": \"they will have\", \"they're\": \"they are\", \"they've\": \"they have\", \"to've\": \"to have\",\n",
    "                    \"wasn't\": \"was not\", \"we'd\": \"we would\", \"we'd've\": \"we would have\", \"we'll\": \"we will\", \"we'll've\": \"we will have\", \"we're\": \"we are\",\n",
    "                    \"we've\": \"we have\", \"weren't\": \"were not\", \"what'll\": \"what will\", \"what'll've\": \"what will have\", \"what're\": \"what are\",\n",
    "                    \"what's\": \"what is\", \"what've\": \"what have\", \"when's\": \"when is\", \"when've\": \"when have\", \"where'd\": \"where did\", \"where's\": \"where is\",\n",
    "                    \"where've\": \"where have\", \"who'll\": \"who will\", \"who'll've\": \"who will have\", \"who's\": \"who is\", \"who've\": \"who have\",\n",
    "                    \"why's\": \"why is\", \"why've\": \"why have\", \"will've\": \"will have\", \"won't\": \"will not\", \"won't've\": \"will not have\",\n",
    "                    \"would've\": \"would have\", \"wouldn't\": \"would not\", \"wouldn't've\": \"would not have\", \"y'all\": \"you all\",\n",
    "                    \"y'all'd\": \"you all would\",\"y'all'd've\": \"you all would have\",\"y'all're\": \"you all are\",\"y'all've\": \"you all have\",\n",
    "                    \"you'd\": \"you would\", \"you'd've\": \"you would have\", \"you'll\": \"you will\", \"you'll've\": \"you will have\",\n",
    "                    \"you're\": \"you are\", \"you've\": \"you have\"}\n",
    "\n",
    "print(\"정규화 사전의 수: \", len(contractions))"
   ]
  },
  {
   "cell_type": "code",
   "execution_count": 259,
   "id": "b5654a8b",
   "metadata": {},
   "outputs": [
    {
     "name": "stdout",
     "output_type": "stream",
     "text": [
      "불용어 개수 : 179\n",
      "['i', 'me', 'my', 'myself', 'we', 'our', 'ours', 'ourselves', 'you', \"you're\", \"you've\", \"you'll\", \"you'd\", 'your', 'yours', 'yourself', 'yourselves', 'he', 'him', 'his', 'himself', 'she', \"she's\", 'her', 'hers', 'herself', 'it', \"it's\", 'its', 'itself', 'they', 'them', 'their', 'theirs', 'themselves', 'what', 'which', 'who', 'whom', 'this', 'that', \"that'll\", 'these', 'those', 'am', 'is', 'are', 'was', 'were', 'be', 'been', 'being', 'have', 'has', 'had', 'having', 'do', 'does', 'did', 'doing', 'a', 'an', 'the', 'and', 'but', 'if', 'or', 'because', 'as', 'until', 'while', 'of', 'at', 'by', 'for', 'with', 'about', 'against', 'between', 'into', 'through', 'during', 'before', 'after', 'above', 'below', 'to', 'from', 'up', 'down', 'in', 'out', 'on', 'off', 'over', 'under', 'again', 'further', 'then', 'once', 'here', 'there', 'when', 'where', 'why', 'how', 'all', 'any', 'both', 'each', 'few', 'more', 'most', 'other', 'some', 'such', 'no', 'nor', 'not', 'only', 'own', 'same', 'so', 'than', 'too', 'very', 's', 't', 'can', 'will', 'just', 'don', \"don't\", 'should', \"should've\", 'now', 'd', 'll', 'm', 'o', 're', 've', 'y', 'ain', 'aren', \"aren't\", 'couldn', \"couldn't\", 'didn', \"didn't\", 'doesn', \"doesn't\", 'hadn', \"hadn't\", 'hasn', \"hasn't\", 'haven', \"haven't\", 'isn', \"isn't\", 'ma', 'mightn', \"mightn't\", 'mustn', \"mustn't\", 'needn', \"needn't\", 'shan', \"shan't\", 'shouldn', \"shouldn't\", 'wasn', \"wasn't\", 'weren', \"weren't\", 'won', \"won't\", 'wouldn', \"wouldn't\"]\n"
     ]
    }
   ],
   "source": [
    "# 전처리 > 불용어 제거\n",
    "# 전처리 > 불용어 제거 > 불용어 정보 확인\n",
    "print('불용어 개수 :', len(stopwords.words('english') ))\n",
    "print(stopwords.words('english'))"
   ]
  },
  {
   "cell_type": "code",
   "execution_count": 260,
   "id": "5ea53f4e",
   "metadata": {},
   "outputs": [],
   "source": [
    "# 정규화, 전처리 실행\n",
    "clean_text = []\n",
    "clean_summary = []\n",
    "\n",
    "for _, row in data.iterrows():\n",
    "    clean_text.append(preprocess_sentence(row[\"text\"], contractions))\n",
    "    clean_summary.append(preprocess_sentence(row[\"headlines\"],contractions, False))\n",
    "\n",
    "data['text'] = clean_text\n",
    "data['headlines'] = clean_summary"
   ]
  },
  {
   "cell_type": "code",
   "execution_count": 261,
   "id": "0b5654b4",
   "metadata": {},
   "outputs": [],
   "source": [
    "# 빈 값을 Null 값으로 변환\n",
    "data.replace('', np.nan, inplace=True)"
   ]
  },
  {
   "cell_type": "code",
   "execution_count": 262,
   "id": "5498d004",
   "metadata": {},
   "outputs": [
    {
     "name": "stdout",
     "output_type": "stream",
     "text": [
      "headlines    0\n",
      "text         0\n",
      "dtype: int64\n"
     ]
    }
   ],
   "source": [
    "# 빈 값 생성 확인\n",
    "print(data.isnull().sum()) # 빈 값 없음"
   ]
  },
  {
   "cell_type": "code",
   "execution_count": 263,
   "id": "8e0c68bf",
   "metadata": {},
   "outputs": [
    {
     "name": "stdout",
     "output_type": "stream",
     "text": [
      "전체 샘플수 : 98360\n"
     ]
    }
   ],
   "source": [
    "# null 제거\n",
    "data.dropna(axis=0, inplace=True)\n",
    "print('전체 샘플수 :', (len(data)))"
   ]
  },
  {
   "cell_type": "code",
   "execution_count": 264,
   "id": "69a2d3d7",
   "metadata": {},
   "outputs": [
    {
     "name": "stdout",
     "output_type": "stream",
     "text": [
      "                                           headlines  \\\n",
      "0  upgrad learner switches to career in ml al wit...   \n",
      "1  delhi techie wins free food from swiggy for on...   \n",
      "\n",
      "                                                text  \n",
      "0  saurav kant alumnus upgrad iiit pg program mac...  \n",
      "1  kunal shah credit card bill payment platform c...  \n"
     ]
    }
   ],
   "source": [
    "print(data.head(2))"
   ]
  },
  {
   "cell_type": "code",
   "execution_count": 265,
   "id": "427b4c5f",
   "metadata": {},
   "outputs": [],
   "source": [
    "# 전처리 > 데이터셋 분리\n",
    "# 전처리 > 데이터셋 분리 > 분리 데이터 정보 확인\n",
    "text_len = [len(s.split()) for s in data['text']]\n",
    "summary_len = [len(s.split()) for s in data['headlines']]"
   ]
  },
  {
   "cell_type": "code",
   "execution_count": 266,
   "id": "583cb22b",
   "metadata": {},
   "outputs": [
    {
     "name": "stdout",
     "output_type": "stream",
     "text": [
      "텍스트의 최소 길이 : 1\n",
      "텍스트의 최대 길이 : 60\n",
      "텍스트의 평균 길이 : 35.09968483123221\n",
      "요약의 최소 길이 : 1\n",
      "요약의 최대 길이 : 16\n",
      "요약의 평균 길이 : 9.299532330215534\n"
     ]
    }
   ],
   "source": [
    "print('텍스트의 최소 길이 : {}'.format(np.min(text_len)))\n",
    "print('텍스트의 최대 길이 : {}'.format(np.max(text_len)))\n",
    "print('텍스트의 평균 길이 : {}'.format(np.mean(text_len)))\n",
    "print('요약의 최소 길이 : {}'.format(np.min(summary_len)))\n",
    "print('요약의 최대 길이 : {}'.format(np.max(summary_len)))\n",
    "print('요약의 평균 길이 : {}'.format(np.mean(summary_len)))"
   ]
  },
  {
   "cell_type": "code",
   "execution_count": 267,
   "id": "b8605a3f",
   "metadata": {},
   "outputs": [
    {
     "data": {
      "image/png": "[encoded data removed]",
      "text/plain": [
       "<Figure size 432x288 with 2 Axes>"
      ]
     },
     "metadata": {
      "needs_background": "light"
     },
     "output_type": "display_data"
    }
   ],
   "source": [
    "plt.subplot(1,2,1)\n",
    "plt.boxplot(text_len)\n",
    "plt.title('Text')\n",
    "plt.subplot(1,2,2)\n",
    "plt.boxplot(summary_len)\n",
    "plt.title('Summary')\n",
    "plt.tight_layout()\n",
    "plt.show()"
   ]
  },
  {
   "cell_type": "code",
   "execution_count": 268,
   "id": "2d5e7de1",
   "metadata": {},
   "outputs": [
    {
     "data": {
      "image/png": "[encoded data removed]",
      "text/plain": [
       "<Figure size 432x288 with 1 Axes>"
      ]
     },
     "metadata": {
      "needs_background": "light"
     },
     "output_type": "display_data"
    }
   ],
   "source": [
    "plt.title('Text')\n",
    "plt.hist(text_len, bins = 40)\n",
    "plt.xlabel('length of samples')\n",
    "plt.ylabel('number of samples')\n",
    "plt.show()"
   ]
  },
  {
   "cell_type": "code",
   "execution_count": 269,
   "id": "5c63af1e",
   "metadata": {},
   "outputs": [
    {
     "data": {
      "image/png": "[encoded data removed]",
      "text/plain": [
       "<Figure size 432x288 with 1 Axes>"
      ]
     },
     "metadata": {
      "needs_background": "light"
     },
     "output_type": "display_data"
    }
   ],
   "source": [
    "plt.title('Summary')\n",
    "plt.hist(summary_len, bins = 40)\n",
    "plt.xlabel('length of samples')\n",
    "plt.ylabel('number of samples')\n",
    "plt.show()"
   ]
  },
  {
   "cell_type": "code",
   "execution_count": 270,
   "id": "1147264d",
   "metadata": {},
   "outputs": [
    {
     "name": "stdout",
     "output_type": "stream",
     "text": [
      "전체 샘플 중 길이가 45 이하인 샘플의 비율: 0.9967771451809678\n",
      "전체 샘플 중 길이가 13 이하인 샘플의 비율: 0.9981699877999186\n"
     ]
    }
   ],
   "source": [
    "# 전처리 > 데이터셋 분리 > 분리 데이터 단어 개수 제한\n",
    "text_max_len = 45\n",
    "summary_max_len = 13\n",
    "below_threshold_len(text_max_len, data['text'])\n",
    "below_threshold_len(summary_max_len,  data['headlines'])"
   ]
  },
  {
   "cell_type": "code",
   "execution_count": 271,
   "id": "1e470d93",
   "metadata": {},
   "outputs": [
    {
     "name": "stdout",
     "output_type": "stream",
     "text": [
      "전체 샘플수(가공전) : 98360\n",
      "전체 샘플수(text 제거) : 97708\n",
      "전체 샘플수(summary 제거) : 96538\n"
     ]
    }
   ],
   "source": [
    "print('전체 샘플수(가공전) :', (len(data)))\n",
    "data = data[data[\"text\"].apply(lambda x: len(x.split()) < text_max_len)]\n",
    "print('전체 샘플수(text 제거) :', (len(data)))\n",
    "data = data[data[\"headlines\"].apply(lambda x: len(x.split()) < summary_max_len)]\n",
    "print('전체 샘플수(summary 제거) :', (len(data)))"
   ]
  },
  {
   "cell_type": "code",
   "execution_count": 272,
   "id": "f97371e5",
   "metadata": {},
   "outputs": [
    {
     "name": "stdout",
     "output_type": "stream",
     "text": [
      "                                           headlines  \\\n",
      "0  upgrad learner switches to career in ml al wit...   \n",
      "2  new zealand end rohit sharma led india match w...   \n",
      "3  aegon life iterm insurance plan helps customer...   \n",
      "5  rahat fateh ali khan denies getting notice for...   \n",
      "6  india get all out for their lowest odi total i...   \n",
      "\n",
      "                                                text  \\\n",
      "0  saurav kant alumnus upgrad iiit pg program mac...   \n",
      "2  new zealand defeated india wickets fourth odi ...   \n",
      "3  aegon life iterm insurance plan customers enjo...   \n",
      "5  pakistani singer rahat fateh ali khan denied r...   \n",
      "6  india recorded lowest odi total new zealand ge...   \n",
      "\n",
      "                                       decoder_input  \\\n",
      "0  sostoken upgrad learner switches to career in ...   \n",
      "2  sostoken new zealand end rohit sharma led indi...   \n",
      "3  sostoken aegon life iterm insurance plan helps...   \n",
      "5  sostoken rahat fateh ali khan denies getting n...   \n",
      "6  sostoken india get all out for their lowest od...   \n",
      "\n",
      "                                      decoder_target  \n",
      "0  upgrad learner switches to career in ml al wit...  \n",
      "2  new zealand end rohit sharma led india match w...  \n",
      "3  aegon life iterm insurance plan helps customer...  \n",
      "5  rahat fateh ali khan denies getting notice for...  \n",
      "6  india get all out for their lowest odi total i...  \n"
     ]
    }
   ],
   "source": [
    "# 전처리 > 데이터셋 분리 > 시작, 종료 토큰 추가\n",
    "data['decoder_input'] = data['headlines'].apply(lambda x : 'sostoken '+ x)\n",
    "data['decoder_target'] = data['headlines'].apply(lambda x : x + ' eostoken')\n",
    "print(data.head())"
   ]
  },
  {
   "cell_type": "code",
   "execution_count": 273,
   "id": "5bb4b19e",
   "metadata": {},
   "outputs": [],
   "source": [
    "# 전처리 > 데이터셋 분리 > 분리를 위해 numpy array 변환\n",
    "encoder_input = np.array(data['text']) # 인코더의 입력\n",
    "decoder_input = np.array(data['decoder_input']) # 디코더의 입력\n",
    "decoder_target = np.array(data['decoder_target']) # 디코더의 레이블"
   ]
  },
  {
   "cell_type": "code",
   "execution_count": 274,
   "id": "615d1e5a",
   "metadata": {},
   "outputs": [],
   "source": [
    "# 전처리 > 데이터셋 분리 > 데이터 shuffle\n",
    "indices = np.arange(encoder_input.shape[0])\n",
    "np.random.shuffle(indices)"
   ]
  },
  {
   "cell_type": "code",
   "execution_count": 275,
   "id": "1d3eb409",
   "metadata": {},
   "outputs": [],
   "source": [
    "encoder_input = encoder_input[indices]\n",
    "decoder_input = decoder_input[indices]\n",
    "decoder_target = decoder_target[indices]"
   ]
  },
  {
   "cell_type": "code",
   "execution_count": 276,
   "id": "0e4722de",
   "metadata": {},
   "outputs": [
    {
     "name": "stdout",
     "output_type": "stream",
     "text": [
      "테스트 데이터의 수 : 19307\n"
     ]
    }
   ],
   "source": [
    "# 전처리 > 데이터셋 분리 > 데이터 8:2 분할\n",
    "n_of_val = int(len(encoder_input)*0.2)\n",
    "print('테스트 데이터의 수 :', n_of_val)"
   ]
  },
  {
   "cell_type": "code",
   "execution_count": 277,
   "id": "e1a84cc5",
   "metadata": {},
   "outputs": [],
   "source": [
    "encoder_input_train = encoder_input[:-n_of_val]\n",
    "decoder_input_train = decoder_input[:-n_of_val]\n",
    "decoder_target_train = decoder_target[:-n_of_val]"
   ]
  },
  {
   "cell_type": "code",
   "execution_count": 278,
   "id": "0acedb61",
   "metadata": {},
   "outputs": [],
   "source": [
    "encoder_input_test = encoder_input[-n_of_val:]\n",
    "decoder_input_test = decoder_input[-n_of_val:]\n",
    "decoder_target_test = decoder_target[-n_of_val:]"
   ]
  },
  {
   "cell_type": "code",
   "execution_count": 279,
   "id": "d4afa5f8",
   "metadata": {},
   "outputs": [
    {
     "name": "stdout",
     "output_type": "stream",
     "text": [
      "훈련 데이터의 개수 : 77231\n",
      "훈련 레이블의 개수 : 77231\n",
      "테스트 데이터의 개수 : 19307\n",
      "테스트 레이블의 개수 : 19307\n"
     ]
    }
   ],
   "source": [
    "print('훈련 데이터의 개수 :', len(encoder_input_train))\n",
    "print('훈련 레이블의 개수 :', len(decoder_input_train))\n",
    "print('테스트 데이터의 개수 :', len(encoder_input_test))\n",
    "print('테스트 레이블의 개수 :', len(decoder_input_test))"
   ]
  },
  {
   "cell_type": "code",
   "execution_count": 280,
   "id": "8e5de522",
   "metadata": {},
   "outputs": [],
   "source": [
    "# 전처리 > 인코딩\n",
    "# 전처리 > 인코딩 > vocabulary 생성 - text data\n",
    "src_tokenizer = Tokenizer() # 토크나이저 정의\n",
    "src_tokenizer.fit_on_texts(encoder_input_train) # 입력된 데이터로부터 단어 집합 생성"
   ]
  },
  {
   "cell_type": "code",
   "execution_count": 281,
   "id": "510858be",
   "metadata": {},
   "outputs": [],
   "source": [
    "# 전처리 > 인코딩 > 빈도 확인 - text data\n",
    "threshold = 7\n",
    "total_cnt = len(src_tokenizer.word_index) # 단어의 수\n",
    "rare_cnt = 0 # 등장 빈도수가 threshold보다 작은 단어의 개수를 카운트\n",
    "total_freq = 0 # 훈련 데이터의 전체 단어 빈도수 총 합\n",
    "rare_freq = 0 # 등장 빈도수가 threshold보다 작은 단어의 등장 빈도수의 총 합"
   ]
  },
  {
   "cell_type": "code",
   "execution_count": 282,
   "id": "a854b2d9",
   "metadata": {},
   "outputs": [],
   "source": [
    "# 단어와 빈도수의 쌍(pair)을 key와 value로 받는다.\n",
    "for key, value in src_tokenizer.word_counts.items():\n",
    "    total_freq = total_freq + value\n",
    "\n",
    "    # 단어의 등장 빈도수가 threshold보다 작으면\n",
    "    if(value < threshold):\n",
    "        rare_cnt = rare_cnt + 1\n",
    "        rare_freq = rare_freq + value"
   ]
  },
  {
   "cell_type": "code",
   "execution_count": 283,
   "id": "52dcf65c",
   "metadata": {},
   "outputs": [
    {
     "name": "stdout",
     "output_type": "stream",
     "text": [
      "단어 집합(vocabulary)의 크기 : 68919\n",
      "등장 빈도가 6번 이하인 희귀 단어의 수: 46913\n",
      "단어 집합에서 희귀 단어를 제외시킬 경우의 단어 집합의 크기 22006\n",
      "단어 집합에서 희귀 단어의 비율: 68.06976305518072\n",
      "전체 등장 빈도에서 희귀 단어 등장 빈도 비율: 3.504054184408382\n"
     ]
    }
   ],
   "source": [
    "print('단어 집합(vocabulary)의 크기 :', total_cnt)\n",
    "print('등장 빈도가 %s번 이하인 희귀 단어의 수: %s'%(threshold - 1, rare_cnt))\n",
    "print('단어 집합에서 희귀 단어를 제외시킬 경우의 단어 집합의 크기 %s'%(total_cnt - rare_cnt))\n",
    "print(\"단어 집합에서 희귀 단어의 비율:\", (rare_cnt / total_cnt)*100)\n",
    "print(\"전체 등장 빈도에서 희귀 단어 등장 빈도 비율:\", (rare_freq / total_freq)*100)"
   ]
  },
  {
   "cell_type": "code",
   "execution_count": 284,
   "id": "16dee88f",
   "metadata": {},
   "outputs": [],
   "source": [
    "# 전처리 > 인코딩 > 단어 집합 크기 제한 - text data\n",
    "src_vocab = 8000\n",
    "src_tokenizer = Tokenizer(num_words=src_vocab) # 단어 집합의 크기를 8,000으로 제한\n",
    "src_tokenizer.fit_on_texts(encoder_input_train) # 단어 집합 재생성"
   ]
  },
  {
   "cell_type": "code",
   "execution_count": 285,
   "id": "d337fabb",
   "metadata": {},
   "outputs": [],
   "source": [
    "# 텍스트 시퀀스를 정수 시퀀스로 변환 - text data\n",
    "encoder_input_train = src_tokenizer.texts_to_sequences(encoder_input_train) \n",
    "encoder_input_test = src_tokenizer.texts_to_sequences(encoder_input_test)"
   ]
  },
  {
   "cell_type": "code",
   "execution_count": 286,
   "id": "ce17ea69",
   "metadata": {},
   "outputs": [
    {
     "name": "stdout",
     "output_type": "stream",
     "text": [
      "[[303, 5, 323, 254, 2734, 2289, 249, 1904, 1930, 68, 5, 408, 1, 2289, 1497, 368, 162, 897, 5, 1615, 408, 1603, 3999, 209, 6033, 1938, 955, 1904, 399, 408, 465, 5209, 344, 559], [1052, 498, 231, 1485, 641, 1262, 3638, 4000, 1749, 1715, 803, 3363, 5733, 1262, 2434, 245, 23, 2678, 437, 27, 1633, 1169, 1054, 4437, 1494, 193, 12, 3837, 2201, 553, 136, 2201, 553], [1478, 60, 1, 16, 48, 1083, 32, 2410, 1604, 48, 1588, 343, 16, 3119, 3608, 600, 7942, 32, 4, 1659, 3463, 45, 474, 315, 6533, 1883, 103, 1395, 2985, 1431, 1478, 45, 1588, 315]]\n"
     ]
    }
   ],
   "source": [
    "# 잘 진행되었는지 샘플 출력\n",
    "print(encoder_input_train[:3])  "
   ]
  },
  {
   "cell_type": "code",
   "execution_count": 287,
   "id": "d65bedbb",
   "metadata": {},
   "outputs": [],
   "source": [
    "# 전처리 > 인코딩 > vocabulary 생성 - headlines data\n",
    "tar_tokenizer = Tokenizer()\n",
    "tar_tokenizer.fit_on_texts(decoder_input_train)"
   ]
  },
  {
   "cell_type": "code",
   "execution_count": 288,
   "id": "ce4d329e",
   "metadata": {},
   "outputs": [],
   "source": [
    "# 전처리 > 인코딩 > 빈도 확인 - headlines data\n",
    "threshold = 6\n",
    "total_cnt = len(tar_tokenizer.word_index) # 단어의 수\n",
    "rare_cnt = 0 # 등장 빈도수가 threshold보다 작은 단어의 개수를 카운트\n",
    "total_freq = 0 # 훈련 데이터의 전체 단어 빈도수 총 합\n",
    "rare_freq = 0 # 등장 빈도수가 threshold보다 작은 단어의 등장 빈도수의 총 합"
   ]
  },
  {
   "cell_type": "code",
   "execution_count": 289,
   "id": "7881301a",
   "metadata": {},
   "outputs": [],
   "source": [
    "# 단어와 빈도수의 쌍(pair)을 key와 value로 받는다.\n",
    "for key, value in tar_tokenizer.word_counts.items():\n",
    "    total_freq = total_freq + value\n",
    "\n",
    "    # 단어의 등장 빈도수가 threshold보다 작으면\n",
    "    if(value < threshold):\n",
    "        rare_cnt = rare_cnt + 1\n",
    "        rare_freq = rare_freq + value"
   ]
  },
  {
   "cell_type": "code",
   "execution_count": 290,
   "id": "f5f5fbff",
   "metadata": {},
   "outputs": [
    {
     "name": "stdout",
     "output_type": "stream",
     "text": [
      "단어 집합(vocabulary)의 크기 : 29841\n",
      "등장 빈도가 5번 이하인 희귀 단어의 수: 19496\n",
      "단어 집합에서 희귀 단어를 제외시킬 경우의 단어 집합의 크기 10345\n",
      "단어 집합에서 희귀 단어의 비율: 65.33293120203747\n",
      "전체 등장 빈도에서 희귀 단어 등장 빈도 비율: 4.720006568020057\n"
     ]
    }
   ],
   "source": [
    "print('단어 집합(vocabulary)의 크기 :', total_cnt)\n",
    "print('등장 빈도가 %s번 이하인 희귀 단어의 수: %s'%(threshold - 1, rare_cnt))\n",
    "print('단어 집합에서 희귀 단어를 제외시킬 경우의 단어 집합의 크기 %s'%(total_cnt - rare_cnt))\n",
    "print(\"단어 집합에서 희귀 단어의 비율:\", (rare_cnt / total_cnt)*100)\n",
    "print(\"전체 등장 빈도에서 희귀 단어 등장 빈도 비율:\", (rare_freq / total_freq)*100)"
   ]
  },
  {
   "cell_type": "code",
   "execution_count": 291,
   "id": "53e24863",
   "metadata": {},
   "outputs": [],
   "source": [
    "# 전처리 > 인코딩 > 단어 집합 크기 제한 - headlines data\n",
    "tar_vocab = 2000\n",
    "tar_tokenizer = Tokenizer(num_words=tar_vocab) \n",
    "tar_tokenizer.fit_on_texts(decoder_input_train)\n",
    "tar_tokenizer.fit_on_texts(decoder_target_train)"
   ]
  },
  {
   "cell_type": "code",
   "execution_count": 292,
   "id": "f180c1f4",
   "metadata": {},
   "outputs": [],
   "source": [
    "# 텍스트 시퀀스를 정수 시퀀스로 변환\n",
    "decoder_input_train = tar_tokenizer.texts_to_sequences(decoder_input_train) \n",
    "decoder_target_train = tar_tokenizer.texts_to_sequences(decoder_target_train)\n",
    "decoder_input_test = tar_tokenizer.texts_to_sequences(decoder_input_test)\n",
    "decoder_target_test = tar_tokenizer.texts_to_sequences(decoder_target_test)"
   ]
  },
  {
   "cell_type": "code",
   "execution_count": 293,
   "id": "2cc75e88",
   "metadata": {},
   "outputs": [
    {
     "name": "stdout",
     "output_type": "stream",
     "text": [
      "input\n",
      "input  [[1, 15, 1561, 70, 4, 1912, 577, 4, 1040], [1, 546, 3, 233, 457, 5, 1562], [1, 1503, 174, 212, 1938, 169], [1, 146, 1547, 17, 8, 164, 980, 1939], [1, 105, 565, 3, 1220, 23, 4, 109, 1563, 3, 922]]\n",
      "target\n",
      "decoder  [[15, 1561, 70, 4, 1912, 577, 4, 1040, 2], [546, 3, 233, 457, 5, 1562, 2], [1503, 174, 212, 1938, 169, 2], [146, 1547, 17, 8, 164, 980, 1939, 2], [105, 565, 3, 1220, 23, 4, 109, 1563, 3, 922, 2]]\n"
     ]
    }
   ],
   "source": [
    "# 잘 변환되었는지 확인\n",
    "print('input')\n",
    "print('input ',decoder_input_train[:5])\n",
    "print('target')\n",
    "print('decoder ',decoder_target_train[:5])"
   ]
  },
  {
   "cell_type": "code",
   "execution_count": 294,
   "id": "148dca72",
   "metadata": {},
   "outputs": [],
   "source": [
    "# 전처리 > 인코딩 > 길이가 0 된 데이터 확인 및 삭제 \n",
    "drop_train = [index for index, sentence in enumerate(decoder_input_train) if len(sentence) == 1]\n",
    "drop_test = [index for index, sentence in enumerate(decoder_input_test) if len(sentence) == 1]"
   ]
  },
  {
   "cell_type": "code",
   "execution_count": 295,
   "id": "2d13622b",
   "metadata": {},
   "outputs": [
    {
     "name": "stdout",
     "output_type": "stream",
     "text": [
      "삭제할 훈련 데이터의 개수 : 12\n",
      "삭제할 테스트 데이터의 개수 : 3\n"
     ]
    }
   ],
   "source": [
    "print('삭제할 훈련 데이터의 개수 :', len(drop_train))\n",
    "print('삭제할 테스트 데이터의 개수 :', len(drop_test))"
   ]
  },
  {
   "cell_type": "code",
   "execution_count": 296,
   "id": "da8801d3",
   "metadata": {},
   "outputs": [],
   "source": [
    "encoder_input_train = [sentence for index, sentence in enumerate(encoder_input_train) if index not in drop_train]\n",
    "decoder_input_train = [sentence for index, sentence in enumerate(decoder_input_train) if index not in drop_train]\n",
    "decoder_target_train = [sentence for index, sentence in enumerate(decoder_target_train) if index not in drop_train]"
   ]
  },
  {
   "cell_type": "code",
   "execution_count": 297,
   "id": "44f3e984",
   "metadata": {},
   "outputs": [],
   "source": [
    "encoder_input_test = [sentence for index, sentence in enumerate(encoder_input_test) if index not in drop_test]\n",
    "decoder_input_test = [sentence for index, sentence in enumerate(decoder_input_test) if index not in drop_test]\n",
    "decoder_target_test = [sentence for index, sentence in enumerate(decoder_target_test) if index not in drop_test]"
   ]
  },
  {
   "cell_type": "code",
   "execution_count": 298,
   "id": "4bae127c",
   "metadata": {},
   "outputs": [
    {
     "name": "stdout",
     "output_type": "stream",
     "text": [
      "훈련 데이터의 개수 : 77219\n",
      "훈련 레이블의 개수 : 77219\n",
      "테스트 데이터의 개수 : 19304\n",
      "테스트 레이블의 개수 : 19304\n"
     ]
    }
   ],
   "source": [
    "print('훈련 데이터의 개수 :', len(encoder_input_train))\n",
    "print('훈련 레이블의 개수 :', len(decoder_input_train))\n",
    "print('테스트 데이터의 개수 :', len(encoder_input_test))\n",
    "print('테스트 레이블의 개수 :', len(decoder_input_test))"
   ]
  },
  {
   "cell_type": "code",
   "execution_count": 299,
   "id": "f90ce99c",
   "metadata": {},
   "outputs": [],
   "source": [
    "# 전처리 > 인코딩 > 단어 길이를 최대 길이로 맞추기\n",
    "encoder_input_train = pad_sequences(encoder_input_train, maxlen=text_max_len, padding='post')\n",
    "encoder_input_test = pad_sequences(encoder_input_test, maxlen=text_max_len, padding='post')\n",
    "decoder_input_train = pad_sequences(decoder_input_train, maxlen=summary_max_len, padding='post')\n",
    "decoder_target_train = pad_sequences(decoder_target_train, maxlen=summary_max_len, padding='post')\n",
    "decoder_input_test = pad_sequences(decoder_input_test, maxlen=summary_max_len, padding='post')\n",
    "decoder_target_test = pad_sequences(decoder_target_test, maxlen=summary_max_len, padding='post')"
   ]
  },
  {
   "cell_type": "code",
   "execution_count": 300,
   "id": "22f13d9c",
   "metadata": {},
   "outputs": [],
   "source": [
    "# 모델 생성 \n",
    "# 모델 생성 > 인코더 설계 시작\n",
    "embedding_dim = 128\n",
    "hidden_size = 256"
   ]
  },
  {
   "cell_type": "code",
   "execution_count": 301,
   "id": "9457fe18",
   "metadata": {},
   "outputs": [],
   "source": [
    "# 인코더\n",
    "encoder_inputs = Input(shape=(text_max_len,))"
   ]
  },
  {
   "cell_type": "code",
   "execution_count": 302,
   "id": "2a87da4d",
   "metadata": {},
   "outputs": [],
   "source": [
    "# 인코더의 임베딩 층\n",
    "enc_emb = Embedding(src_vocab, embedding_dim)(encoder_inputs)"
   ]
  },
  {
   "cell_type": "code",
   "execution_count": 303,
   "id": "ae9952b0",
   "metadata": {},
   "outputs": [],
   "source": [
    "# 인코더의 LSTM 1\n",
    "# encoder_lstm1 = LSTM(hidden_size, return_sequences=True, return_state=True ,dropout = 0.4, recurrent_dropout = 0.4)\n",
    "encoder_lstm1 = LSTM(hidden_size, return_sequences=True, return_state=True ,dropout = 0.4)\n",
    "encoder_output1, state_h1, state_c1 = encoder_lstm1(enc_emb)"
   ]
  },
  {
   "cell_type": "code",
   "execution_count": 304,
   "id": "4892b600",
   "metadata": {},
   "outputs": [],
   "source": [
    "# 인코더의 LSTM 2\n",
    "encoder_lstm2 = LSTM(hidden_size, return_sequences=True, return_state=True ,dropout = 0.4)\n",
    "encoder_output2, state_h2, state_c2 = encoder_lstm2(encoder_output1)"
   ]
  },
  {
   "cell_type": "code",
   "execution_count": 305,
   "id": "f87c02e2",
   "metadata": {},
   "outputs": [],
   "source": [
    "# 인코더의 LSTM 3\n",
    "encoder_lstm3 = LSTM(hidden_size, return_sequences=True, return_state=True ,dropout = 0.4)\n",
    "encoder_outputs, state_h, state_c = encoder_lstm3(encoder_output2)"
   ]
  },
  {
   "cell_type": "code",
   "execution_count": 306,
   "id": "14ca8578",
   "metadata": {},
   "outputs": [],
   "source": [
    "# 모델 생성 > 디코더 설계\n",
    "decoder_inputs = Input(shape=(None,))"
   ]
  },
  {
   "cell_type": "code",
   "execution_count": 307,
   "id": "5cca6120",
   "metadata": {},
   "outputs": [],
   "source": [
    "# 디코더의 임베딩 층\n",
    "dec_emb_layer = Embedding(tar_vocab, embedding_dim)\n",
    "dec_emb = dec_emb_layer(decoder_inputs)"
   ]
  },
  {
   "cell_type": "code",
   "execution_count": 308,
   "id": "1327cb73",
   "metadata": {},
   "outputs": [],
   "source": [
    "# 디코더의 LSTM\n",
    "# decoder_lstm = LSTM(hidden_size, return_sequences=True, return_state=True, dropout=0.4, recurrent_dropout=0.2)\n",
    "decoder_lstm = LSTM(hidden_size, return_sequences=True, return_state=True, dropout=0.4)\n",
    "decoder_outputs, _, _ = decoder_lstm(dec_emb, initial_state=[state_h, state_c])"
   ]
  },
  {
   "cell_type": "code",
   "execution_count": 309,
   "id": "c4ea2a8c",
   "metadata": {},
   "outputs": [],
   "source": [
    "# 디코더의 출력층\n",
    "decoder_softmax_layer = Dense(tar_vocab, activation='softmax')\n",
    "decoder_softmax_outputs = decoder_softmax_layer(decoder_outputs) "
   ]
  },
  {
   "cell_type": "code",
   "execution_count": 310,
   "id": "1ab5bb8a",
   "metadata": {},
   "outputs": [
    {
     "name": "stdout",
     "output_type": "stream",
     "text": [
      "Model: \"model_4\"\n",
      "__________________________________________________________________________________________________\n",
      "Layer (type)                    Output Shape         Param #     Connected to                     \n",
      "==================================================================================================\n",
      "input_6 (InputLayer)            [(None, 45)]         0                                            \n",
      "__________________________________________________________________________________________________\n",
      "embedding_2 (Embedding)         (None, 45, 128)      1024000     input_6[0][0]                    \n",
      "__________________________________________________________________________________________________\n",
      "lstm_4 (LSTM)                   [(None, 45, 256), (N 394240      embedding_2[0][0]                \n",
      "__________________________________________________________________________________________________\n",
      "input_7 (InputLayer)            [(None, None)]       0                                            \n",
      "__________________________________________________________________________________________________\n",
      "lstm_5 (LSTM)                   [(None, 45, 256), (N 525312      lstm_4[0][0]                     \n",
      "__________________________________________________________________________________________________\n",
      "embedding_3 (Embedding)         (None, None, 128)    256000      input_7[0][0]                    \n",
      "__________________________________________________________________________________________________\n",
      "lstm_6 (LSTM)                   [(None, 45, 256), (N 525312      lstm_5[0][0]                     \n",
      "__________________________________________________________________________________________________\n",
      "lstm_7 (LSTM)                   [(None, None, 256),  394240      embedding_3[0][0]                \n",
      "                                                                 lstm_6[0][1]                     \n",
      "                                                                 lstm_6[0][2]                     \n",
      "__________________________________________________________________________________________________\n",
      "dense_2 (Dense)                 (None, None, 2000)   514000      lstm_7[0][0]                     \n",
      "==================================================================================================\n",
      "Total params: 3,633,104\n",
      "Trainable params: 3,633,104\n",
      "Non-trainable params: 0\n",
      "__________________________________________________________________________________________________\n"
     ]
    }
   ],
   "source": [
    "# 모델 정의\n",
    "model = Model([encoder_inputs, decoder_inputs], decoder_softmax_outputs)\n",
    "model.summary()"
   ]
  },
  {
   "cell_type": "code",
   "execution_count": 311,
   "id": "42824673",
   "metadata": {},
   "outputs": [],
   "source": [
    "# 모델 생성 > 어텐션\n",
    "# 어텐션 층(어텐션 함수)\n",
    "attn_layer = AdditiveAttention(name='attention_layer')"
   ]
  },
  {
   "cell_type": "code",
   "execution_count": 312,
   "id": "17b0b3b3",
   "metadata": {},
   "outputs": [],
   "source": [
    "# 인코더와 디코더의 모든 time step의 hidden state를 어텐션 층에 전달하고 결과를 리턴\n",
    "attn_out = attn_layer([decoder_outputs, encoder_outputs])"
   ]
  },
  {
   "cell_type": "code",
   "execution_count": 313,
   "id": "dfe247dd",
   "metadata": {},
   "outputs": [],
   "source": [
    "# 어텐션의 결과와 디코더의 hidden state들을 연결\n",
    "decoder_concat_input = Concatenate(axis=-1, name='concat_layer')([decoder_outputs, attn_out])"
   ]
  },
  {
   "cell_type": "code",
   "execution_count": 314,
   "id": "475033cb",
   "metadata": {},
   "outputs": [],
   "source": [
    "# 디코더의 출력층\n",
    "decoder_softmax_layer = Dense(tar_vocab, activation='softmax')\n",
    "decoder_softmax_outputs = decoder_softmax_layer(decoder_concat_input)"
   ]
  },
  {
   "cell_type": "code",
   "execution_count": 315,
   "id": "a76b98c8",
   "metadata": {
    "scrolled": true
   },
   "outputs": [
    {
     "name": "stdout",
     "output_type": "stream",
     "text": [
      "Model: \"model_5\"\n",
      "__________________________________________________________________________________________________\n",
      "Layer (type)                    Output Shape         Param #     Connected to                     \n",
      "==================================================================================================\n",
      "input_6 (InputLayer)            [(None, 45)]         0                                            \n",
      "__________________________________________________________________________________________________\n",
      "embedding_2 (Embedding)         (None, 45, 128)      1024000     input_6[0][0]                    \n",
      "__________________________________________________________________________________________________\n",
      "lstm_4 (LSTM)                   [(None, 45, 256), (N 394240      embedding_2[0][0]                \n",
      "__________________________________________________________________________________________________\n",
      "input_7 (InputLayer)            [(None, None)]       0                                            \n",
      "__________________________________________________________________________________________________\n",
      "lstm_5 (LSTM)                   [(None, 45, 256), (N 525312      lstm_4[0][0]                     \n",
      "__________________________________________________________________________________________________\n",
      "embedding_3 (Embedding)         (None, None, 128)    256000      input_7[0][0]                    \n",
      "__________________________________________________________________________________________________\n",
      "lstm_6 (LSTM)                   [(None, 45, 256), (N 525312      lstm_5[0][0]                     \n",
      "__________________________________________________________________________________________________\n",
      "lstm_7 (LSTM)                   [(None, None, 256),  394240      embedding_3[0][0]                \n",
      "                                                                 lstm_6[0][1]                     \n",
      "                                                                 lstm_6[0][2]                     \n",
      "__________________________________________________________________________________________________\n",
      "attention_layer (AdditiveAttent (None, None, 256)    256         lstm_7[0][0]                     \n",
      "                                                                 lstm_6[0][0]                     \n",
      "__________________________________________________________________________________________________\n",
      "concat_layer (Concatenate)      (None, None, 512)    0           lstm_7[0][0]                     \n",
      "                                                                 attention_layer[0][0]            \n",
      "__________________________________________________________________________________________________\n",
      "dense_3 (Dense)                 (None, None, 2000)   1026000     concat_layer[0][0]               \n",
      "==================================================================================================\n",
      "Total params: 4,145,360\n",
      "Trainable params: 4,145,360\n",
      "Non-trainable params: 0\n",
      "__________________________________________________________________________________________________\n"
     ]
    }
   ],
   "source": [
    "# 모델 정의\n",
    "model = Model([encoder_inputs, decoder_inputs], decoder_softmax_outputs)\n",
    "model.summary()"
   ]
  },
  {
   "cell_type": "code",
   "execution_count": 316,
   "id": "404a1182",
   "metadata": {},
   "outputs": [],
   "source": [
    "# 모델 학습\n",
    "# 모델 학습 > 모델 컴파일\n",
    "model.compile(optimizer='rmsprop', loss='sparse_categorical_crossentropy')\n",
    "# 모델 학습 > 모델 조기 종료\n",
    "es = EarlyStopping(monitor='val_loss', patience=2, verbose=1)"
   ]
  },
  {
   "cell_type": "code",
   "execution_count": 317,
   "id": "4e962a69",
   "metadata": {},
   "outputs": [
    {
     "name": "stdout",
     "output_type": "stream",
     "text": [
      "Epoch 1/50\n",
      "302/302 [==============================] - 29s 79ms/step - loss: 3.5931 - val_loss: 3.3149\n",
      "Epoch 2/50\n",
      "302/302 [==============================] - 23s 75ms/step - loss: 3.1498 - val_loss: 2.9979\n",
      "Epoch 3/50\n",
      "302/302 [==============================] - 22s 74ms/step - loss: 2.8879 - val_loss: 2.7935\n",
      "Epoch 4/50\n",
      "302/302 [==============================] - 22s 73ms/step - loss: 2.7091 - val_loss: 2.6656\n",
      "Epoch 5/50\n",
      "302/302 [==============================] - 22s 74ms/step - loss: 2.5816 - val_loss: 2.5714\n",
      "Epoch 6/50\n",
      "302/302 [==============================] - 22s 74ms/step - loss: 2.4802 - val_loss: 2.5031\n",
      "Epoch 7/50\n",
      "302/302 [==============================] - 22s 74ms/step - loss: 2.3935 - val_loss: 2.4434\n",
      "Epoch 8/50\n",
      "302/302 [==============================] - 22s 73ms/step - loss: 2.3188 - val_loss: 2.3923\n",
      "Epoch 9/50\n",
      "302/302 [==============================] - 22s 74ms/step - loss: 2.2525 - val_loss: 2.3559\n",
      "Epoch 10/50\n",
      "302/302 [==============================] - 22s 74ms/step - loss: 2.1941 - val_loss: 2.3271\n",
      "Epoch 11/50\n",
      "302/302 [==============================] - 22s 74ms/step - loss: 2.1417 - val_loss: 2.2995\n",
      "Epoch 12/50\n",
      "302/302 [==============================] - 22s 74ms/step - loss: 2.0939 - val_loss: 2.2756\n",
      "Epoch 13/50\n",
      "302/302 [==============================] - 22s 74ms/step - loss: 2.0516 - val_loss: 2.2634\n",
      "Epoch 14/50\n",
      "302/302 [==============================] - 22s 74ms/step - loss: 2.0111 - val_loss: 2.2465\n",
      "Epoch 15/50\n",
      "302/302 [==============================] - 22s 74ms/step - loss: 1.9747 - val_loss: 2.2330\n",
      "Epoch 16/50\n",
      "302/302 [==============================] - 22s 74ms/step - loss: 1.9411 - val_loss: 2.2266\n",
      "Epoch 17/50\n",
      "302/302 [==============================] - 22s 74ms/step - loss: 1.9096 - val_loss: 2.2232\n",
      "Epoch 18/50\n",
      "302/302 [==============================] - 22s 74ms/step - loss: 1.8804 - val_loss: 2.2145\n",
      "Epoch 19/50\n",
      "302/302 [==============================] - 22s 74ms/step - loss: 1.8523 - val_loss: 2.2138\n",
      "Epoch 20/50\n",
      "302/302 [==============================] - 22s 74ms/step - loss: 1.8264 - val_loss: 2.2079\n",
      "Epoch 21/50\n",
      "302/302 [==============================] - 22s 74ms/step - loss: 1.8015 - val_loss: 2.2058\n",
      "Epoch 22/50\n",
      "302/302 [==============================] - 22s 74ms/step - loss: 1.7786 - val_loss: 2.2046\n",
      "Epoch 23/50\n",
      "302/302 [==============================] - 22s 74ms/step - loss: 1.7560 - val_loss: 2.2075\n",
      "Epoch 24/50\n",
      "302/302 [==============================] - 22s 74ms/step - loss: 1.7348 - val_loss: 2.2057\n",
      "Epoch 00024: early stopping\n"
     ]
    }
   ],
   "source": [
    "# 모델 학습 > 모델 fit\n",
    "history = model.fit(x=[encoder_input_train, decoder_input_train], y=decoder_target_train, \\\n",
    "        validation_data=([encoder_input_test, decoder_input_test], decoder_target_test), \\\n",
    "        batch_size=256, callbacks=[es], epochs=50)"
   ]
  },
  {
   "cell_type": "code",
   "execution_count": 318,
   "id": "07ac16c5",
   "metadata": {},
   "outputs": [
    {
     "data": {
      "image/png": "[encoded data removed]",
      "text/plain": [
       "<Figure size 432x288 with 1 Axes>"
      ]
     },
     "metadata": {
      "needs_background": "light"
     },
     "output_type": "display_data"
    }
   ],
   "source": [
    "# 모델 평가\n",
    "# 모델 평가 > 훈련 데이터의 손실과 검증 데이터 시각화\n",
    "# 모델 평가 > train loss와 validation loss\n",
    "plt.plot(history.history['loss'], label='train')\n",
    "plt.plot(history.history['val_loss'], label='test')\n",
    "plt.legend()\n",
    "plt.show()"
   ]
  },
  {
   "cell_type": "code",
   "execution_count": 319,
   "id": "03c3ecbe",
   "metadata": {},
   "outputs": [],
   "source": [
    "# 인퍼런스 모델 구현\n",
    "src_index_to_word = src_tokenizer.index_word # 원문 단어 집합에서 정수 -> 단어를 얻음\n",
    "tar_word_to_index = tar_tokenizer.word_index # 요약 단어 집합에서 단어 -> 정수를 얻음\n",
    "tar_index_to_word = tar_tokenizer.index_word # 요약 단어 집합에서 정수 -> 단어를 얻음"
   ]
  },
  {
   "cell_type": "code",
   "execution_count": 320,
   "id": "2ceeff85",
   "metadata": {},
   "outputs": [],
   "source": [
    "# 인코더 설계\n",
    "encoder_model = Model(inputs=encoder_inputs, outputs=[encoder_outputs, state_h, state_c])"
   ]
  },
  {
   "cell_type": "code",
   "execution_count": 321,
   "id": "265fb9f9",
   "metadata": {},
   "outputs": [],
   "source": [
    "# 이전 시점의 상태들을 저장하는 텐서\n",
    "decoder_state_input_h = Input(shape=(hidden_size,))\n",
    "decoder_state_input_c = Input(shape=(hidden_size,))"
   ]
  },
  {
   "cell_type": "code",
   "execution_count": 322,
   "id": "f7832287",
   "metadata": {},
   "outputs": [],
   "source": [
    "dec_emb2 = dec_emb_layer(decoder_inputs)"
   ]
  },
  {
   "cell_type": "code",
   "execution_count": 323,
   "id": "4011d548",
   "metadata": {},
   "outputs": [],
   "source": [
    "# 문장의 다음 단어를 예측하기 위해서 초기 상태(initial_state)를 이전 시점의 상태로 사용. 이는 뒤의 함수 decode_sequence()에 구현\n",
    "# 훈련 과정에서와 달리 LSTM의 리턴하는 은닉 상태와 셀 상태인 state_h와 state_c를 버리지 않음.\n",
    "decoder_outputs2, state_h2, state_c2 = decoder_lstm(dec_emb2, initial_state=[decoder_state_input_h, decoder_state_input_c])"
   ]
  },
  {
   "cell_type": "code",
   "execution_count": 324,
   "id": "0bdbdaa3",
   "metadata": {},
   "outputs": [],
   "source": [
    "# 어텐션 함수\n",
    "decoder_hidden_state_input = Input(shape=(text_max_len, hidden_size))\n",
    "attn_out_inf = attn_layer([decoder_outputs2, decoder_hidden_state_input])\n",
    "decoder_inf_concat = Concatenate(axis=-1, name='concat')([decoder_outputs2, attn_out_inf])"
   ]
  },
  {
   "cell_type": "code",
   "execution_count": 325,
   "id": "99708644",
   "metadata": {},
   "outputs": [],
   "source": [
    "# 디코더의 출력층\n",
    "decoder_outputs2 = decoder_softmax_layer(decoder_inf_concat) "
   ]
  },
  {
   "cell_type": "code",
   "execution_count": 326,
   "id": "295e8838",
   "metadata": {},
   "outputs": [],
   "source": [
    "# 최종 디코더 모델\n",
    "decoder_model = Model(\n",
    "    [decoder_inputs] + [decoder_hidden_state_input,decoder_state_input_h, decoder_state_input_c],\n",
    "    [decoder_outputs2] + [state_h2, state_c2])"
   ]
  },
  {
   "cell_type": "code",
   "execution_count": 327,
   "id": "0f5d125b",
   "metadata": {},
   "outputs": [
    {
     "name": "stdout",
     "output_type": "stream",
     "text": [
      "Abstractive\n",
      "원문 : allahabad high court slammed trial court judge sentenced life imprisonment murder case things like film director learned trial judge took evidence circumstances case granted tried solve like court observed\n",
      "실제 요약 : trial judge like film director hc in case\n",
      "예측 요약 :  hc rejects plea to murder case\n",
      "\n",
      "\n",
      "원문 : ghosh made directorial debut revealed forgot say cut first day film shoot added someone crew explained say cut every scene film starring sanjay juhi chawla rahul bose years release tuesday\n",
      "실제 요약 : to say cut on st day of beats shoot\n",
      "예측 요약 :  was st ever on my debut\n",
      "\n",
      "\n",
      "원문 : us based ride hailing startup uber preparing sell southeast asian business rival grab exchange stake singapore based ride sharing company according reports deal reportedly part strategy help uber reduce costs ahead planned ipo earlier uber also sold china business rival didi ownership\n",
      "실제 요약 : uber to sell asian business to rival report\n",
      "예측 요약 :  uber in talks to buy uber rival report\n",
      "\n",
      "\n",
      "원문 : tamil nadu government soon set coaching civil services districts state education minister ka said sunday would benefit poor middle class youths bid clear indian administrative service indian police service examinations get good ranks added\n",
      "실제 요약 : tamil nadu govt to set up ias in all\n",
      "예측 요약 :  tamil nadu to get in all\n",
      "\n",
      "\n",
      "원문 : woman united states bears holds guinness world record largest collection bears year old record jackie keeps bears house called bear town one bear collecting bears since\n",
      "실제 요약 : woman with over holds world record\n",
      "예측 요약 :  woman sets record record for most\n",
      "\n",
      "\n",
      "원문 : american golfer lewis pledged donate prize money received winning classic tour hurricane harvey relief fund hurricane believed one us worst natural lewis first tournament win since\n",
      "실제 요약 : us donates cash prize for victims\n",
      "예측 요약 :  prize wins crore prize\n",
      "\n",
      "\n",
      "원문 : ranveer singh took twitter share three pictures featuring characters orange character dark knight khilji padmavati earlier talking character ranveer said fear go may come back like come back\n",
      "실제 요약 : ranveer his to\n",
      "예측 요약 :  ranveer singh shares video of\n",
      "\n",
      "\n",
      "원문 : ministry defence ordered shut military across india established british nearly years ago spread acres house cattle comes part exercise reduce non combat indian army free land army\n",
      "실제 요약 : govt to shut down military started by the british\n",
      "예측 요약 :  govt to shut down in\n",
      "\n",
      "\n",
      "원문 : cbi detained four people including official bihar social welfare department connection muzaffarpur shelter home rape case government official informed girls abuse take action officials said least girls raped state funded shelter home said police nnn\n",
      "실제 요약 : govt official among detained in bihar shelter home case\n",
      "예측 요약 :  cbi arrests bihar shelter home rapes girls\n",
      "\n",
      "\n",
      "원문 : farmer maharashtra destroyed crop land fit earning amount produce claiming got hand transport charges reduced farmer said grew spending got two crops\n",
      "실제 요약 : own after just for\n",
      "예측 요약 :  maha govt claims to\n",
      "\n",
      "\n",
      "원문 : law ministry thursday approved filing review petition supreme court recent sc st anti atrocities act reports said comes meeting dalit leaders mps pm narendra modi various sc st related issues recent order removed provision immediate arrest act\n",
      "실제 요약 : govt approves review petition against of sc st act\n",
      "예측 요약 :  sc to review order on sc order on\n",
      "\n",
      "\n",
      "원문 : cpi led kerala government wednesday decided raise minimum age consuming liquor directing liquor outlets maintain strict state excise minister said move aimed drinking among youths government would give priority rather ban liquor added\n",
      "실제 요약 : kerala govt to raise age from to\n",
      "예측 요약 :  kerala govt to liquor to liquor\n",
      "\n",
      "\n",
      "원문 : electronic voting machines used first time limited scale bangladesh general elections held december traditional system vote casting also used nearly crore people including crore women registered voters bangladesh\n",
      "실제 요약 : desh to use for st time in general polls next month\n",
      "예측 요약 :  st indian to be held in\n",
      "\n",
      "\n",
      "원문 : terms hours scheduled lok sabha witnessed rajya sabha recorded recently concluded budget session per legislative research comparison lok sabha previous session recorded worst since bjp government took rajya sabha previous session\n",
      "실제 요약 : lok sabha at in budget\n",
      "예측 요약 :  lok sabha speaker days after\n",
      "\n",
      "\n",
      "원문 : son mumbai police inspector murder case killed mother arrested hotel jodhpur rajasthan according investigators slit mother throat wrote catch hang blood fled lakh cash tuesday\n",
      "실제 요약 : boy who am of her in mother blood arrested\n",
      "예측 요약 :  cop son kills mother in uttar pradesh\n",
      "\n",
      "\n",
      "원문 : denying reports got engaged rumoured boyfriend ranveer singh january vacation maldives deepika padukone said engaged said neha dhupia hosted talk show vogue deepika sister padukone appeared show jokingly added engaged last four years\n",
      "실제 요약 : not to ranveer deepika on rumours of\n",
      "예측 요약 :  ranveer deepika is working with maker\n",
      "\n",
      "\n",
      "원문 : rally us president donald trump told go home get please guy weak person weak voice nobody trump added rally earlier year trump told say hello\n",
      "실제 요약 : go home to trump tells during rally\n",
      "예측 요약 :  trump will not be if he is not\n",
      "\n",
      "\n",
      "원문 : australian captain steve smith revealed decision name captain michael clarke successor made bar adelaide smith brad mark taylor bar taylor asked ready replace clarke said thinks smith clarke successor instead\n",
      "실제 요약 : steve smith was as aus test cricket captain in bar\n",
      "예측 요약 :  smith should smith for\n",
      "\n",
      "\n",
      "원문 : pakistan supreme court informed assets properties worth billion uae local media reported state bank pakistan said issued notices assets uae court informed money transferred pakistan mainly banking routes\n",
      "실제 요약 : own assets worth billion in uae report\n",
      "예측 요약 :  pakistan sc bn to pakistan\n",
      "\n",
      "\n",
      "원문 : estimated protestors took streets tamil nadu tuticorin saturday demanding closure sterlite copper plant local residents alleged water air causing skin problems comes month arrest protestors went hunger strike plant proposed expansion\n",
      "실제 요약 : protest in tn of plant\n",
      "예측 요약 :  tn plant plant in amid heavy\n",
      "\n",
      "\n",
      "원문 : scientists university led indian scientist skin uses generate electricity via solar energy electronic skin various found human skin give robots sense touch goal use technology make energy autonomous said\n",
      "실제 요약 : indian led team develops solar\n",
      "예측 요약 :  scientists develop to\n",
      "\n",
      "\n",
      "원문 : russian national selling photographs delhi earn money continue travelling across india sat place next saying hello russia photos travel price support trip staying hostel wished visit kashmir\n",
      "실제 요약 : russian sells photos on delhi to travel across india\n",
      "예측 요약 :  russia to pay lakh to\n",
      "\n",
      "\n",
      "원문 : record highest last wicket partnership test cricket set july england james anderson joe root facing india duo added runs final wicket became test match feature two century th wicket notably anderson run innings test career score\n",
      "실제 요약 : record for highest last wicket test stand was set vs india\n",
      "예측 요약 :  australia beat australia to take lead to take lead in test series\n",
      "\n",
      "\n",
      "원문 : supreme court wednesday dismissed pil seeking rules setting allocation cases apex court high courts cji constitution affairs court said comes four supreme court judges alleged cji cases\n",
      "실제 요약 : sc dismisses seeking of rules for case\n",
      "예측 요약 :  sc refuses to review review of\n",
      "\n",
      "\n",
      "원문 : following criticism yuva sena leaders song tweeted composed six songs leaders wanted mumbai civic body bmc file crore defamation case civic body image bmc also sent notice mother dengue mumbai home\n",
      "실제 요약 : more are ready post row on song\n",
      "예측 요약 :  song filed against mumbai for cr\n",
      "\n",
      "\n",
      "원문 : tv producer ekta kapoor took instagram share picture actress sakshi union minister smriti irani sakshi played female lead ghar ghar smriti known character bhi kabhi shows produced ekta kapoor nnn\n",
      "실제 요약 : kapoor shares pic with irani\n",
      "예측 요약 :  shares pic with irani\n",
      "\n",
      "\n",
      "원문 : chairman sushil chandra said message investments radar filing returns catch chandra said people purchased properties worth crore file returns face action government soon probe lakh individuals suspected tax evasion added\n",
      "실제 요약 : will catch you if you do not file tax returns chairman\n",
      "예측 요약 :  will not sell money to buy me in money\n",
      "\n",
      "\n",
      "원문 : issuing warning india china iranian oil imports us state secretary mike pompeo threat said watch pompeo added us committed reducing india china iranian oil imports zero us granted india temporary waiver iran oil sanctions\n",
      "실제 요약 : watch what we do us warns india over iran sanctions\n",
      "예측 요약 :  india to iran on iran\n",
      "\n",
      "\n",
      "원문 : bhopal police monday arrested year old police constable allegedly raping head constable wife accused threatened victim consequences complained comes year old civil service gangraped four bhopal last month\n",
      "실제 요약 : police arrested for raping senior wife\n",
      "예측 요약 :  arrested for raping woman in law\n",
      "\n",
      "\n",
      "원문 : egyptian artist mohammed seeks set guinness world record creating largest recently created metre long stated self funded project past three years decorated displayed wooden box end\n",
      "실제 요약 : artist seeks to set world record with\n",
      "예측 요약 :  world largest gold\n",
      "\n",
      "\n",
      "원문 : around women india support live relationships according nation poll seeking people opinion live relationships poll received responses lakh indians urban rural areas think live relationships still considered india said would prefer live ins marriage\n",
      "실제 요약 : indian women support live in relationship poll\n",
      "예측 요약 :  women to be in india\n",
      "\n",
      "\n",
      "원문 : series chairman bhushan kumar claimed sexual harassment allegations adding know name dragged metoo anonymous person said lodged police complaint track mysterious people whose twitter disappeared malicious tweet\n",
      "실제 요약 : to see name being in metoo series chairman\n",
      "예측 요약 :  sexual harassment by me\n",
      "\n",
      "\n",
      "원문 : founder chairman iranian satellite television network channel tv saeed shot dead saturday istanbul turkey along business partner saeed sentenced six years prison iranian court spreading propaganda country reportedly threatened regime past three months\n",
      "실제 요약 : founder of tv shot dead in turkey\n",
      "예측 요약 :  founder of tv news on tv show\n",
      "\n",
      "\n",
      "원문 : virat kohli clarified australian players friends anymore comment test saying answer way kohli posted series tweets twitter thursday stating friendship australian royal challengers bangalore teammates remains referring couple individuals\n",
      "실제 요약 : kohli his not friends\n",
      "예측 요약 :  kohli slams kohli over remark\n",
      "\n",
      "\n",
      "원문 : following fight rapper recent fashion event rapper said woman best stage career throwing bottles shoes added part something go front upper people approached comments questioning mother\n",
      "실제 요약 : at career and she is on fight\n",
      "예측 요약 :  was not to win gold in\n",
      "\n",
      "\n",
      "원문 : drugmaker agreed buy stake consumer healthcare joint venture billion cash use money expand business well bolt last week withdrawn auction consumer healthcare business backing deal worth potential billion\n",
      "실제 요약 : buys stake in from for bn\n",
      "예측 요약 :  buys stake in\n",
      "\n",
      "\n",
      "원문 : jammu kashmir minister public works akhtar dismissed reports stone pelting tourists fake news akhtar said urge spreading fake news image interest jammu kashmir jammu kashmir continue safe place tourists added\n",
      "실제 요약 : reports of stone on tourists fake news minister\n",
      "예측 요약 :  stone stone in fake news\n",
      "\n",
      "\n",
      "원문 : punjab congress government counsel thursday asked supreme court lower court conviction state minister navjot singh sidhu road case claiming involvement case sidhu allegedly got altercation year old singh hit following man succumbed injuries\n",
      "실제 요약 : punjab govt seeks sidhu in road case\n",
      "예측 요약 :  sc denies cbi probe in case against sidhu\n",
      "\n",
      "\n",
      "원문 : japanese sit protest construction new military base country region forcibly removed police locals protesting base citing potential noise pollution safety environmental hosts nearly half us troops based japan\n",
      "실제 요약 : japanese against us removed\n",
      "예측 요약 :  protest protest against in\n",
      "\n",
      "\n",
      "원문 : mumbai indians player pollard took short run ipl match kings xi punjab thursday could retain strike cricket laws short run may punishable field umpires may warn batsman runs delivery case repeat instances award penalty runs opposition\n",
      "실제 요약 : is short run by cricket\n",
      "예측 요약 :  ipl to be out of ipl\n",
      "\n",
      "\n",
      "원문 : apple planning launch three new iphones according report company reportedly launch successor lower priced device iphone liquid display screen also introduce triple rear camera highest end model double rear camera two models report added\n",
      "실제 요약 : apple plans to launch three new in report\n",
      "예측 요약 :  apple to launch iphone in reports\n",
      "\n",
      "\n",
      "원문 : south african rio olympics gold medal winning runner called former indian captain ms dhoni story inspiring watched film inspiring story salute wrote twitter post gold metre rio also silver medal metre london olympics\n",
      "실제 요약 : dhoni story is olympic gold winning\n",
      "예측 요약 :  champion dhoni for\n",
      "\n",
      "\n",
      "원문 : delhi based online startup raised crore series funding round led ventures existing investors funding used ramp user acquisition data analytics machine learning product market expansion founded offers online real money customers games like fantasy league\n",
      "실제 요약 : online startup raises cr in series\n",
      "예측 요약 :  delhi based startup raises crore\n",
      "\n",
      "\n",
      "원문 : kings xi punjab amla became third player score least two centuries single ipl edition scoring second season gujarat lions sunday amla hit maiden ipl century mumbai indians earlier season notably south african batsman century first innings\n",
      "실제 요약 : third player to score at least in an ipl season\n",
      "예측 요약 :  yuvraj slams off ipl ipl\n",
      "\n",
      "\n",
      "원문 : centre made mandatory commerce firms display maximum retail price goods today regard made legal rules june along companies display manufacturing date net country origin consumer care details label\n",
      "실제 요약 : must show other details from today\n",
      "예측 요약 :  govt proposes to make mandatory for\n",
      "\n",
      "\n",
      "원문 : mumbai court tuesday acquitted three men performed challenge moving train july assured make awareness video possible challenge observing trio uploaded video youtube immediate publicity court said fallen present day trend\n",
      "실제 요약 : held for doing challenge told to make video\n",
      "예측 요약 :  mumbai hc allows woman to remove blue whale challenge\n",
      "\n",
      "\n",
      "원문 : fir filed administrators website called news allegedly making offensive comments karnataka based freedom fighter rani th century administrators hurt sentiments women community writing rani illicit relationship british complainant said\n",
      "실제 요약 : fir against news site in taka for freedom fighter\n",
      "예측 요약 :  fir against for\n",
      "\n",
      "\n",
      "원문 : malaysia wednesday first time set ablaze foreign boat fishing illegally waters country continue ramp surveillance crimes committed sea officials said borders pose constant challenge malaysia southeast asian countries struggle combat illegal fishing reports said\n",
      "실제 요약 : malaysia sets for illegal for first time\n",
      "예측 요약 :  st navy to open its first ever\n",
      "\n",
      "\n",
      "원문 : european union general affairs council monday adopted guidelines britain exit bloc per transition period would end december comes despite calls british pm theresa may two year transition period britain scheduled leave european union march\n",
      "실제 요약 : brexit to end by european union\n",
      "예측 요약 :  eu to be out of brexit\n",
      "\n",
      "\n",
      "원문 : army vehicle fell deep jammu kashmir district friday injuring least soldiers police said per reports accident occurred driver vehicle lost control injured soldiers taken hospital police added\n",
      "실제 요약 : army vehicle falls into in soldiers injured\n",
      "예측 요약 :  army falls off foot in uttarakhand\n",
      "\n",
      "\n"
     ]
    }
   ],
   "source": [
    "# Abstractive 요약 분석\n",
    "print(\"Abstractive\")\n",
    "for i in range(50, 100):\n",
    "    print(\"원문 :\", seq2text(encoder_input_test[i], src_index_to_word).strip())\n",
    "    print(\"실제 요약 :\", seq2summary(decoder_input_test[i], tar_index_to_word).strip())\n",
    "    print(\"예측 요약 :\", decode_sequence(encoder_model, decoder_model, encoder_input_test[i].reshape(1, text_max_len), tar_word_to_index, tar_index_to_word, summary_max_len))\n",
    "    print(\"\\n\")"
   ]
  },
  {
   "cell_type": "code",
   "execution_count": 328,
   "id": "898ba371",
   "metadata": {},
   "outputs": [
    {
     "data": {
      "text/plain": [
       "'\\nsummarize parameter\\ntext (str) : 요약할 테스트.\\nratio (float, optional) – 요약문에서 원본에서 선택되는 문장 비율. 0~1 사이값\\nwords (int or None, optional) – 출력에 포함할 단어 수.\\n만약, ratio와 함께 두 파라미터가 모두 제공되는 경우 ratio는 무시한다.\\nsplit (bool, optional) – True면 문장 list / False는 조인(join)된 문자열을 반환\\n'"
      ]
     },
     "execution_count": 328,
     "metadata": {},
     "output_type": "execute_result"
    }
   ],
   "source": [
    "'''\n",
    "summarize parameter\n",
    "text (str) : 요약할 테스트.\n",
    "ratio (float, optional) – 요약문에서 원본에서 선택되는 문장 비율. 0~1 사이값\n",
    "words (int or None, optional) – 출력에 포함할 단어 수.\n",
    "만약, ratio와 함께 두 파라미터가 모두 제공되는 경우 ratio는 무시한다.\n",
    "split (bool, optional) – True면 문장 list / False는 조인(join)된 문자열을 반환\n",
    "'''"
   ]
  },
  {
   "cell_type": "code",
   "execution_count": null,
   "id": "789aa214",
   "metadata": {},
   "outputs": [],
   "source": [
    "data2 = pd.read_csv('news_summary_more.csv', encoding='iso-8859-1')"
   ]
  },
  {
   "cell_type": "code",
   "execution_count": 359,
   "id": "35412b5e",
   "metadata": {},
   "outputs": [
    {
     "name": "stdout",
     "output_type": "stream",
     "text": [
      "Extractive\n",
      "395\n",
      "원문 : Former Finance Minister Yashwant Sinha on Tuesday demanded a probe into the alleged diversion of loans worth Ã¢ÂÂ¹31,000 crore by Dewan Housing Finance (DHFL). All agencies including regulators of the government have failed to track nefarious deals, he said. This comes after a media report on Tuesday accused DHFL's controlling shareholders of diverting funds to shell companies to buy assets.\n",
      "요약 : Former Finance Minister Yashwant Sinha on Tuesday demanded a probe into the alleged diversion of loans worth Ã¢ÂÂ¹31,000 crore by Dewan Housing Finance (DHFL).\n",
      "\n",
      "\n",
      "390\n",
      "원문 : US-based Boeing on Wednesday reported annual sales worth $101.12 billion in 2018, the first time the planemaker's sales crossed the $100-billion mark in its 102-year history. The company said it expects to deliver between 895 and 905 commercial aircraft in 2019. Boeing retained its position as the world's largest planemaker for the seventh straight year, delivering 806 aircraft in 2018. \n",
      "요약 : Boeing retained its position as the world's largest planemaker for the seventh straight year, delivering 806 aircraft in 2018.\n",
      "\n",
      "\n",
      "4\n",
      "원문 : text\n",
      "요약 : \n",
      "\n",
      "\n",
      "287\n",
      "원문 : OnePlus has emerged as India's best-selling premium smartphone brand of 2018, as per a report by Counterpoint. It captured 36% of the market share in the premium segment, in Q4 2018. Further, its OnePlus 6 emerged as the highest selling premium smartphone of 2018 followed by OnePlus 6T.\n",
      "요약 : Further, its OnePlus 6 emerged as the highest selling premium smartphone of 2018 followed by OnePlus 6T.\n",
      "\n",
      "\n",
      "332\n",
      "원문 : Filmmaker Pooja Bhatt, while talking about the presentation of women in her films, said, \"I can never look at a female body, even if it's naked, in a vulgar manner.\" \"Our audience can say...the women in my films are bold or sensual, but never ever vulgar,\" she added. Pooja further said her censor board is her \"own heart and mind\".\n",
      "요약 : \n",
      "\n",
      "\n",
      "374\n",
      "원문 : Actress Mishti, who has featured in 'Manikarnika: The Queen of Jhansi', has said the film's co-director Kangana Ranaut made false promises to the cast. \"Kangana had said, 'I want dates because all characters look jumbled up...I'm trying my best to give everybody a prominent space on screen.' After watching the movie, there is no scope for other characters,\" Mishti added. \n",
      "요약 : Actress Mishti, who has featured in 'Manikarnika: The Queen of Jhansi', has said the film's co-director Kangana Ranaut made false promises to the cast.\n",
      "\n",
      "\n",
      "355\n",
      "원문 : The high-powered committee led by PM Narendra Modi to select the next CBI Director will meet again on February 1, Congress leader Mallikarjun Kharge has said. The panel consisting of Kharge and Chief Justice of India Ranjan Gogoi met on January 24, but the meeting ended \"inconclusively\" after Kharge cited lack of details in the list of 80 IPS officers. \n",
      "요약 : The high-powered committee led by PM Narendra Modi to select the next CBI Director will meet again on February 1, Congress leader Mallikarjun Kharge has said.\n",
      "\n",
      "\n",
      "406\n",
      "원문 : Nevada State Athletic Commission has banned MMA fighters Conor McGregor and Khabib Nurmagomedov for six months and nine months respectively over their roles in the mass brawl that occurred after their fight at UFC 229 last October. McGregor and Khabib have been fined $50,000 (Ã¢ÂÂ¹35 lakh) and $500,000 (Ã¢ÂÂ¹3.5 crore) respectively. The brawl occurred after Nurmagomedov confronted McGregor's teammate.\n",
      "요약 : Nevada State Athletic Commission has banned MMA fighters Conor McGregor and Khabib Nurmagomedov for six months and nine months respectively over their roles in the mass brawl that occurred after their fight at UFC 229 last October.\n",
      "\n",
      "\n",
      "324\n",
      "원문 : Pakistan captain Sarfaraz Ahmed, who has been banned for four matches over racist remarks, took an apparent dig at his critics by sharing a video of a child reciting 'log hai na' poem on Twitter. \"Pyaar karna hai to khud se kar...dushmani karne ke liye log hai na,\" the poem read. \"This is how the world is,\" Sarfaraz wrote.\n",
      "요약 : Pakistan captain Sarfaraz Ahmed, who has been banned for four matches over racist remarks, took an apparent dig at his critics by sharing a video of a child reciting 'log hai na' poem on Twitter.\n",
      "\n",
      "\n",
      "398\n",
      "원문 : Banned cricketer Sreesanth has told Supreme Court he initially confessed to Delhi Police about his alleged involvement in 2013 IPL spot-fixing scandal to escape continuous police torture. Sreesanth further said the bookie tried dragging him into spot-fixing but he didn't fall for it. Citing Sreesanth not informing BCCI about fixing approach, the apex court said Sreesanth's conduct \"wasn't good\".\n",
      "요약 : Sreesanth further said the bookie tried dragging him into spot-fixing but he didn't fall for it.\n",
      "\n",
      "\n",
      "382\n",
      "원문 : The Finance Ministry on Wednesday said the government will present an Interim Budget on February 1. The clarification came amid speculations that a full Budget may be presented during the session. The government recently assigned Piyush Goyal temporary additional charge of the Finance and Corporate Affairs ministries in the absence of Arun Jaitley, who is in the US for treatment.\n",
      "요약 : The Finance Ministry on Wednesday said the government will present an Interim Budget on February 1.\n",
      "\n",
      "\n",
      "390\n",
      "원문 : US President Donald Trump on Wednesday called his country's top intelligence chiefs \"naive\" and \"wrong\" on Iran and added that they should perhaps \"go back to school\". Trump claimed Iran is testing rockets, calling the country \"a source of potential danger and conflict\". Top US intelligence officials on Tuesday said that Iran isn't currently taking steps towards building nuclear weapons.\n",
      "요약 : US President Donald Trump on Wednesday called his country's top intelligence chiefs \"naive\" and \"wrong\" on Iran and added that they should perhaps \"go back to school\".\n",
      "\n",
      "\n",
      "302\n",
      "원문 : A senior priest at the Vatican who handled cases of sexual abuse has quit after being accused of sexual abuse by a former nun. The accused priest claimed he is innocent and said he would consider taking legal action. The Vatican said in a statement that a Church investigation of the case was underway.\n",
      "요약 : A senior priest at the Vatican who handled cases of sexual abuse has quit after being accused of sexual abuse by a former nun.\n",
      "\n",
      "\n",
      "354\n",
      "원문 : A 22-year-old writer turned down a job offer, claiming she was bullied to the point of tears during her two-hour interview by a UK company's CEO. Olivia Bland added the \"brutal\" interview brought back painful memories of her abusive relationship. \"I am so sorry that anyone has been hurt, it is never my intent,\" Web Applications CEO Craig Dean replied. \n",
      "요약 : A 22-year-old writer turned down a job offer, claiming she was bullied to the point of tears during her two-hour interview by a UK company's CEO.\n",
      "\n",
      "\n",
      "376\n",
      "원문 : Noida Police has arrested Sector 20 station in-charge Manoj Pant and three journalists for allegedly extorting money from a call centre owner for removing his name from an FIR. The four were caught while taking bribe money of Ã¢ÂÂ¹8 lakh, police said. Pant was the lead investigator in the Paytm extortion case involving Founder Vijay Shekhar Sharma's secretary Sonia Dhawan.\n",
      "요약 : Noida Police has arrested Sector 20 station in-charge Manoj Pant and three journalists for allegedly extorting money from a call centre owner for removing his name from an FIR.\n",
      "\n",
      "\n",
      "396\n",
      "원문 : Airtel on Wednesday said that Qatar's sovereign wealth fund Qatar Investment Authority will invest $200 million through a primary equity issuance in Airtel Africa. India's second-largest telecom operator's Africa unit recently raised $1.25 billion from six investors. Airtel Africa, the holding company for Airtel's operations in 14 African countries, is preparing for an initial public offering.\n",
      "요약 : Airtel Africa, the holding company for Airtel's operations in 14 African countries, is preparing for an initial public offering.\n",
      "\n",
      "\n",
      "379\n",
      "원문 : Actor Shreyas Talpade said that 'Golmaal' filmmaker Rohit Shetty is still working on the script for the fifth instalment of the 'Golmaal' film franchise. \"He was telling us the other day that he...cracked some story. Once he's done with the...scripting, he'll take a call,Ã¢ÂÂ the actor added. The series features Shreyas along with Ajay Devgn, Arshad Warsi and Tusshar Kapoor.\n",
      "요약 : Actor Shreyas Talpade said that 'Golmaal' filmmaker Rohit Shetty is still working on the script for the fifth instalment of the 'Golmaal' film franchise.\n",
      "\n",
      "\n",
      "360\n",
      "원문 : A 72-year-old man named Terry Sanderson has sued 'Avengers' actress Gwyneth Paltrow for allegedly crashing into him while skiing, and is seeking $3.1 million (over Ã¢ÂÂ¹22 crore) in damages. The lawsuit states the actress got up and skied away after knocking the man down, leaving him with broken ribs. The incident reportedly took place in 2016 in Utah, US. \n",
      "요약 : A 72-year-old man named Terry Sanderson has sued 'Avengers' actress Gwyneth Paltrow for allegedly crashing into him while skiing, and is seeking $3.1 million (over Ã¢ÂÂ¹22 crore) in damages.\n",
      "\n",
      "\n",
      "348\n",
      "원문 : Yami Gautam was felicitated by Border Security Force (BSF) in Amritsar for her performance in 'Uri: The Surgical Strike'. \"BSF is the first line of defence of our country and it gives me...pride to have met them,\" Yami said. The film, which also stars Vicky Kaushal, is based on the Indian Army's surgical strike operation which took place in 2016.\n",
      "요약 : Yami Gautam was felicitated by Border Security Force (BSF) in Amritsar for her performance in 'Uri: The Surgical Strike'.\n",
      "\n",
      "\n",
      "396\n",
      "원문 : Social media giant Facebook has hired privacy critic Nate Cardozo, formerly the top legal counsel for US privacy watchdog EFF, as a privacy policy manager for WhatsApp. Cardozo had called Facebook a \"faceless corporation\" whose business model depends on user's confusion and indifference about privacy, in October 2015. Facebook has also hired attorney Robyn Greene as its privacy policy manager.\n",
      "요약 : \n",
      "\n",
      "\n",
      "367\n",
      "원문 : Apple CEO Tim Cook said the company plans to lower some iPhones' prices in markets with currencies that weakened against the US dollar in the past year. \"WeÃ¢ÂÂve decided to go back to (iPhone prices) more commensurate with...local prices...a year ago,\" Cook added. The price cuts, in hopes of increasing sales, are reportedly occurring for second time in 12 years.\n",
      "요약 : \"WeÃ¢ÂÂve decided to go back to (iPhone prices) more commensurate with...local prices...a year ago,\" Cook added.\n",
      "\n",
      "\n",
      "378\n",
      "원문 : Scientists in Australia's Flinders University are testing a wetsuit prototype that could protect its wearer after a shark attack. The suit, made of synthetic material similar to the material used in bulletproof vests, could help reduce blood loss after a shark attack. \"The majority of fatalities from shark bites is due to blood loss...shock from blood loss,\" a scientist said.\n",
      "요약 : \"The majority of fatalities from shark bites is due to blood loss...shock from blood loss,\" a scientist said.\n",
      "\n",
      "\n",
      "340\n",
      "원문 : BJP National Secretary Rahul Sinha on Wednesday asked the party workers in West Bengal to come armed with sticks to PM Narendra Modi's rally in the state on February 2. His statement came a day after clashes broke out following BJP chief Amit Shah's WB rally. Sinha added the TMC is indulged in violence as they're afraid of BJP's strength.\n",
      "요약 : BJP National Secretary Rahul Sinha on Wednesday asked the party workers in West Bengal to come armed with sticks to PM Narendra Modi's rally in the state on February 2.\n",
      "\n",
      "\n",
      "351\n",
      "원문 : BJP President Amit Shah on Wednesday took a dig at the Opposition parties saying that the 'mahagathbandhan' for the Opposition is 4B - \"Bua-Bhatija-Bhai-Behen\". He added that 4B for the BJP meant \"Badhta Bharat, Banta Bharat\". He said Opposition's government cannot take the country ahead and \"only Modiji can provide a 'mazboot' (strong) government\".\n",
      "요약 : BJP President Amit Shah on Wednesday took a dig at the Opposition parties saying that the 'mahagathbandhan' for the Opposition is 4B - \"Bua-Bhatija-Bhai-Behen\".\n",
      "\n",
      "\n",
      "373\n",
      "원문 : German automaker Volkswagen Group has retained the car industry's top spot in global sales, beating its Japanese rival Toyota. Volkswagen's sales, including its MAN and Scania heavy trucks and buses, rose 0.9% to 10.83 million in 2018, the company had said. Toyota came second with around 10.6 million deliveries, including its affiliated brands Daihatsu and Hino, in 2018.\n",
      "요약 : Volkswagen's sales, including its MAN and Scania heavy trucks and buses, rose 0.9% to 10.83 million in 2018, the company had said.\n",
      "\n",
      "\n",
      "381\n",
      "원문 : Ousted Nissan Chairman Carlos Ghosn has said his arrest over alleged financial misconduct was led by \"plot and treason\" by the Japanese carmaker's executives who opposed its deeper integration with Renault and Mitsubishi. Ghosn added he had discussed the integration plans with Nissan's CEO in September, a month before his arrest. He further said he wouldn't flee if granted bail.\n",
      "요약 : Ousted Nissan Chairman Carlos Ghosn has said his arrest over alleged financial misconduct was led by \"plot and treason\" by the Japanese carmaker's executives who opposed its deeper integration with Renault and Mitsubishi.\n",
      "\n",
      "\n",
      "365\n",
      "원문 : The government has cut down customs duty on import of parts and components for electric vehicles to 10-15%, down from the previous 15-30%. The Central Board of Indirect Taxes and Customs said disassembled parts will attract 10% duty, whereas 15% will be levied on pre-assembled packs. However, fully built electric vehicles will continue to attract 25% import duty.\n",
      "요약 : The government has cut down customs duty on import of parts and components for electric vehicles to 10-15%, down from the previous 15-30%.\n",
      "\n",
      "\n",
      "353\n",
      "원문 : Government officials on Wednesday said that a swine flu outbreak has killed 76 people this year in Rajasthan. Colder weather has worsened the seasonal outbreak of the H1N1 virus in the country, officials added. Rajasthan recorded more than a third of all swine flu deaths in India with Jodhpur being the worst affected area in the state, officials said.\n",
      "요약 : Government officials on Wednesday said that a swine flu outbreak has killed 76 people this year in Rajasthan.\n",
      "\n",
      "\n",
      "375\n",
      "원문 : North Korea is \"unlikely to completely give up its nuclear weapons and production capabilities\", Director of US' National Intelligence, Daniel Coats, said. \"North Korean leaders view nuclear arms as critical to regime survival,\" he added. His statements come despite North Korea's agreement with the US at the Singapore summit last year to denuclearise the Korean Peninsula. \n",
      "요약 : \"North Korean leaders view nuclear arms as critical to regime survival,\" he added.\n",
      "\n",
      "\n",
      "353\n",
      "원문 : Jet Airways on Wednesday denied it was directed by GE Capital Aviation Services to ground its aircraft due to non-payment of dues. The airline said it's in the process of delivering three aircraft to lessors due to the expiry of lease terms. Further, three aircraft have been temporarily grounded to carry out an engine normalisation exercise, it added.\n",
      "요약 : Further, three aircraft have been temporarily grounded to carry out an engine normalisation exercise, it added.\n",
      "\n",
      "\n",
      "360\n",
      "원문 : Retired Justice Srikrishna's enquiry panel has found that ex-CEO Chanda Kochhar violated ICICI Bank's code of conduct. The bank said it'll treat Kochhar's exit as termination and will take back all bonuses paid to her from April 2009 until March 2018. The CBI recently filed a case against Kochhar, her husband, and Videocon MD in the ICICI-Videocon loan case.\n",
      "요약 : Retired Justice Srikrishna's enquiry panel has found that ex-CEO Chanda Kochhar violated ICICI Bank's code of conduct.\n",
      "\n",
      "\n",
      "378\n",
      "원문 : Ex-India cricketer Jacob Martin has been shifted to general ward from the ICU after being on a ventilator for nearly a month following a road accident, wherein he severely injured his lungs. Martin's wife Khyati mentioned there are chances that Jacob will be in hospital for two more months. BCCI, CSK and various cricketers provided financial assistance for Martin's treatment.\n",
      "요약 : Ex-India cricketer Jacob Martin has been shifted to general ward from the ICU after being on a ventilator for nearly a month following a road accident, wherein he severely injured his lungs.\n",
      "\n",
      "\n",
      "389\n",
      "원문 : Sri Lanka all-rounder Thisara Perera has written to Sri Lanka Cricket CEO Ashley de Silva, asking the board to intervene after ODI captain Lasith Malinga's wife Tanya targeted him on Facebook. Tanya accused Perera of meeting country's Sports Minister to secure his place in the team. \"We've become laughing stock of whole country...because of one person's personal vendetta,\" Perera wrote.\n",
      "요약 : Tanya accused Perera of meeting country's Sports Minister to secure his place in the team.\n",
      "\n",
      "\n",
      "365\n",
      "원문 : Goa CM and ex-Defence Minister Manohar Parrikar has written a letter to Congress President Rahul Gandhi over his claim that Parrikar told him he has nothing to do with new Rafale deal. Parrikar wrote, \"Kindly do not use your visit to an ailing person to feed political opportunism.\" In their five-minute meeting, they didn't discuss anything about Rafale, he added.\n",
      "요약 : Goa CM and ex-Defence Minister Manohar Parrikar has written a letter to Congress President Rahul Gandhi over his claim that Parrikar told him he has nothing to do with new Rafale deal.\n",
      "\n",
      "\n",
      "370\n",
      "원문 : Prime Minister Narendra Modi stopped his speech at the inauguration of the new terminal building at Surat airport after observing that a cameraman had fainted. PM Modi then asked his officers to urgently arrange for an ambulance for the cameraman. \"It's good that PM was paying attention to his surroundings during his speech,\" the cameraman later said from a hospital. \n",
      "요약 : PM Modi then asked his officers to urgently arrange for an ambulance for the cameraman.\n",
      "\n",
      "\n",
      "385\n",
      "원문 : A couple got divorced minutes after their wedding ceremony got over in Gujarat's Gondal as a disagreement broke out and relatives from both sides started throwing dishes at each other during lunch. The advocates representing both sides arrived at the marriage hall and got the couple divorced within minutes. The couple even reportedly returned the gifts exchanged during the ceremony.\n",
      "요약 : A couple got divorced minutes after their wedding ceremony got over in Gujarat's Gondal as a disagreement broke out and relatives from both sides started throwing dishes at each other during lunch.\n",
      "\n",
      "\n",
      "396\n",
      "원문 : Gujarat Education Minister Bhupendrasinh Chudasma has written a congratulatory message to a yoga ashram run by rape-convict Asaram's organisation for observing February 14 as \"Matru-Pitru Pujan Divas\" (Mother-Father worship day). After the Congress termed the letter as \"unfortunate\", saying it \"shows the nexus between BJP and godman\", Chudasma clarified, \"All I have done is sent best wishes.\" \n",
      "요약 : Gujarat Education Minister Bhupendrasinh Chudasma has written a congratulatory message to a yoga ashram run by rape-convict Asaram's organisation for observing February 14 as \"Matru-Pitru Pujan Divas\" (Mother-Father worship day).\n",
      "\n",
      "\n",
      "410\n",
      "원문 : Venezuelan President NicolÃÂ¡s Maduro has claimed that his American counterpart Donald Trump ordered the Colombian government and the Colombian mafia to kill him. \"If something happens to me, Trump and Colombian President IvÃÂ¡n MÃÂ¡rquez will bear responsibility,\" he added. The US has blamed Maduro for the economic crisis in Venezuela and recognised opposition leader Juan GuaidÃÂ³ as interim President.\n",
      "요약 : Venezuelan President NicolÃÂ¡s Maduro has claimed that his American counterpart Donald Trump ordered the Colombian government and the Colombian mafia to kill him.\n",
      "\n",
      "\n",
      "362\n",
      "원문 : Eight Asian billionaires aged 90 or above on the Bloomberg Billionaires Index of world's 500 richest people have a combined net worth of $125 billion. The richest among them is Hong Kong's Li Ka Shing with a net worth of $30.5 billion. India's 90-year-old Pallonji Mistry, who controls 18.3% of Tata Sons through Shapoorji Pallonji Group, is worth $20.1 billion.\n",
      "요약 : The richest among them is Hong Kong's Li Ka Shing with a net worth of $30.5 billion.\n",
      "\n",
      "\n",
      "360\n",
      "원문 : Tamil Nadu food safety officials on Wednesday raided and seized 1,000 kgs of banned plastic items from Hotel Saravana Bhavan in Chennai's Vadapalani. Officials began a surprise check in the branch at 8 am. The state government had banned single-use plastics from January 1 and said the banned items should be handed over at the offices of the city corporation.\n",
      "요약 : Tamil Nadu food safety officials on Wednesday raided and seized 1,000 kgs of banned plastic items from Hotel Saravana Bhavan in Chennai's Vadapalani.\n",
      "\n",
      "\n",
      "367\n",
      "원문 : Actress Shamita Shetty was verbally abused and her driver was slapped in an incident of road rage in Mumbai on Tuesday, as per reports. The incident reportedly took place after a motorist who was accompanied by two friends, rammed his vehicle into Shamita's car. The men allegedly manhandled and threatened Shamita's driver when he stepped out to inspect the damage. \n",
      "요약 : Actress Shamita Shetty was verbally abused and her driver was slapped in an incident of road rage in Mumbai on Tuesday, as per reports.\n",
      "\n",
      "\n",
      "354\n",
      "원문 : Actress Vaani Kapoor said that trolling has become a norm on social media, adding, \"There's no one who hasn't got trolled on social media.\" \"Everybody is out there to pull the other person down but it'll only bother [you] if you let it bother you,\" Vaani added. She further said, social media offers a platform \"where people enjoy belittling everybody\". \n",
      "요약 : \n",
      "\n",
      "\n",
      "334\n",
      "원문 : Actress Sushmita Sen took to Instagram to share a joke on the subject of marriage. \"Whoever invented marriage was creepy as hell. Like I love you so much IÃ¢ÂÂm gonna get the government involved so you canÃ¢ÂÂt leave,\" Sushmita's post read. \"This is an insult to [the] beauty of marriage,\" an Instagram user commented on her post.\n",
      "요약 : \"This is an insult to [the] beauty of marriage,\" an Instagram user commented on her post.\n",
      "\n",
      "\n",
      "335\n",
      "원문 : Television actor Karanvir Bohra, who flew to Russia on Tuesday to attend a film festival, has been detained in Moscow due to passport damage. \"They [are] contemplating to deport me back to India,\" the actor wrote on Twitter. The Indian embassy in Russia's capital responded to his tweet and said that they were looking into the issue. \n",
      "요약 : Television actor Karanvir Bohra, who flew to Russia on Tuesday to attend a film festival, has been detained in Moscow due to passport damage.\n",
      "\n",
      "\n",
      "298\n",
      "원문 : While speaking about winning awards for his films, Shah Rukh Khan said, \"If I don't get an award, that award is at a loss.\" \"Sometimes, the prestige of an award increases when I receive it,\" the actor jokingly added. Shah Rukh further said that he was \"extremely ambitious\" but in a \"fair manner\". \n",
      "요약 : While speaking about winning awards for his films, Shah Rukh Khan said, \"If I don't get an award, that award is at a loss.\" \"Sometimes, the prestige of an award increases when I receive it,\" the actor jokingly added.\n",
      "\n",
      "\n",
      "342\n",
      "원문 : Actress Patralekhaa will make her debut in the Kannada film industry with the action-comedy film 'Where is my Kannadaka?' \"I can definitely say that itÃ¢ÂÂs a kind of role that I havenÃ¢ÂÂt portrayed on screen so far and that makes it special for me,\" the actress said in a statement. Shooting for the film will reportedly begin in April.\n",
      "요약 : \n",
      "\n",
      "\n",
      "376\n",
      "원문 : Gmail on Tuesday faced a global outage, which also affected India, wherein certain users complained they faced a '404 error' message while trying to sign-in to their accounts. The error message read: \"The requested URL was not found on this server. That's all we know.\" Google responded saying \"problem with Gmail should be resolved (now). We apologise for the inconvenience\".\n",
      "요약 : Gmail on Tuesday faced a global outage, which also affected India, wherein certain users complained they faced a '404 error' message while trying to sign-in to their accounts.\n",
      "\n",
      "\n",
      "335\n",
      "원문 : Shiv Sena chief Uddhav Thackeray has asked the BJP to decide about the alliance with the Sena within 15 days and said the BJP should make a concrete proposal on the alliance. Thackeray added that only if the BJP agrees to Sena's terms and conditions, the party will agree for an alliance. Sena is free to fight independently, he said. \n",
      "요약 : Shiv Sena chief Uddhav Thackeray has asked the BJP to decide about the alliance with the Sena within 15 days and said the BJP should make a concrete proposal on the alliance.\n",
      "\n",
      "\n",
      "357\n",
      "원문 : BJP President Amit Shah on Wednesday took a dig at the Opposition's proposed grand alliance saying if the \"mahagathbandhan comes to power, each opposition leader will be a Prime Minister every day of the week\". He added, \"[The] country will go on...holiday on Sunday\". He said the Opposition is thinking about leading the country but does not have a leader.\n",
      "요약 : He said the Opposition is thinking about leading the country but does not have a leader.\n",
      "\n",
      "\n",
      "375\n",
      "원문 : Prime Minister Narendra Modi on Wednesday said his government's demonetisation decision made houses affordable for the aspiring youth. He added decisions like demonetisation and RERA have put a check on black money that used to be \"parked in the real estate sector\". He said 'UDAN' (Ude Desh ka Aam Nagrik) scheme has boosted the development of the country's aviation sector.\n",
      "요약 : He added decisions like demonetisation and RERA have put a check on black money that used to be \"parked in the real estate sector\".\n",
      "\n",
      "\n"
     ]
    }
   ],
   "source": [
    "# Extractive 요약 \n",
    "print(\"Extractive\")\n",
    "for i in range(50, 100):\n",
    "    text = data2.iloc[i,1]\n",
    "    print(len(text))\n",
    "    print(\"원문 :\", text)\n",
    "    print(\"요약 :\", summarize(text, words=20)) \n",
    "    print(\"\\n\")"
   ]
  },
  {
   "cell_type": "code",
   "execution_count": null,
   "id": "690947eb",
   "metadata": {},
   "outputs": [],
   "source": []
  },
  {
   "cell_type": "code",
   "execution_count": null,
   "id": "0b2fa488",
   "metadata": {},
   "outputs": [],
   "source": []
  },
  {
   "cell_type": "code",
   "execution_count": null,
   "id": "8b349392",
   "metadata": {},
   "outputs": [],
   "source": []
  },
  {
   "cell_type": "code",
   "execution_count": null,
   "id": "0cf6ad2f",
   "metadata": {},
   "outputs": [],
   "source": []
  },
  {
   "cell_type": "code",
   "execution_count": null,
   "id": "f679f536",
   "metadata": {},
   "outputs": [],
   "source": []
  },
  {
   "cell_type": "code",
   "execution_count": null,
   "id": "100af5a5",
   "metadata": {},
   "outputs": [],
   "source": []
  },
  {
   "cell_type": "code",
   "execution_count": null,
   "id": "55aaa336",
   "metadata": {},
   "outputs": [],
   "source": []
  }
 ],
 "metadata": {
  "kernelspec": {
   "display_name": "Python 3 (ipykernel)",
   "language": "python",
   "name": "python3"
  },
  "language_info": {
   "codemirror_mode": {
    "name": "ipython",
    "version": 3
   },
   "file_extension": ".py",
   "mimetype": "text/x-python",
   "name": "python",
   "nbconvert_exporter": "python",
   "pygments_lexer": "ipython3",
   "version": "3.9.7"
  }
 },
 "nbformat": 4,
 "nbformat_minor": 5
}
