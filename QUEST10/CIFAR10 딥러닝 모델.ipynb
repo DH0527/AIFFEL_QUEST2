{
 "cells": [
  {
   "cell_type": "code",
   "execution_count": 1,
   "id": "93c73a9e",
   "metadata": {},
   "outputs": [],
   "source": [
    "import matplotlib.pyplot as plt\n",
    "from sklearn.model_selection import train_test_split\n",
    "from tensorflow.keras import initializers, activations\n",
    "from tensorflow.keras import models, layers\n",
    "from tensorflow.keras.datasets import cifar10\n",
    "import matplotlib.pyplot as plt\n",
    "from tensorflow.keras import utils\n",
    "from tensorflow.keras import callbacks"
   ]
  },
  {
   "cell_type": "code",
   "execution_count": 2,
   "id": "3526fa46",
   "metadata": {},
   "outputs": [
    {
     "name": "stdout",
     "output_type": "stream",
     "text": [
      "Downloading data from https://www.cs.toronto.edu/~kriz/cifar-10-python.tar.gz\n",
      "170500096/170498071 [==============================] - 4s 0us/step\n",
      "170508288/170498071 [==============================] - 4s 0us/step\n",
      "전체 학습 데이터: (50000, 32, 32, 3) 레이블: (50000, 1)\n",
      "학습 데이터: (33500, 32, 32, 3) 레이블: (33500, 1)\n",
      "검증 데이터: (16500, 32, 32, 3) 레이블: (16500, 1)\n",
      "테스트 데이터: (10000, 32, 32, 3) 레이블: (10000, 1)\n"
     ]
    }
   ],
   "source": [
    "# 문제 3-1: cifar10 데이터셋을 로드하고, 훈련 데이터셋에서 20%를 검증 데이터셋으로 분리합니다.\n",
    "(x_train_full, y_train_full), (x_test, y_test) = cifar10.load_data()\n",
    "\n",
    "x_train, x_val, y_train, y_val = train_test_split(x_train_full, y_train_full, test_size=0.33, random_state=42)\n",
    "\n",
    "\n",
    "# 훈련, 검증, 테스트 데이터와 레이블 종류가 몇개인지 출력합니다.\n",
    "print(\"전체 학습 데이터: {} 레이블: {}\".format(x_train_full.shape, y_train_full.shape))\n",
    "print(\"학습 데이터: {} 레이블: {}\".format(x_train.shape, y_train.shape))\n",
    "print(\"검증 데이터: {} 레이블: {}\".format(x_val.shape, y_val.shape))\n",
    "print(\"테스트 데이터: {} 레이블: {}\".format(x_test.shape, y_test.shape))"
   ]
  },
  {
   "cell_type": "code",
   "execution_count": 3,
   "id": "553fbf11",
   "metadata": {},
   "outputs": [],
   "source": [
    "# cifar10의 분류에 해당하는 'airplane', 'automobile', 'bird', 'cat', 'deer', \n",
    "# 'dog', 'frog', 'horse', 'ship', 'truck'를 class_name으로 정의합니다.\n",
    "class_names = ['airplane', 'automobile', 'bird', 'cat', 'deer',\n",
    "               'dog', 'frog', 'horse', 'ship', 'truck']"
   ]
  },
  {
   "cell_type": "code",
   "execution_count": 4,
   "id": "e805a382",
   "metadata": {},
   "outputs": [
    {
     "data": {
      "image/png": "[encoded data removed]",
      "text/plain": [
       "<Figure size 432x288 with 2 Axes>"
      ]
     },
     "metadata": {},
     "output_type": "display_data"
    }
   ],
   "source": [
    "# 훈련 데이터의 0번째인 x_train[0]를 이미지로 시각화합니다.\n",
    "plt.style.use('seaborn-white')\n",
    "\n",
    "plt.figure()\n",
    "plt.imshow(x_train[0])\n",
    "plt.colorbar()\n",
    "plt.show()"
   ]
  },
  {
   "cell_type": "code",
   "execution_count": 5,
   "id": "5a9d101f",
   "metadata": {},
   "outputs": [
    {
     "name": "stdout",
     "output_type": "stream",
     "text": [
      "(33500, 32, 32, 3)\n",
      "(16500, 32, 32, 3)\n",
      "(10000, 32, 32, 3)\n"
     ]
    }
   ],
   "source": [
    "# 훈련, 검증, 테스트 데이터의 형태(shape)을 출력합니다.\n",
    "print(x_train.shape)\n",
    "print(x_val.shape)\n",
    "print(x_test.shape)"
   ]
  },
  {
   "cell_type": "code",
   "execution_count": 6,
   "id": "e6bc6e25",
   "metadata": {},
   "outputs": [
    {
     "name": "stdout",
     "output_type": "stream",
     "text": [
      "(33500, 3072)\n",
      "(16500, 3072)\n",
      "(10000, 3072)\n"
     ]
    }
   ],
   "source": [
    "# 문제 3-2: 훈련, 검증, 테스트 데이터의 형태(shape)을 32 * 32 * 3 = 3072로 변형합니다.\n",
    "x_train = x_train.reshape(-1, 3072)\n",
    "x_val = x_val.reshape(-1, 3072)\n",
    "x_test = x_test.reshape(-1, 3072)\n",
    "\n",
    "print(x_train.shape)\n",
    "print(x_val.shape)\n",
    "print(x_test.shape)"
   ]
  },
  {
   "cell_type": "code",
   "execution_count": 7,
   "id": "4c248d89",
   "metadata": {},
   "outputs": [],
   "source": [
    "# 훈련, 검증, 테스트 데이터를 255로 나누어 0~1 사이의 값으로 변환합니다.\n",
    "x_train = x_train / 255.\n",
    "x_val = x_val / 255.\n",
    "x_test = x_test / 255."
   ]
  },
  {
   "cell_type": "code",
   "execution_count": 12,
   "id": "86d6bfcd",
   "metadata": {},
   "outputs": [],
   "source": [
    "# 문제 3-3: BatchNormalization과 Dropout을 적용하여 빠른 학습과 과대적합을 방지하고,\n",
    "# 10개의 이미지를 분류하는 딥러닝 모델을 구성합니다.\n",
    "model = models.Sequential()\n",
    "model.add(layers.Input(shape=(x_train[1].shape)))\n",
    "model.add(layers.Dense(2048, kernel_regularizer='l2'))\n",
    "model.add(layers.BatchNormalization())\n",
    "model.add(layers.Activation('relu')) \n",
    "model.add(layers.Dense(1024, kernel_regularizer='l2'))\n",
    "model.add(layers.BatchNormalization())\n",
    "model.add(layers.Activation('relu')) \n",
    "model.add(layers.Dense(512, kernel_regularizer='l2'))\n",
    "model.add(layers.BatchNormalization())\n",
    "model.add(layers.Activation('relu'))    \n",
    "model.add(layers.Dense(10, activation='softmax'))"
   ]
  },
  {
   "cell_type": "code",
   "execution_count": 13,
   "id": "80332235",
   "metadata": {},
   "outputs": [
    {
     "name": "stdout",
     "output_type": "stream",
     "text": [
      "Model: \"sequential_1\"\n",
      "_________________________________________________________________\n",
      "Layer (type)                 Output Shape              Param #   \n",
      "=================================================================\n",
      "dense_4 (Dense)              (None, 2048)              6293504   \n",
      "_________________________________________________________________\n",
      "batch_normalization_3 (Batch (None, 2048)              8192      \n",
      "_________________________________________________________________\n",
      "activation_3 (Activation)    (None, 2048)              0         \n",
      "_________________________________________________________________\n",
      "dense_5 (Dense)              (None, 1024)              2098176   \n",
      "_________________________________________________________________\n",
      "batch_normalization_4 (Batch (None, 1024)              4096      \n",
      "_________________________________________________________________\n",
      "activation_4 (Activation)    (None, 1024)              0         \n",
      "_________________________________________________________________\n",
      "dense_6 (Dense)              (None, 512)               524800    \n",
      "_________________________________________________________________\n",
      "batch_normalization_5 (Batch (None, 512)               2048      \n",
      "_________________________________________________________________\n",
      "activation_5 (Activation)    (None, 512)               0         \n",
      "_________________________________________________________________\n",
      "dense_7 (Dense)              (None, 10)                5130      \n",
      "=================================================================\n",
      "Total params: 8,935,946\n",
      "Trainable params: 8,928,778\n",
      "Non-trainable params: 7,168\n",
      "_________________________________________________________________\n"
     ]
    }
   ],
   "source": [
    "model.summary()"
   ]
  },
  {
   "cell_type": "code",
   "execution_count": 14,
   "id": "7a77cead",
   "metadata": {},
   "outputs": [],
   "source": [
    "utils.plot_model(model, show_shapes=True)\n",
    "model.compile(loss='sparse_categorical_crossentropy',\n",
    "              optimizer='Adam',\n",
    "              metrics=['accuracy'])"
   ]
  },
  {
   "cell_type": "code",
   "execution_count": 15,
   "id": "7f848c7a",
   "metadata": {},
   "outputs": [
    {
     "name": "stdout",
     "output_type": "stream",
     "text": [
      "Epoch 1/100\n",
      "1047/1047 [==============================] - 10s 7ms/step - loss: 4.8148 - accuracy: 0.2626 - val_loss: 3.4066 - val_accuracy: 0.1550\n",
      "Epoch 2/100\n",
      "1047/1047 [==============================] - 7s 7ms/step - loss: 2.6996 - accuracy: 0.2439 - val_loss: 5.7972 - val_accuracy: 0.0902\n",
      "Epoch 3/100\n",
      "1047/1047 [==============================] - 7s 7ms/step - loss: 2.6801 - accuracy: 0.2500 - val_loss: 3.6498 - val_accuracy: 0.1659\n",
      "Epoch 4/100\n",
      "1047/1047 [==============================] - 7s 7ms/step - loss: 2.6130 - accuracy: 0.2628 - val_loss: 3.0582 - val_accuracy: 0.1624\n",
      "Epoch 5/100\n",
      "1047/1047 [==============================] - 7s 7ms/step - loss: 2.5101 - accuracy: 0.2857 - val_loss: 3.1017 - val_accuracy: 0.1162\n",
      "Epoch 6/100\n",
      "1047/1047 [==============================] - 7s 7ms/step - loss: 2.3623 - accuracy: 0.3080 - val_loss: 3.1848 - val_accuracy: 0.2078\n",
      "Epoch 7/100\n",
      "1047/1047 [==============================] - 7s 7ms/step - loss: 2.2204 - accuracy: 0.3275 - val_loss: 2.5695 - val_accuracy: 0.2212\n",
      "Epoch 8/100\n",
      "1047/1047 [==============================] - 7s 7ms/step - loss: 2.1084 - accuracy: 0.3432 - val_loss: 2.5342 - val_accuracy: 0.2060\n",
      "Epoch 9/100\n",
      "1047/1047 [==============================] - 7s 7ms/step - loss: 2.0221 - accuracy: 0.3543 - val_loss: 2.1950 - val_accuracy: 0.2779\n",
      "Epoch 10/100\n",
      "1047/1047 [==============================] - 7s 7ms/step - loss: 1.9521 - accuracy: 0.3676 - val_loss: 2.2942 - val_accuracy: 0.2370\n",
      "Epoch 11/100\n",
      "1047/1047 [==============================] - 7s 7ms/step - loss: 1.9063 - accuracy: 0.3775 - val_loss: 2.3961 - val_accuracy: 0.2554\n",
      "Epoch 12/100\n",
      "1047/1047 [==============================] - 7s 7ms/step - loss: 1.8837 - accuracy: 0.3788 - val_loss: 2.2695 - val_accuracy: 0.3062\n",
      "Epoch 13/100\n",
      "1047/1047 [==============================] - 7s 7ms/step - loss: 1.8626 - accuracy: 0.3867 - val_loss: 1.9062 - val_accuracy: 0.3691\n",
      "Epoch 14/100\n",
      "1047/1047 [==============================] - 7s 7ms/step - loss: 1.8492 - accuracy: 0.3909 - val_loss: 1.9489 - val_accuracy: 0.3438\n",
      "Epoch 15/100\n",
      "1047/1047 [==============================] - 7s 7ms/step - loss: 1.8374 - accuracy: 0.3894 - val_loss: 1.9856 - val_accuracy: 0.3357\n",
      "Epoch 16/100\n",
      "1047/1047 [==============================] - 7s 7ms/step - loss: 1.8343 - accuracy: 0.3938 - val_loss: 2.0467 - val_accuracy: 0.3300\n",
      "Epoch 17/100\n",
      "1047/1047 [==============================] - 7s 7ms/step - loss: 1.8327 - accuracy: 0.3940 - val_loss: 1.8644 - val_accuracy: 0.3654\n",
      "Epoch 18/100\n",
      "1047/1047 [==============================] - 7s 7ms/step - loss: 1.8228 - accuracy: 0.3938 - val_loss: 1.9486 - val_accuracy: 0.3545\n",
      "Epoch 19/100\n",
      "1047/1047 [==============================] - 7s 7ms/step - loss: 1.8236 - accuracy: 0.3957 - val_loss: 2.2123 - val_accuracy: 0.2796\n",
      "Epoch 20/100\n",
      "1047/1047 [==============================] - 7s 7ms/step - loss: 1.8188 - accuracy: 0.3991 - val_loss: 2.1610 - val_accuracy: 0.2804\n",
      "Epoch 21/100\n",
      "1047/1047 [==============================] - 7s 7ms/step - loss: 1.8137 - accuracy: 0.4000 - val_loss: 2.1950 - val_accuracy: 0.3086\n",
      "Epoch 22/100\n",
      "1047/1047 [==============================] - 7s 7ms/step - loss: 1.8080 - accuracy: 0.4041 - val_loss: 1.9481 - val_accuracy: 0.3495\n",
      "Epoch 23/100\n",
      "1047/1047 [==============================] - 7s 7ms/step - loss: 1.8147 - accuracy: 0.3989 - val_loss: 1.8332 - val_accuracy: 0.3887\n",
      "Epoch 24/100\n",
      "1047/1047 [==============================] - 7s 7ms/step - loss: 1.8091 - accuracy: 0.3997 - val_loss: 1.8664 - val_accuracy: 0.3658\n",
      "Epoch 25/100\n",
      "1047/1047 [==============================] - 7s 7ms/step - loss: 1.8059 - accuracy: 0.4030 - val_loss: 2.1293 - val_accuracy: 0.2979\n",
      "Epoch 26/100\n",
      "1047/1047 [==============================] - 7s 7ms/step - loss: 1.8013 - accuracy: 0.4036 - val_loss: 2.1935 - val_accuracy: 0.2910\n",
      "Epoch 27/100\n",
      "1047/1047 [==============================] - 7s 7ms/step - loss: 1.7993 - accuracy: 0.4033 - val_loss: 1.9888 - val_accuracy: 0.3419\n",
      "Epoch 28/100\n",
      "1047/1047 [==============================] - 7s 7ms/step - loss: 1.7958 - accuracy: 0.4065 - val_loss: 2.1357 - val_accuracy: 0.3024\n",
      "Epoch 29/100\n",
      "1047/1047 [==============================] - 7s 7ms/step - loss: 1.7974 - accuracy: 0.4075 - val_loss: 1.8122 - val_accuracy: 0.3924\n",
      "Epoch 30/100\n",
      "1047/1047 [==============================] - 7s 7ms/step - loss: 1.8043 - accuracy: 0.4004 - val_loss: 1.9857 - val_accuracy: 0.3299\n",
      "Epoch 31/100\n",
      "1047/1047 [==============================] - 7s 7ms/step - loss: 1.7999 - accuracy: 0.4005 - val_loss: 1.9671 - val_accuracy: 0.3399\n",
      "Epoch 32/100\n",
      "1047/1047 [==============================] - 7s 7ms/step - loss: 1.7938 - accuracy: 0.4060 - val_loss: 2.1441 - val_accuracy: 0.3125\n",
      "Epoch 33/100\n",
      "1047/1047 [==============================] - 7s 7ms/step - loss: 1.7893 - accuracy: 0.4049 - val_loss: 2.0862 - val_accuracy: 0.2943\n",
      "Epoch 34/100\n",
      "1047/1047 [==============================] - 7s 7ms/step - loss: 1.7911 - accuracy: 0.4057 - val_loss: 1.9470 - val_accuracy: 0.3425\n",
      "Epoch 35/100\n",
      "1047/1047 [==============================] - 7s 7ms/step - loss: 1.7892 - accuracy: 0.4057 - val_loss: 1.9808 - val_accuracy: 0.3433\n",
      "Epoch 36/100\n",
      "1047/1047 [==============================] - 7s 7ms/step - loss: 1.7901 - accuracy: 0.4078 - val_loss: 1.9607 - val_accuracy: 0.3441\n",
      "Epoch 37/100\n",
      "1047/1047 [==============================] - 7s 7ms/step - loss: 1.7880 - accuracy: 0.4066 - val_loss: 2.1818 - val_accuracy: 0.3006\n",
      "Epoch 38/100\n",
      "1047/1047 [==============================] - 7s 7ms/step - loss: 1.7880 - accuracy: 0.4071 - val_loss: 1.8678 - val_accuracy: 0.3845\n",
      "Epoch 39/100\n",
      "1047/1047 [==============================] - 7s 7ms/step - loss: 1.7859 - accuracy: 0.4101 - val_loss: 2.0411 - val_accuracy: 0.3430\n"
     ]
    }
   ],
   "source": [
    "# 문제 3-4: ModelCheckpoint와 EarlyStopping 콜백 함수를 적용하여 모델 학습을 진행합니다.\n",
    "check_point_cb = callbacks.ModelCheckpoint('fashion_mnist_model.h5', \n",
    "                                           save_best_only=True)\n",
    "                                           \n",
    "early_stopping_cb = callbacks.EarlyStopping(patience=10, \n",
    "                                            monitor='val_loss',\n",
    "                                            restore_best_weights=True)\n",
    "\n",
    "history = model.fit(x_train, y_train,\n",
    "                    epochs=100,\n",
    "                    validation_data=(x_val, y_val),\n",
    "                    callbacks=[check_point_cb, early_stopping_cb])  "
   ]
  },
  {
   "cell_type": "code",
   "execution_count": 16,
   "id": "e14b36ed",
   "metadata": {},
   "outputs": [
    {
     "data": {
      "image/png": "[encoded data removed]",
      "text/plain": [
       "<Figure size 864x360 with 2 Axes>"
      ]
     },
     "metadata": {},
     "output_type": "display_data"
    }
   ],
   "source": [
    "# 문제 3-5: 학습 히스토리의 `loss`, `val_loss`, `accuracy`, `val_accuracy`를 차트로 시각화합니다.\n",
    "plt.style.use('seaborn-white')\n",
    "\n",
    "history_dict = history.history\n",
    "\n",
    "loss = history_dict['loss']\n",
    "val_loss = history_dict['val_loss']\n",
    "\n",
    "epochs = range(1, len(loss) + 1)\n",
    "fig = plt.figure(figsize=(12, 5))\n",
    "\n",
    "ax1 = fig.add_subplot(1, 2, 1)\n",
    "ax1.plot(epochs, loss, 'b-', label='train_loss')\n",
    "ax1.plot(epochs, val_loss, 'r-', label='val_loss')\n",
    "ax1.set_title('Train and Validation Loss')\n",
    "ax1.set_xlabel('Epochs')\n",
    "ax1.set_ylabel('Loss')\n",
    "ax1.grid()\n",
    "ax1.legend()\n",
    "\n",
    "accuracy = history_dict['accuracy']\n",
    "val_accuracy = history_dict['val_accuracy']\n",
    "\n",
    "ax2 = fig.add_subplot(1, 2, 2)\n",
    "ax2.plot(epochs, accuracy, 'b-', label='train_accuracy')\n",
    "ax2.plot(epochs, val_accuracy, 'r-', label='val_accuracy')\n",
    "ax2.set_title('Train and Validation Accuracy')\n",
    "ax2.set_xlabel('Epochs')\n",
    "ax2.set_ylabel('Accuracy')\n",
    "ax2.grid()\n",
    "ax2.legend()\n",
    "\n",
    "plt.show()"
   ]
  },
  {
   "cell_type": "code",
   "execution_count": 17,
   "id": "37c9ba40",
   "metadata": {},
   "outputs": [
    {
     "name": "stdout",
     "output_type": "stream",
     "text": [
      "313/313 [==============================] - 1s 3ms/step - loss: 1.8060 - accuracy: 0.3962\n"
     ]
    },
    {
     "data": {
      "text/plain": [
       "[1.805967926979065, 0.3962000012397766]"
      ]
     },
     "execution_count": 17,
     "metadata": {},
     "output_type": "execute_result"
    }
   ],
   "source": [
    "# 테스트 데이터셋을 이용해 모델을 평가합니다.\n",
    "model.evaluate(x_test, y_test)"
   ]
  },
  {
   "cell_type": "code",
   "execution_count": null,
   "id": "c06fd280",
   "metadata": {},
   "outputs": [],
   "source": []
  }
 ],
 "metadata": {
  "kernelspec": {
   "display_name": "Python 3 (ipykernel)",
   "language": "python",
   "name": "python3"
  },
  "language_info": {
   "codemirror_mode": {
    "name": "ipython",
    "version": 3
   },
   "file_extension": ".py",
   "mimetype": "text/x-python",
   "name": "python",
   "nbconvert_exporter": "python",
   "pygments_lexer": "ipython3",
   "version": "3.9.7"
  }
 },
 "nbformat": 4,
 "nbformat_minor": 5
}
