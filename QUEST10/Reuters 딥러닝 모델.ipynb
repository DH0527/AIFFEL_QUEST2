{
 "cells": [
  {
   "cell_type": "code",
   "execution_count": 21,
   "id": "e3f4d657",
   "metadata": {},
   "outputs": [],
   "source": [
    "import numpy as np\n",
    "import matplotlib.pyplot as plt\n",
    "from sklearn.model_selection import train_test_split\n",
    "\n",
    "from tensorflow.keras import models, layers\n",
    "from tensorflow.keras import callbacks\n",
    "from tensorflow.keras import utils\n",
    "from keras.datasets import reuters\n",
    "from tensorflow.keras import initializers, activations"
   ]
  },
  {
   "cell_type": "code",
   "execution_count": 22,
   "id": "660aa2ce",
   "metadata": {
    "scrolled": true
   },
   "outputs": [
    {
     "name": "stdout",
     "output_type": "stream",
     "text": [
      "8982\n",
      "2246\n",
      "2246\n",
      "8982\n"
     ]
    }
   ],
   "source": [
    "# 문제 2-1: reuters 데이터셋을 로드하고, 훈련 데이터셋에서 25%를 검증 데이터셋으로 분리합니다.\n",
    "\n",
    "(train_data, train_labels), (test_data, val_data) = reuters.load_data(num_words=10000, test_split=0.2)\n",
    "\n",
    "# 훈련, 검증, 테스트 데이터와 레이블 종류가 몇 개인지 출력합니다.\n",
    "print(len(train_data))\n",
    "print(len(val_data))\n",
    "print(len(test_data))\n",
    "print(len(train_labels))\n"
   ]
  },
  {
   "cell_type": "code",
   "execution_count": 23,
   "id": "0c750a40",
   "metadata": {},
   "outputs": [],
   "source": [
    "# 문제 2-2: 텍스트 데이터의 전처리를 위해서 각 데이터셋마다 원-핫 인코딩을 수행합니다.\n",
    "def one_hot_encoding(data, dim=10000):\n",
    "    results = np.zeros((len(data), dim))\n",
    "    for i, d in enumerate(data):\n",
    "        results[i, d] = 1.\n",
    "    return results\n",
    "\n",
    "train_data = one_hot_encoding(train_data)\n",
    "test_data = one_hot_encoding(test_data)\n",
    "\n",
    "    \n",
    "# 레이블 데이터들은 범주형 형태로 to_categorical() 함수를 사용해 변환합니다.\n",
    "train_labels = utils.to_categorical(train_labels)\n",
    "val_data = utils.to_categorical(val_data)"
   ]
  },
  {
   "cell_type": "code",
   "execution_count": 24,
   "id": "7a4a457c",
   "metadata": {},
   "outputs": [],
   "source": [
    "# 문제 2-3: 빠른 학습과 과대적합을 방지하기 위해 BatchNormalization과 Dropout을 적용한 딥러닝 모델을 구성합니다.\n",
    "model = models.Sequential()\n",
    "model.add(layers.Input(shape=(10000, )))\n",
    "model.add(layers.Dense(128, kernel_initializer=initializers.GlorotUniform()))\n",
    "model.add(layers.BatchNormalization())\n",
    "model.add(layers.Activation('relu')) \n",
    "model.add(layers.Dense(128))\n",
    "model.add(layers.BatchNormalization())\n",
    "model.add(layers.Activation('relu')) \n",
    "model.add(layers.Dropout(0.5))    \n",
    "model.add(layers.Dense(46, activation='softmax'))"
   ]
  },
  {
   "cell_type": "code",
   "execution_count": 25,
   "id": "35f2f030",
   "metadata": {},
   "outputs": [
    {
     "name": "stdout",
     "output_type": "stream",
     "text": [
      "Model: \"sequential_2\"\n",
      "_________________________________________________________________\n",
      "Layer (type)                 Output Shape              Param #   \n",
      "=================================================================\n",
      "dense_6 (Dense)              (None, 128)               1280128   \n",
      "_________________________________________________________________\n",
      "batch_normalization_4 (Batch (None, 128)               512       \n",
      "_________________________________________________________________\n",
      "activation_4 (Activation)    (None, 128)               0         \n",
      "_________________________________________________________________\n",
      "dense_7 (Dense)              (None, 128)               16512     \n",
      "_________________________________________________________________\n",
      "batch_normalization_5 (Batch (None, 128)               512       \n",
      "_________________________________________________________________\n",
      "activation_5 (Activation)    (None, 128)               0         \n",
      "_________________________________________________________________\n",
      "dropout_2 (Dropout)          (None, 128)               0         \n",
      "_________________________________________________________________\n",
      "dense_8 (Dense)              (None, 46)                5934      \n",
      "=================================================================\n",
      "Total params: 1,303,598\n",
      "Trainable params: 1,303,086\n",
      "Non-trainable params: 512\n",
      "_________________________________________________________________\n"
     ]
    }
   ],
   "source": [
    "model.compile(optimizer='rmsprop',\n",
    "              loss='categorical_crossentropy',\n",
    "              metrics=['accuracy'])\n",
    "model.summary()"
   ]
  },
  {
   "cell_type": "code",
   "execution_count": 26,
   "id": "a201fcd4",
   "metadata": {},
   "outputs": [
    {
     "name": "stdout",
     "output_type": "stream",
     "text": [
      "Epoch 1/100\n",
      "281/281 [==============================] - 3s 7ms/step - loss: 1.4632 - accuracy: 0.6798 - val_loss: 1.0740 - val_accuracy: 0.7582\n",
      "Epoch 2/100\n",
      "281/281 [==============================] - 1s 5ms/step - loss: 0.8373 - accuracy: 0.8081 - val_loss: 1.0011 - val_accuracy: 0.7823\n",
      "Epoch 3/100\n",
      "281/281 [==============================] - 1s 5ms/step - loss: 0.6080 - accuracy: 0.8586 - val_loss: 1.0988 - val_accuracy: 0.7912\n",
      "Epoch 4/100\n",
      "281/281 [==============================] - 1s 5ms/step - loss: 0.4710 - accuracy: 0.8873 - val_loss: 1.2009 - val_accuracy: 0.7965\n",
      "Epoch 5/100\n",
      "281/281 [==============================] - 1s 5ms/step - loss: 0.3896 - accuracy: 0.9074 - val_loss: 1.2028 - val_accuracy: 0.8041\n",
      "Epoch 6/100\n",
      "281/281 [==============================] - 2s 5ms/step - loss: 0.3353 - accuracy: 0.9185 - val_loss: 1.2708 - val_accuracy: 0.7992\n",
      "Epoch 7/100\n",
      "281/281 [==============================] - 1s 5ms/step - loss: 0.3014 - accuracy: 0.9242 - val_loss: 1.3337 - val_accuracy: 0.7952\n",
      "Epoch 8/100\n",
      "281/281 [==============================] - 1s 5ms/step - loss: 0.2874 - accuracy: 0.9313 - val_loss: 1.4262 - val_accuracy: 0.7912\n",
      "Epoch 9/100\n",
      "281/281 [==============================] - 1s 5ms/step - loss: 0.2563 - accuracy: 0.9355 - val_loss: 1.4360 - val_accuracy: 0.7974\n",
      "Epoch 10/100\n",
      "281/281 [==============================] - 1s 5ms/step - loss: 0.2679 - accuracy: 0.9353 - val_loss: 1.5077 - val_accuracy: 0.7907\n",
      "Epoch 11/100\n",
      "281/281 [==============================] - 1s 5ms/step - loss: 0.2377 - accuracy: 0.9415 - val_loss: 1.5292 - val_accuracy: 0.7996\n",
      "Epoch 12/100\n",
      "281/281 [==============================] - 1s 5ms/step - loss: 0.2351 - accuracy: 0.9398 - val_loss: 1.6125 - val_accuracy: 0.7956\n"
     ]
    }
   ],
   "source": [
    "# 문제 2-4: ModelCheckpoint와 EarlyStopping 콜백 함수를 적용하여 모델 학습을 진행합니다.\n",
    "check_point_cb = callbacks.ModelCheckpoint('fashion_mnist_model.h5', \n",
    "                                           save_best_only=True)\n",
    "                                           \n",
    "early_stopping_cb = callbacks.EarlyStopping(patience=10, \n",
    "                                            monitor='val_loss',\n",
    "                                            restore_best_weights=True)\n",
    "\n",
    "history = model.fit(train_data, train_labels,\n",
    "                    epochs=100,\n",
    "                    validation_data=(test_data, val_data),\n",
    "                    callbacks=[check_point_cb, early_stopping_cb])  "
   ]
  },
  {
   "cell_type": "code",
   "execution_count": 27,
   "id": "822e0c9f",
   "metadata": {
    "scrolled": true
   },
   "outputs": [
    {
     "data": {
      "image/png": "[encoded data removed]",
      "text/plain": [
       "<Figure size 864x360 with 2 Axes>"
      ]
     },
     "metadata": {},
     "output_type": "display_data"
    }
   ],
   "source": [
    "# 학습 히스토리의 `loss`, `val_loss`, `accuracy`, `val_accuracy`를 차트로 시각화합니다.\n",
    "plt.style.use('seaborn-white')\n",
    "\n",
    "history_dict = history.history\n",
    "\n",
    "loss = history_dict['loss']\n",
    "val_loss = history_dict['val_loss']\n",
    "\n",
    "epochs = range(1, len(loss) + 1)\n",
    "fig = plt.figure(figsize=(12, 5))\n",
    "\n",
    "ax1 = fig.add_subplot(1, 2, 1)\n",
    "ax1.plot(epochs, loss, 'b-', label='train_loss')\n",
    "ax1.plot(epochs, val_loss, 'r-', label='val_loss')\n",
    "ax1.set_title('Train and Validation Loss')\n",
    "ax1.set_xlabel('Epochs')\n",
    "ax1.set_ylabel('Loss')\n",
    "ax1.grid()\n",
    "ax1.legend()\n",
    "\n",
    "accuracy = history_dict['accuracy']\n",
    "val_accuracy = history_dict['val_accuracy']\n",
    "\n",
    "ax2 = fig.add_subplot(1, 2, 2)\n",
    "ax2.plot(epochs, accuracy, 'b-', label='train_accuracy')\n",
    "ax2.plot(epochs, val_accuracy, 'r-', label='val_accuracy')\n",
    "ax2.set_title('Train and Validation Accuracy')\n",
    "ax2.set_xlabel('Epochs')\n",
    "ax2.set_ylabel('Accuracy')\n",
    "ax2.grid()\n",
    "ax2.legend()\n",
    "\n",
    "plt.show()"
   ]
  },
  {
   "cell_type": "code",
   "execution_count": 28,
   "id": "2ee79a1f",
   "metadata": {},
   "outputs": [
    {
     "name": "stdout",
     "output_type": "stream",
     "text": [
      "71/71 [==============================] - 0s 3ms/step - loss: 1.0011 - accuracy: 0.7823\n"
     ]
    },
    {
     "data": {
      "text/plain": [
       "[1.0010721683502197, 0.7822796106338501]"
      ]
     },
     "execution_count": 28,
     "metadata": {},
     "output_type": "execute_result"
    }
   ],
   "source": [
    "model.evaluate(test_data, val_data)"
   ]
  },
  {
   "cell_type": "code",
   "execution_count": null,
   "id": "f37a46fd",
   "metadata": {},
   "outputs": [],
   "source": []
  }
 ],
 "metadata": {
  "kernelspec": {
   "display_name": "Python 3 (ipykernel)",
   "language": "python",
   "name": "python3"
  },
  "language_info": {
   "codemirror_mode": {
    "name": "ipython",
    "version": 3
   },
   "file_extension": ".py",
   "mimetype": "text/x-python",
   "name": "python",
   "nbconvert_exporter": "python",
   "pygments_lexer": "ipython3",
   "version": "3.9.7"
  }
 },
 "nbformat": 4,
 "nbformat_minor": 5
}
